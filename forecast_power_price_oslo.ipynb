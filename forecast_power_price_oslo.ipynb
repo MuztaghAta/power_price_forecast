{
 "cells": [
  {
   "cell_type": "code",
   "execution_count": 246,
   "metadata": {},
   "outputs": [],
   "source": [
    "import numpy as np\n",
    "import pandas as pd\n",
    "from datetime import datetime, timedelta, date\n",
    "import matplotlib.pyplot as plt\n",
    "import seaborn as sns"
   ]
  },
  {
   "cell_type": "markdown",
   "metadata": {},
   "source": [
    "## Read price data into Pandas Dataframe\n",
    "\n",
    "It seems Pandas does not support rading data of .xls format, so I manually converted all the data files to .csv format and it works.\n",
    "\n",
    "It seems all the price data from 2013 to 2019 have similar format, e.g. column names and headers. So First, I read the price data of 2013 into Pandas Dataframe and reformat the data from plain text to formats suitable for analysis. Then apply the same methods to price data of other years."
   ]
  },
  {
   "cell_type": "code",
   "execution_count": 247,
   "metadata": {},
   "outputs": [
    {
     "data": {
      "text/html": [
       "<div>\n",
       "<style scoped>\n",
       "    .dataframe tbody tr th:only-of-type {\n",
       "        vertical-align: middle;\n",
       "    }\n",
       "\n",
       "    .dataframe tbody tr th {\n",
       "        vertical-align: top;\n",
       "    }\n",
       "\n",
       "    .dataframe thead th {\n",
       "        text-align: right;\n",
       "    }\n",
       "</style>\n",
       "<table border=\"1\" class=\"dataframe\">\n",
       "  <thead>\n",
       "    <tr style=\"text-align: right;\">\n",
       "      <th></th>\n",
       "      <th>Unnamed: 0</th>\n",
       "      <th>Hours</th>\n",
       "      <th>SYS</th>\n",
       "      <th>SE1</th>\n",
       "      <th>SE2</th>\n",
       "      <th>SE3</th>\n",
       "      <th>SE4</th>\n",
       "      <th>FI</th>\n",
       "      <th>DK1</th>\n",
       "      <th>DK2</th>\n",
       "      <th>Oslo</th>\n",
       "      <th>Kr.sand</th>\n",
       "      <th>Bergen</th>\n",
       "      <th>Molde</th>\n",
       "      <th>Tr.heim</th>\n",
       "      <th>Tromsø</th>\n",
       "      <th>EE</th>\n",
       "      <th>ELE</th>\n",
       "      <th>LV</th>\n",
       "      <th>LT</th>\n",
       "    </tr>\n",
       "  </thead>\n",
       "  <tbody>\n",
       "    <tr>\n",
       "      <th>0</th>\n",
       "      <td>1/1/2013</td>\n",
       "      <td>00 - 01</td>\n",
       "      <td>227,99</td>\n",
       "      <td>227,92</td>\n",
       "      <td>227,92</td>\n",
       "      <td>227,92</td>\n",
       "      <td>227,92</td>\n",
       "      <td>227,92</td>\n",
       "      <td>103,02</td>\n",
       "      <td>103,02</td>\n",
       "      <td>242,16</td>\n",
       "      <td>242,16</td>\n",
       "      <td>242,16</td>\n",
       "      <td>227,92</td>\n",
       "      <td>227,92</td>\n",
       "      <td>227,92</td>\n",
       "      <td>228,50</td>\n",
       "      <td>228,50</td>\n",
       "      <td>NaN</td>\n",
       "      <td>179,31</td>\n",
       "    </tr>\n",
       "    <tr>\n",
       "      <th>1</th>\n",
       "      <td>1/1/2013</td>\n",
       "      <td>01 - 02</td>\n",
       "      <td>223,73</td>\n",
       "      <td>202,00</td>\n",
       "      <td>202,00</td>\n",
       "      <td>202,00</td>\n",
       "      <td>202,00</td>\n",
       "      <td>202,00</td>\n",
       "      <td>81,21</td>\n",
       "      <td>81,21</td>\n",
       "      <td>242,09</td>\n",
       "      <td>242,09</td>\n",
       "      <td>242,09</td>\n",
       "      <td>226,23</td>\n",
       "      <td>226,23</td>\n",
       "      <td>226,23</td>\n",
       "      <td>224,76</td>\n",
       "      <td>224,76</td>\n",
       "      <td>NaN</td>\n",
       "      <td>173,43</td>\n",
       "    </tr>\n",
       "    <tr>\n",
       "      <th>2</th>\n",
       "      <td>1/1/2013</td>\n",
       "      <td>02 - 03</td>\n",
       "      <td>212,35</td>\n",
       "      <td>179,46</td>\n",
       "      <td>179,46</td>\n",
       "      <td>179,46</td>\n",
       "      <td>179,46</td>\n",
       "      <td>179,46</td>\n",
       "      <td>62,41</td>\n",
       "      <td>62,41</td>\n",
       "      <td>239,30</td>\n",
       "      <td>239,30</td>\n",
       "      <td>239,30</td>\n",
       "      <td>225,93</td>\n",
       "      <td>225,93</td>\n",
       "      <td>225,93</td>\n",
       "      <td>179,46</td>\n",
       "      <td>179,46</td>\n",
       "      <td>NaN</td>\n",
       "      <td>175,71</td>\n",
       "    </tr>\n",
       "    <tr>\n",
       "      <th>3</th>\n",
       "      <td>1/1/2013</td>\n",
       "      <td>03 - 04</td>\n",
       "      <td>204,71</td>\n",
       "      <td>160,14</td>\n",
       "      <td>160,14</td>\n",
       "      <td>160,14</td>\n",
       "      <td>160,14</td>\n",
       "      <td>160,14</td>\n",
       "      <td>0,73</td>\n",
       "      <td>0,73</td>\n",
       "      <td>231,52</td>\n",
       "      <td>231,52</td>\n",
       "      <td>231,52</td>\n",
       "      <td>225,49</td>\n",
       "      <td>225,49</td>\n",
       "      <td>225,49</td>\n",
       "      <td>160,14</td>\n",
       "      <td>160,14</td>\n",
       "      <td>NaN</td>\n",
       "      <td>175,12</td>\n",
       "    </tr>\n",
       "    <tr>\n",
       "      <th>4</th>\n",
       "      <td>1/1/2013</td>\n",
       "      <td>04 - 05</td>\n",
       "      <td>197,96</td>\n",
       "      <td>164,26</td>\n",
       "      <td>164,26</td>\n",
       "      <td>164,26</td>\n",
       "      <td>164,26</td>\n",
       "      <td>164,26</td>\n",
       "      <td>14,76</td>\n",
       "      <td>14,76</td>\n",
       "      <td>224,25</td>\n",
       "      <td>224,25</td>\n",
       "      <td>224,25</td>\n",
       "      <td>224,91</td>\n",
       "      <td>224,91</td>\n",
       "      <td>224,91</td>\n",
       "      <td>164,26</td>\n",
       "      <td>164,26</td>\n",
       "      <td>NaN</td>\n",
       "      <td>170,79</td>\n",
       "    </tr>\n",
       "  </tbody>\n",
       "</table>\n",
       "</div>"
      ],
      "text/plain": [
       "  Unnamed: 0    Hours     SYS     SE1     SE2     SE3     SE4      FI     DK1  \\\n",
       "0   1/1/2013  00 - 01  227,99  227,92  227,92  227,92  227,92  227,92  103,02   \n",
       "1   1/1/2013  01 - 02  223,73  202,00  202,00  202,00  202,00  202,00   81,21   \n",
       "2   1/1/2013  02 - 03  212,35  179,46  179,46  179,46  179,46  179,46   62,41   \n",
       "3   1/1/2013  03 - 04  204,71  160,14  160,14  160,14  160,14  160,14    0,73   \n",
       "4   1/1/2013  04 - 05  197,96  164,26  164,26  164,26  164,26  164,26   14,76   \n",
       "\n",
       "      DK2    Oslo Kr.sand  Bergen   Molde Tr.heim  Tromsø      EE     ELE  \\\n",
       "0  103,02  242,16  242,16  242,16  227,92  227,92  227,92  228,50  228,50   \n",
       "1   81,21  242,09  242,09  242,09  226,23  226,23  226,23  224,76  224,76   \n",
       "2   62,41  239,30  239,30  239,30  225,93  225,93  225,93  179,46  179,46   \n",
       "3    0,73  231,52  231,52  231,52  225,49  225,49  225,49  160,14  160,14   \n",
       "4   14,76  224,25  224,25  224,25  224,91  224,91  224,91  164,26  164,26   \n",
       "\n",
       "    LV      LT  \n",
       "0  NaN  179,31  \n",
       "1  NaN  173,43  \n",
       "2  NaN  175,71  \n",
       "3  NaN  175,12  \n",
       "4  NaN  170,79  "
      ]
     },
     "execution_count": 247,
     "metadata": {},
     "output_type": "execute_result"
    }
   ],
   "source": [
    "# Read in price data of 2013 into Pandas Dataframe\n",
    "data_path_2013 = r'data\\elspot-prices_2013_hourly_nok.csv'\n",
    "df = pd.read_csv(data_path_2013, skiprows=[0, 1], header=0)\n",
    "df.head()"
   ]
  },
  {
   "cell_type": "code",
   "execution_count": 248,
   "metadata": {},
   "outputs": [],
   "source": [
    "df = df.rename(columns={\"Unnamed: 0\": \"Date\", \"Hours\": \"Hour\"})"
   ]
  },
  {
   "cell_type": "markdown",
   "metadata": {},
   "source": [
    " Since we are going to forecast price for Oslo, I only read in price data for Oslo and ignore other areas."
   ]
  },
  {
   "cell_type": "code",
   "execution_count": 249,
   "metadata": {},
   "outputs": [],
   "source": [
    "df = df[[\"Date\", \"Hour\", \"Oslo\"]].rename(columns={\"Oslo\": \"Price\"})"
   ]
  },
  {
   "cell_type": "code",
   "execution_count": 250,
   "metadata": {},
   "outputs": [
    {
     "data": {
      "text/html": [
       "<div>\n",
       "<style scoped>\n",
       "    .dataframe tbody tr th:only-of-type {\n",
       "        vertical-align: middle;\n",
       "    }\n",
       "\n",
       "    .dataframe tbody tr th {\n",
       "        vertical-align: top;\n",
       "    }\n",
       "\n",
       "    .dataframe thead th {\n",
       "        text-align: right;\n",
       "    }\n",
       "</style>\n",
       "<table border=\"1\" class=\"dataframe\">\n",
       "  <thead>\n",
       "    <tr style=\"text-align: right;\">\n",
       "      <th></th>\n",
       "      <th>Date</th>\n",
       "      <th>Hour</th>\n",
       "      <th>Price</th>\n",
       "    </tr>\n",
       "  </thead>\n",
       "  <tbody>\n",
       "    <tr>\n",
       "      <th>0</th>\n",
       "      <td>1/1/2013</td>\n",
       "      <td>00 - 01</td>\n",
       "      <td>242,16</td>\n",
       "    </tr>\n",
       "    <tr>\n",
       "      <th>1</th>\n",
       "      <td>1/1/2013</td>\n",
       "      <td>01 - 02</td>\n",
       "      <td>242,09</td>\n",
       "    </tr>\n",
       "    <tr>\n",
       "      <th>2</th>\n",
       "      <td>1/1/2013</td>\n",
       "      <td>02 - 03</td>\n",
       "      <td>239,30</td>\n",
       "    </tr>\n",
       "    <tr>\n",
       "      <th>3</th>\n",
       "      <td>1/1/2013</td>\n",
       "      <td>03 - 04</td>\n",
       "      <td>231,52</td>\n",
       "    </tr>\n",
       "    <tr>\n",
       "      <th>4</th>\n",
       "      <td>1/1/2013</td>\n",
       "      <td>04 - 05</td>\n",
       "      <td>224,25</td>\n",
       "    </tr>\n",
       "  </tbody>\n",
       "</table>\n",
       "</div>"
      ],
      "text/plain": [
       "       Date     Hour   Price\n",
       "0  1/1/2013  00 - 01  242,16\n",
       "1  1/1/2013  01 - 02  242,09\n",
       "2  1/1/2013  02 - 03  239,30\n",
       "3  1/1/2013  03 - 04  231,52\n",
       "4  1/1/2013  04 - 05  224,25"
      ]
     },
     "execution_count": 250,
     "metadata": {},
     "output_type": "execute_result"
    }
   ],
   "source": [
    "df.head()"
   ]
  },
  {
   "cell_type": "markdown",
   "metadata": {},
   "source": [
    "Get an overview of the data."
   ]
  },
  {
   "cell_type": "code",
   "execution_count": 251,
   "metadata": {},
   "outputs": [
    {
     "name": "stdout",
     "output_type": "stream",
     "text": [
      "<class 'pandas.core.frame.DataFrame'>\n",
      "RangeIndex: 8761 entries, 0 to 8760\n",
      "Data columns (total 3 columns):\n",
      "Date     8761 non-null object\n",
      "Hour     8761 non-null object\n",
      "Price    8760 non-null object\n",
      "dtypes: object(3)\n",
      "memory usage: 205.5+ KB\n"
     ]
    }
   ],
   "source": [
    "df.info()"
   ]
  },
  {
   "cell_type": "markdown",
   "metadata": {},
   "source": [
    "Now we sould 1) convert Price column to float and 2) convert Hour column to int type and 3) convert the Date column to Datetime type.\n",
    "\n",
    "We can see that there is a missing value in Oslo price column. We will handle it later after price data for all years are loaded.\n",
    "\n",
    "Now we convert the Price column from object to float."
   ]
  },
  {
   "cell_type": "code",
   "execution_count": 252,
   "metadata": {},
   "outputs": [],
   "source": [
    "def str2float(s):\n",
    "    \"\"\"Convert number in string s format to float. \n",
    "    Assign NaN value if ValueError raised.\n",
    "    \"\"\"\n",
    "    try:\n",
    "        number = float('.'.join(s.split(',')))\n",
    "    except (ValueError, AttributeError):\n",
    "        number = np.nan\n",
    "    return number"
   ]
  },
  {
   "cell_type": "code",
   "execution_count": 253,
   "metadata": {},
   "outputs": [],
   "source": [
    "df['Price'] = df['Price'].apply(str2float)"
   ]
  },
  {
   "cell_type": "code",
   "execution_count": 254,
   "metadata": {},
   "outputs": [
    {
     "name": "stdout",
     "output_type": "stream",
     "text": [
      "<class 'pandas.core.frame.DataFrame'>\n",
      "RangeIndex: 8761 entries, 0 to 8760\n",
      "Data columns (total 3 columns):\n",
      "Date     8761 non-null object\n",
      "Hour     8761 non-null object\n",
      "Price    8760 non-null float64\n",
      "dtypes: float64(1), object(2)\n",
      "memory usage: 205.5+ KB\n"
     ]
    }
   ],
   "source": [
    "df.info()"
   ]
  },
  {
   "cell_type": "markdown",
   "metadata": {},
   "source": [
    "Convert Hour column to int type."
   ]
  },
  {
   "cell_type": "code",
   "execution_count": 255,
   "metadata": {},
   "outputs": [
    {
     "data": {
      "text/plain": [
       "array(['00\\xa0-\\xa001', '01\\xa0-\\xa002', '02\\xa0-\\xa003', '03\\xa0-\\xa004',\n",
       "       '04\\xa0-\\xa005', '05\\xa0-\\xa006', '06\\xa0-\\xa007', '07\\xa0-\\xa008',\n",
       "       '08\\xa0-\\xa009', '09\\xa0-\\xa010', '10\\xa0-\\xa011', '11\\xa0-\\xa012',\n",
       "       '12\\xa0-\\xa013', '13\\xa0-\\xa014', '14\\xa0-\\xa015', '15\\xa0-\\xa016',\n",
       "       '16\\xa0-\\xa017', '17\\xa0-\\xa018', '18\\xa0-\\xa019', '19\\xa0-\\xa020',\n",
       "       '20\\xa0-\\xa021', '21\\xa0-\\xa022', '22\\xa0-\\xa023', '23\\xa0-\\xa000'],\n",
       "      dtype=object)"
      ]
     },
     "execution_count": 255,
     "metadata": {},
     "output_type": "execute_result"
    }
   ],
   "source": [
    "df.Hour.unique()"
   ]
  },
  {
   "cell_type": "markdown",
   "metadata": {},
   "source": [
    "The Hour column shows which hour of the day the electricity prices are about. Reformat it from object to int. The new 'Hour' starts from 0 and end at 23."
   ]
  },
  {
   "cell_type": "code",
   "execution_count": 256,
   "metadata": {},
   "outputs": [
    {
     "data": {
      "text/html": [
       "<div>\n",
       "<style scoped>\n",
       "    .dataframe tbody tr th:only-of-type {\n",
       "        vertical-align: middle;\n",
       "    }\n",
       "\n",
       "    .dataframe tbody tr th {\n",
       "        vertical-align: top;\n",
       "    }\n",
       "\n",
       "    .dataframe thead th {\n",
       "        text-align: right;\n",
       "    }\n",
       "</style>\n",
       "<table border=\"1\" class=\"dataframe\">\n",
       "  <thead>\n",
       "    <tr style=\"text-align: right;\">\n",
       "      <th></th>\n",
       "      <th>Date</th>\n",
       "      <th>Hour</th>\n",
       "      <th>Price</th>\n",
       "    </tr>\n",
       "  </thead>\n",
       "  <tbody>\n",
       "    <tr>\n",
       "      <th>0</th>\n",
       "      <td>1/1/2013</td>\n",
       "      <td>0</td>\n",
       "      <td>242.16</td>\n",
       "    </tr>\n",
       "    <tr>\n",
       "      <th>1</th>\n",
       "      <td>1/1/2013</td>\n",
       "      <td>1</td>\n",
       "      <td>242.09</td>\n",
       "    </tr>\n",
       "    <tr>\n",
       "      <th>2</th>\n",
       "      <td>1/1/2013</td>\n",
       "      <td>2</td>\n",
       "      <td>239.30</td>\n",
       "    </tr>\n",
       "    <tr>\n",
       "      <th>3</th>\n",
       "      <td>1/1/2013</td>\n",
       "      <td>3</td>\n",
       "      <td>231.52</td>\n",
       "    </tr>\n",
       "    <tr>\n",
       "      <th>4</th>\n",
       "      <td>1/1/2013</td>\n",
       "      <td>4</td>\n",
       "      <td>224.25</td>\n",
       "    </tr>\n",
       "  </tbody>\n",
       "</table>\n",
       "</div>"
      ],
      "text/plain": [
       "       Date  Hour   Price\n",
       "0  1/1/2013     0  242.16\n",
       "1  1/1/2013     1  242.09\n",
       "2  1/1/2013     2  239.30\n",
       "3  1/1/2013     3  231.52\n",
       "4  1/1/2013     4  224.25"
      ]
     },
     "execution_count": 256,
     "metadata": {},
     "output_type": "execute_result"
    }
   ],
   "source": [
    "df.Hour = df.Hour.apply(lambda x: x[:2]).astype(int)\n",
    "df.head()"
   ]
  },
  {
   "cell_type": "markdown",
   "metadata": {},
   "source": [
    "convert the Date column to Datetime type."
   ]
  },
  {
   "cell_type": "code",
   "execution_count": 257,
   "metadata": {},
   "outputs": [],
   "source": [
    "df['Date'] = df['Date'].apply(lambda x: pd.to_datetime(x, dayfirst=True))"
   ]
  },
  {
   "cell_type": "code",
   "execution_count": 258,
   "metadata": {},
   "outputs": [
    {
     "data": {
      "text/html": [
       "<div>\n",
       "<style scoped>\n",
       "    .dataframe tbody tr th:only-of-type {\n",
       "        vertical-align: middle;\n",
       "    }\n",
       "\n",
       "    .dataframe tbody tr th {\n",
       "        vertical-align: top;\n",
       "    }\n",
       "\n",
       "    .dataframe thead th {\n",
       "        text-align: right;\n",
       "    }\n",
       "</style>\n",
       "<table border=\"1\" class=\"dataframe\">\n",
       "  <thead>\n",
       "    <tr style=\"text-align: right;\">\n",
       "      <th></th>\n",
       "      <th>Date</th>\n",
       "      <th>Hour</th>\n",
       "      <th>Price</th>\n",
       "    </tr>\n",
       "  </thead>\n",
       "  <tbody>\n",
       "    <tr>\n",
       "      <th>0</th>\n",
       "      <td>2013-01-01</td>\n",
       "      <td>0</td>\n",
       "      <td>242.16</td>\n",
       "    </tr>\n",
       "    <tr>\n",
       "      <th>1</th>\n",
       "      <td>2013-01-01</td>\n",
       "      <td>1</td>\n",
       "      <td>242.09</td>\n",
       "    </tr>\n",
       "    <tr>\n",
       "      <th>2</th>\n",
       "      <td>2013-01-01</td>\n",
       "      <td>2</td>\n",
       "      <td>239.30</td>\n",
       "    </tr>\n",
       "    <tr>\n",
       "      <th>3</th>\n",
       "      <td>2013-01-01</td>\n",
       "      <td>3</td>\n",
       "      <td>231.52</td>\n",
       "    </tr>\n",
       "    <tr>\n",
       "      <th>4</th>\n",
       "      <td>2013-01-01</td>\n",
       "      <td>4</td>\n",
       "      <td>224.25</td>\n",
       "    </tr>\n",
       "  </tbody>\n",
       "</table>\n",
       "</div>"
      ],
      "text/plain": [
       "        Date  Hour   Price\n",
       "0 2013-01-01     0  242.16\n",
       "1 2013-01-01     1  242.09\n",
       "2 2013-01-01     2  239.30\n",
       "3 2013-01-01     3  231.52\n",
       "4 2013-01-01     4  224.25"
      ]
     },
     "execution_count": 258,
     "metadata": {},
     "output_type": "execute_result"
    }
   ],
   "source": [
    "df.head()"
   ]
  },
  {
   "cell_type": "markdown",
   "metadata": {},
   "source": [
    "Do some random check to see if the data is the same with the original data."
   ]
  },
  {
   "cell_type": "code",
   "execution_count": 259,
   "metadata": {},
   "outputs": [
    {
     "data": {
      "text/html": [
       "<div>\n",
       "<style scoped>\n",
       "    .dataframe tbody tr th:only-of-type {\n",
       "        vertical-align: middle;\n",
       "    }\n",
       "\n",
       "    .dataframe tbody tr th {\n",
       "        vertical-align: top;\n",
       "    }\n",
       "\n",
       "    .dataframe thead th {\n",
       "        text-align: right;\n",
       "    }\n",
       "</style>\n",
       "<table border=\"1\" class=\"dataframe\">\n",
       "  <thead>\n",
       "    <tr style=\"text-align: right;\">\n",
       "      <th></th>\n",
       "      <th>Date</th>\n",
       "      <th>Hour</th>\n",
       "      <th>Price</th>\n",
       "    </tr>\n",
       "  </thead>\n",
       "  <tbody>\n",
       "    <tr>\n",
       "      <th>8558</th>\n",
       "      <td>2013-12-23</td>\n",
       "      <td>13</td>\n",
       "      <td>264.49</td>\n",
       "    </tr>\n",
       "    <tr>\n",
       "      <th>4137</th>\n",
       "      <td>2013-06-22</td>\n",
       "      <td>9</td>\n",
       "      <td>173.86</td>\n",
       "    </tr>\n",
       "    <tr>\n",
       "      <th>6203</th>\n",
       "      <td>2013-09-16</td>\n",
       "      <td>11</td>\n",
       "      <td>282.64</td>\n",
       "    </tr>\n",
       "    <tr>\n",
       "      <th>4876</th>\n",
       "      <td>2013-07-23</td>\n",
       "      <td>4</td>\n",
       "      <td>242.18</td>\n",
       "    </tr>\n",
       "    <tr>\n",
       "      <th>4637</th>\n",
       "      <td>2013-07-13</td>\n",
       "      <td>5</td>\n",
       "      <td>234.20</td>\n",
       "    </tr>\n",
       "  </tbody>\n",
       "</table>\n",
       "</div>"
      ],
      "text/plain": [
       "           Date  Hour   Price\n",
       "8558 2013-12-23    13  264.49\n",
       "4137 2013-06-22     9  173.86\n",
       "6203 2013-09-16    11  282.64\n",
       "4876 2013-07-23     4  242.18\n",
       "4637 2013-07-13     5  234.20"
      ]
     },
     "execution_count": 259,
     "metadata": {},
     "output_type": "execute_result"
    }
   ],
   "source": [
    "df.sample(5)"
   ]
  },
  {
   "cell_type": "markdown",
   "metadata": {},
   "source": [
    "Now the data format looks good and ready for analysis. We apply the same steps for the price data of 2014 - 2019, and concatenate them into a single Dataframe."
   ]
  },
  {
   "cell_type": "code",
   "execution_count": 260,
   "metadata": {},
   "outputs": [],
   "source": [
    "for year in range(2014, 2020):\n",
    "    data_path = r'data\\elspot-prices_{}_hourly_nok.csv'.format(year)\n",
    "    df_ = pd.read_csv(data_path, skiprows=[0, 1], header=0)\n",
    "    df_ = df_.rename(columns={\"Unnamed: 0\": \"Date\", \"Hours\": \"Hour\"})\n",
    "    df_ = df_[[\"Date\", \"Hour\", \"Oslo\"]].rename(columns={\"Oslo\": \"Price\"})\n",
    "    df_['Price'] = df_['Price'].apply(str2float)\n",
    "    df_['Hour'] = df_['Hour'].apply(lambda x: x[:2]).astype(int)\n",
    "    df_['Date'] = df_['Date'].apply(lambda x: pd.to_datetime(x, dayfirst=True))\n",
    "    df = pd.concat([df, df_], ignore_index=True)"
   ]
  },
  {
   "cell_type": "markdown",
   "metadata": {},
   "source": [
    "Add the Hour information to the Date column and rename the resulting column to Time."
   ]
  },
  {
   "cell_type": "code",
   "execution_count": 261,
   "metadata": {},
   "outputs": [],
   "source": [
    "ds_time = df.apply(lambda row: row.Date.replace(hour=row.Hour),\n",
    "                   axis=1).rename('Time')\n",
    "df = pd.concat([ds_time, df], axis=1).drop(columns=['Date', 'Hour'])"
   ]
  },
  {
   "cell_type": "code",
   "execution_count": 262,
   "metadata": {},
   "outputs": [
    {
     "data": {
      "text/html": [
       "<div>\n",
       "<style scoped>\n",
       "    .dataframe tbody tr th:only-of-type {\n",
       "        vertical-align: middle;\n",
       "    }\n",
       "\n",
       "    .dataframe tbody tr th {\n",
       "        vertical-align: top;\n",
       "    }\n",
       "\n",
       "    .dataframe thead th {\n",
       "        text-align: right;\n",
       "    }\n",
       "</style>\n",
       "<table border=\"1\" class=\"dataframe\">\n",
       "  <thead>\n",
       "    <tr style=\"text-align: right;\">\n",
       "      <th></th>\n",
       "      <th>Time</th>\n",
       "      <th>Price</th>\n",
       "    </tr>\n",
       "  </thead>\n",
       "  <tbody>\n",
       "    <tr>\n",
       "      <th>0</th>\n",
       "      <td>2013-01-01 00:00:00</td>\n",
       "      <td>242.16</td>\n",
       "    </tr>\n",
       "    <tr>\n",
       "      <th>1</th>\n",
       "      <td>2013-01-01 01:00:00</td>\n",
       "      <td>242.09</td>\n",
       "    </tr>\n",
       "    <tr>\n",
       "      <th>2</th>\n",
       "      <td>2013-01-01 02:00:00</td>\n",
       "      <td>239.30</td>\n",
       "    </tr>\n",
       "    <tr>\n",
       "      <th>3</th>\n",
       "      <td>2013-01-01 03:00:00</td>\n",
       "      <td>231.52</td>\n",
       "    </tr>\n",
       "    <tr>\n",
       "      <th>4</th>\n",
       "      <td>2013-01-01 04:00:00</td>\n",
       "      <td>224.25</td>\n",
       "    </tr>\n",
       "  </tbody>\n",
       "</table>\n",
       "</div>"
      ],
      "text/plain": [
       "                 Time   Price\n",
       "0 2013-01-01 00:00:00  242.16\n",
       "1 2013-01-01 01:00:00  242.09\n",
       "2 2013-01-01 02:00:00  239.30\n",
       "3 2013-01-01 03:00:00  231.52\n",
       "4 2013-01-01 04:00:00  224.25"
      ]
     },
     "execution_count": 262,
     "metadata": {},
     "output_type": "execute_result"
    }
   ],
   "source": [
    "df.head()"
   ]
  },
  {
   "cell_type": "markdown",
   "metadata": {},
   "source": [
    "Again, do some random check againt data in the original data files to see if the data is the same with the original data."
   ]
  },
  {
   "cell_type": "code",
   "execution_count": 263,
   "metadata": {},
   "outputs": [
    {
     "data": {
      "text/html": [
       "<div>\n",
       "<style scoped>\n",
       "    .dataframe tbody tr th:only-of-type {\n",
       "        vertical-align: middle;\n",
       "    }\n",
       "\n",
       "    .dataframe tbody tr th {\n",
       "        vertical-align: top;\n",
       "    }\n",
       "\n",
       "    .dataframe thead th {\n",
       "        text-align: right;\n",
       "    }\n",
       "</style>\n",
       "<table border=\"1\" class=\"dataframe\">\n",
       "  <thead>\n",
       "    <tr style=\"text-align: right;\">\n",
       "      <th></th>\n",
       "      <th>Time</th>\n",
       "      <th>Price</th>\n",
       "    </tr>\n",
       "  </thead>\n",
       "  <tbody>\n",
       "    <tr>\n",
       "      <th>29454</th>\n",
       "      <td>2016-05-12 03:00:00</td>\n",
       "      <td>166.40</td>\n",
       "    </tr>\n",
       "    <tr>\n",
       "      <th>8160</th>\n",
       "      <td>2013-12-06 23:00:00</td>\n",
       "      <td>278.45</td>\n",
       "    </tr>\n",
       "    <tr>\n",
       "      <th>60481</th>\n",
       "      <td>2019-11-25 18:00:00</td>\n",
       "      <td>452.78</td>\n",
       "    </tr>\n",
       "    <tr>\n",
       "      <th>3873</th>\n",
       "      <td>2013-06-11 09:00:00</td>\n",
       "      <td>310.11</td>\n",
       "    </tr>\n",
       "    <tr>\n",
       "      <th>30465</th>\n",
       "      <td>2016-06-23 06:00:00</td>\n",
       "      <td>231.49</td>\n",
       "    </tr>\n",
       "  </tbody>\n",
       "</table>\n",
       "</div>"
      ],
      "text/plain": [
       "                     Time   Price\n",
       "29454 2016-05-12 03:00:00  166.40\n",
       "8160  2013-12-06 23:00:00  278.45\n",
       "60481 2019-11-25 18:00:00  452.78\n",
       "3873  2013-06-11 09:00:00  310.11\n",
       "30465 2016-06-23 06:00:00  231.49"
      ]
     },
     "execution_count": 263,
     "metadata": {},
     "output_type": "execute_result"
    }
   ],
   "source": [
    "df.sample(5)"
   ]
  },
  {
   "cell_type": "markdown",
   "metadata": {},
   "source": [
    "After check the random samples are the same with the original data. Now save the Dataframe for future use."
   ]
  },
  {
   "cell_type": "code",
   "execution_count": 264,
   "metadata": {},
   "outputs": [],
   "source": [
    "# df.to_json('elspot_hourly_price_oslo_13-19_dt.json')"
   ]
  },
  {
   "cell_type": "markdown",
   "metadata": {},
   "source": [
    "## Data cleaning: missing values, duplicates, and outliers"
   ]
  },
  {
   "cell_type": "code",
   "execution_count": 265,
   "metadata": {},
   "outputs": [
    {
     "name": "stdout",
     "output_type": "stream",
     "text": [
      "<class 'pandas.core.frame.DataFrame'>\n",
      "RangeIndex: 61039 entries, 0 to 61038\n",
      "Data columns (total 2 columns):\n",
      "Time     61039 non-null datetime64[ns]\n",
      "Price    61032 non-null float64\n",
      "dtypes: datetime64[ns](1), float64(1)\n",
      "memory usage: 953.9 KB\n"
     ]
    }
   ],
   "source": [
    "df.info()"
   ]
  },
  {
   "cell_type": "markdown",
   "metadata": {},
   "source": [
    "We can see there are 7 missing values in the Price column. Have a look at the corresponding rows."
   ]
  },
  {
   "cell_type": "code",
   "execution_count": 266,
   "metadata": {},
   "outputs": [
    {
     "data": {
      "text/html": [
       "<div>\n",
       "<style scoped>\n",
       "    .dataframe tbody tr th:only-of-type {\n",
       "        vertical-align: middle;\n",
       "    }\n",
       "\n",
       "    .dataframe tbody tr th {\n",
       "        vertical-align: top;\n",
       "    }\n",
       "\n",
       "    .dataframe thead th {\n",
       "        text-align: right;\n",
       "    }\n",
       "</style>\n",
       "<table border=\"1\" class=\"dataframe\">\n",
       "  <thead>\n",
       "    <tr style=\"text-align: right;\">\n",
       "      <th></th>\n",
       "      <th>Time</th>\n",
       "      <th>Price</th>\n",
       "    </tr>\n",
       "  </thead>\n",
       "  <tbody>\n",
       "    <tr>\n",
       "      <th>2138</th>\n",
       "      <td>2013-03-31 02:00:00</td>\n",
       "      <td>NaN</td>\n",
       "    </tr>\n",
       "    <tr>\n",
       "      <th>10875</th>\n",
       "      <td>2014-03-30 02:00:00</td>\n",
       "      <td>NaN</td>\n",
       "    </tr>\n",
       "    <tr>\n",
       "      <th>19612</th>\n",
       "      <td>2015-03-29 02:00:00</td>\n",
       "      <td>NaN</td>\n",
       "    </tr>\n",
       "    <tr>\n",
       "      <th>28349</th>\n",
       "      <td>2016-03-27 02:00:00</td>\n",
       "      <td>NaN</td>\n",
       "    </tr>\n",
       "    <tr>\n",
       "      <th>37086</th>\n",
       "      <td>2017-03-26 02:00:00</td>\n",
       "      <td>NaN</td>\n",
       "    </tr>\n",
       "    <tr>\n",
       "      <th>45823</th>\n",
       "      <td>2018-03-25 02:00:00</td>\n",
       "      <td>NaN</td>\n",
       "    </tr>\n",
       "    <tr>\n",
       "      <th>54728</th>\n",
       "      <td>2019-03-31 02:00:00</td>\n",
       "      <td>NaN</td>\n",
       "    </tr>\n",
       "  </tbody>\n",
       "</table>\n",
       "</div>"
      ],
      "text/plain": [
       "                     Time  Price\n",
       "2138  2013-03-31 02:00:00    NaN\n",
       "10875 2014-03-30 02:00:00    NaN\n",
       "19612 2015-03-29 02:00:00    NaN\n",
       "28349 2016-03-27 02:00:00    NaN\n",
       "37086 2017-03-26 02:00:00    NaN\n",
       "45823 2018-03-25 02:00:00    NaN\n",
       "54728 2019-03-31 02:00:00    NaN"
      ]
     },
     "execution_count": 266,
     "metadata": {},
     "output_type": "execute_result"
    }
   ],
   "source": [
    "df[df.Price.isnull()]"
   ]
  },
  {
   "cell_type": "markdown",
   "metadata": {},
   "source": [
    "It is interesting that the missing values are about the same hour, i.e. 2 o'clock, on the end of March of every year. It does not look like randomly missing. Now let's look at the data of the periods around these timestamps, to see if we can find why they are missing. For example, are they duplicated timestamps or not."
   ]
  },
  {
   "cell_type": "code",
   "execution_count": 267,
   "metadata": {},
   "outputs": [
    {
     "data": {
      "text/html": [
       "<div>\n",
       "<style scoped>\n",
       "    .dataframe tbody tr th:only-of-type {\n",
       "        vertical-align: middle;\n",
       "    }\n",
       "\n",
       "    .dataframe tbody tr th {\n",
       "        vertical-align: top;\n",
       "    }\n",
       "\n",
       "    .dataframe thead th {\n",
       "        text-align: right;\n",
       "    }\n",
       "</style>\n",
       "<table border=\"1\" class=\"dataframe\">\n",
       "  <thead>\n",
       "    <tr style=\"text-align: right;\">\n",
       "      <th></th>\n",
       "      <th>Time</th>\n",
       "      <th>Price</th>\n",
       "    </tr>\n",
       "  </thead>\n",
       "  <tbody>\n",
       "    <tr>\n",
       "      <th>2137</th>\n",
       "      <td>2013-03-31 01:00:00</td>\n",
       "      <td>357.66</td>\n",
       "    </tr>\n",
       "    <tr>\n",
       "      <th>2138</th>\n",
       "      <td>2013-03-31 02:00:00</td>\n",
       "      <td>NaN</td>\n",
       "    </tr>\n",
       "    <tr>\n",
       "      <th>2139</th>\n",
       "      <td>2013-03-31 03:00:00</td>\n",
       "      <td>356.84</td>\n",
       "    </tr>\n",
       "    <tr>\n",
       "      <th>10874</th>\n",
       "      <td>2014-03-30 01:00:00</td>\n",
       "      <td>214.19</td>\n",
       "    </tr>\n",
       "    <tr>\n",
       "      <th>10875</th>\n",
       "      <td>2014-03-30 02:00:00</td>\n",
       "      <td>NaN</td>\n",
       "    </tr>\n",
       "    <tr>\n",
       "      <th>10876</th>\n",
       "      <td>2014-03-30 03:00:00</td>\n",
       "      <td>202.03</td>\n",
       "    </tr>\n",
       "    <tr>\n",
       "      <th>19611</th>\n",
       "      <td>2015-03-29 01:00:00</td>\n",
       "      <td>194.43</td>\n",
       "    </tr>\n",
       "    <tr>\n",
       "      <th>19612</th>\n",
       "      <td>2015-03-29 02:00:00</td>\n",
       "      <td>NaN</td>\n",
       "    </tr>\n",
       "    <tr>\n",
       "      <th>19613</th>\n",
       "      <td>2015-03-29 03:00:00</td>\n",
       "      <td>190.69</td>\n",
       "    </tr>\n",
       "    <tr>\n",
       "      <th>28348</th>\n",
       "      <td>2016-03-27 01:00:00</td>\n",
       "      <td>146.67</td>\n",
       "    </tr>\n",
       "    <tr>\n",
       "      <th>28349</th>\n",
       "      <td>2016-03-27 02:00:00</td>\n",
       "      <td>NaN</td>\n",
       "    </tr>\n",
       "    <tr>\n",
       "      <th>28350</th>\n",
       "      <td>2016-03-27 03:00:00</td>\n",
       "      <td>151.59</td>\n",
       "    </tr>\n",
       "    <tr>\n",
       "      <th>37085</th>\n",
       "      <td>2017-03-26 01:00:00</td>\n",
       "      <td>257.12</td>\n",
       "    </tr>\n",
       "    <tr>\n",
       "      <th>37086</th>\n",
       "      <td>2017-03-26 02:00:00</td>\n",
       "      <td>NaN</td>\n",
       "    </tr>\n",
       "    <tr>\n",
       "      <th>37087</th>\n",
       "      <td>2017-03-26 03:00:00</td>\n",
       "      <td>255.38</td>\n",
       "    </tr>\n",
       "    <tr>\n",
       "      <th>45822</th>\n",
       "      <td>2018-03-25 01:00:00</td>\n",
       "      <td>367.93</td>\n",
       "    </tr>\n",
       "    <tr>\n",
       "      <th>45823</th>\n",
       "      <td>2018-03-25 02:00:00</td>\n",
       "      <td>NaN</td>\n",
       "    </tr>\n",
       "    <tr>\n",
       "      <th>45824</th>\n",
       "      <td>2018-03-25 03:00:00</td>\n",
       "      <td>368.12</td>\n",
       "    </tr>\n",
       "    <tr>\n",
       "      <th>54727</th>\n",
       "      <td>2019-03-31 01:00:00</td>\n",
       "      <td>372.14</td>\n",
       "    </tr>\n",
       "    <tr>\n",
       "      <th>54728</th>\n",
       "      <td>2019-03-31 02:00:00</td>\n",
       "      <td>NaN</td>\n",
       "    </tr>\n",
       "    <tr>\n",
       "      <th>54729</th>\n",
       "      <td>2019-03-31 03:00:00</td>\n",
       "      <td>373.88</td>\n",
       "    </tr>\n",
       "  </tbody>\n",
       "</table>\n",
       "</div>"
      ],
      "text/plain": [
       "                     Time   Price\n",
       "2137  2013-03-31 01:00:00  357.66\n",
       "2138  2013-03-31 02:00:00     NaN\n",
       "2139  2013-03-31 03:00:00  356.84\n",
       "10874 2014-03-30 01:00:00  214.19\n",
       "10875 2014-03-30 02:00:00     NaN\n",
       "10876 2014-03-30 03:00:00  202.03\n",
       "19611 2015-03-29 01:00:00  194.43\n",
       "19612 2015-03-29 02:00:00     NaN\n",
       "19613 2015-03-29 03:00:00  190.69\n",
       "28348 2016-03-27 01:00:00  146.67\n",
       "28349 2016-03-27 02:00:00     NaN\n",
       "28350 2016-03-27 03:00:00  151.59\n",
       "37085 2017-03-26 01:00:00  257.12\n",
       "37086 2017-03-26 02:00:00     NaN\n",
       "37087 2017-03-26 03:00:00  255.38\n",
       "45822 2018-03-25 01:00:00  367.93\n",
       "45823 2018-03-25 02:00:00     NaN\n",
       "45824 2018-03-25 03:00:00  368.12\n",
       "54727 2019-03-31 01:00:00  372.14\n",
       "54728 2019-03-31 02:00:00     NaN\n",
       "54729 2019-03-31 03:00:00  373.88"
      ]
     },
     "execution_count": 267,
     "metadata": {},
     "output_type": "execute_result"
    }
   ],
   "source": [
    "nan_idx = df[df.Price.isnull()].index\n",
    "nan_periods = []\n",
    "for i in nan_idx:\n",
    "    nan_periods += range(i - 1, i + 2)\n",
    "\n",
    "df.iloc[nan_periods]"
   ]
  },
  {
   "cell_type": "markdown",
   "metadata": {},
   "source": [
    "They are not dupolicates, they are simoly missing. We can see that the prices before and after the time with missing prices are quite colse. So it is reasonable to estimate the missing values with the prices around them. Here I use linear interpolation which estimiates the missing value by a straight line between the values before and after the missing value."
   ]
  },
  {
   "cell_type": "code",
   "execution_count": 268,
   "metadata": {},
   "outputs": [],
   "source": [
    "df['Price'] = df['Price'].interpolate(method='linear')"
   ]
  },
  {
   "cell_type": "code",
   "execution_count": 269,
   "metadata": {},
   "outputs": [
    {
     "name": "stdout",
     "output_type": "stream",
     "text": [
      "<class 'pandas.core.frame.DataFrame'>\n",
      "RangeIndex: 61039 entries, 0 to 61038\n",
      "Data columns (total 2 columns):\n",
      "Time     61039 non-null datetime64[ns]\n",
      "Price    61039 non-null float64\n",
      "dtypes: datetime64[ns](1), float64(1)\n",
      "memory usage: 953.9 KB\n"
     ]
    }
   ],
   "source": [
    "df.info()"
   ]
  },
  {
   "cell_type": "markdown",
   "metadata": {},
   "source": [
    "Check if there is duplicates in the timestamps."
   ]
  },
  {
   "cell_type": "code",
   "execution_count": 270,
   "metadata": {},
   "outputs": [
    {
     "data": {
      "text/html": [
       "<div>\n",
       "<style scoped>\n",
       "    .dataframe tbody tr th:only-of-type {\n",
       "        vertical-align: middle;\n",
       "    }\n",
       "\n",
       "    .dataframe tbody tr th {\n",
       "        vertical-align: top;\n",
       "    }\n",
       "\n",
       "    .dataframe thead th {\n",
       "        text-align: right;\n",
       "    }\n",
       "</style>\n",
       "<table border=\"1\" class=\"dataframe\">\n",
       "  <thead>\n",
       "    <tr style=\"text-align: right;\">\n",
       "      <th></th>\n",
       "      <th>Time</th>\n",
       "      <th>Price</th>\n",
       "    </tr>\n",
       "  </thead>\n",
       "  <tbody>\n",
       "    <tr>\n",
       "      <th>7178</th>\n",
       "      <td>2013-10-27 02:00:00</td>\n",
       "      <td>266.93</td>\n",
       "    </tr>\n",
       "    <tr>\n",
       "      <th>7179</th>\n",
       "      <td>2013-10-27 02:00:00</td>\n",
       "      <td>266.93</td>\n",
       "    </tr>\n",
       "    <tr>\n",
       "      <th>15915</th>\n",
       "      <td>2014-10-26 02:00:00</td>\n",
       "      <td>132.52</td>\n",
       "    </tr>\n",
       "    <tr>\n",
       "      <th>15916</th>\n",
       "      <td>2014-10-26 02:00:00</td>\n",
       "      <td>121.67</td>\n",
       "    </tr>\n",
       "    <tr>\n",
       "      <th>24652</th>\n",
       "      <td>2015-10-25 02:00:00</td>\n",
       "      <td>203.04</td>\n",
       "    </tr>\n",
       "    <tr>\n",
       "      <th>24653</th>\n",
       "      <td>2015-10-25 02:00:00</td>\n",
       "      <td>203.04</td>\n",
       "    </tr>\n",
       "    <tr>\n",
       "      <th>33557</th>\n",
       "      <td>2016-10-30 02:00:00</td>\n",
       "      <td>290.05</td>\n",
       "    </tr>\n",
       "    <tr>\n",
       "      <th>33558</th>\n",
       "      <td>2016-10-30 02:00:00</td>\n",
       "      <td>289.60</td>\n",
       "    </tr>\n",
       "    <tr>\n",
       "      <th>42294</th>\n",
       "      <td>2017-10-29 02:00:00</td>\n",
       "      <td>217.96</td>\n",
       "    </tr>\n",
       "    <tr>\n",
       "      <th>42295</th>\n",
       "      <td>2017-10-29 02:00:00</td>\n",
       "      <td>204.80</td>\n",
       "    </tr>\n",
       "    <tr>\n",
       "      <th>51031</th>\n",
       "      <td>2018-10-28 02:00:00</td>\n",
       "      <td>396.37</td>\n",
       "    </tr>\n",
       "    <tr>\n",
       "      <th>51032</th>\n",
       "      <td>2018-10-28 02:00:00</td>\n",
       "      <td>396.08</td>\n",
       "    </tr>\n",
       "    <tr>\n",
       "      <th>59768</th>\n",
       "      <td>2019-10-27 02:00:00</td>\n",
       "      <td>378.48</td>\n",
       "    </tr>\n",
       "    <tr>\n",
       "      <th>59769</th>\n",
       "      <td>2019-10-27 02:00:00</td>\n",
       "      <td>378.48</td>\n",
       "    </tr>\n",
       "  </tbody>\n",
       "</table>\n",
       "</div>"
      ],
      "text/plain": [
       "                     Time   Price\n",
       "7178  2013-10-27 02:00:00  266.93\n",
       "7179  2013-10-27 02:00:00  266.93\n",
       "15915 2014-10-26 02:00:00  132.52\n",
       "15916 2014-10-26 02:00:00  121.67\n",
       "24652 2015-10-25 02:00:00  203.04\n",
       "24653 2015-10-25 02:00:00  203.04\n",
       "33557 2016-10-30 02:00:00  290.05\n",
       "33558 2016-10-30 02:00:00  289.60\n",
       "42294 2017-10-29 02:00:00  217.96\n",
       "42295 2017-10-29 02:00:00  204.80\n",
       "51031 2018-10-28 02:00:00  396.37\n",
       "51032 2018-10-28 02:00:00  396.08\n",
       "59768 2019-10-27 02:00:00  378.48\n",
       "59769 2019-10-27 02:00:00  378.48"
      ]
     },
     "execution_count": 270,
     "metadata": {},
     "output_type": "execute_result"
    }
   ],
   "source": [
    "df[df.Time.duplicated(keep=False)]"
   ]
  },
  {
   "cell_type": "markdown",
   "metadata": {},
   "source": [
    "We can see that there are a few duplicates. Again, it is very interesting that all the duplicates happens at 2 o'clock but at the end of October each year. The duplicated prices do not have the same values but very close. It's reasonable to remove either the first or second. Here simply remove the second."
   ]
  },
  {
   "cell_type": "code",
   "execution_count": 271,
   "metadata": {},
   "outputs": [],
   "source": [
    "df = df.drop_duplicates(subset=['Time'], keep='first')"
   ]
  },
  {
   "cell_type": "code",
   "execution_count": 272,
   "metadata": {},
   "outputs": [
    {
     "data": {
      "text/html": [
       "<div>\n",
       "<style scoped>\n",
       "    .dataframe tbody tr th:only-of-type {\n",
       "        vertical-align: middle;\n",
       "    }\n",
       "\n",
       "    .dataframe tbody tr th {\n",
       "        vertical-align: top;\n",
       "    }\n",
       "\n",
       "    .dataframe thead th {\n",
       "        text-align: right;\n",
       "    }\n",
       "</style>\n",
       "<table border=\"1\" class=\"dataframe\">\n",
       "  <thead>\n",
       "    <tr style=\"text-align: right;\">\n",
       "      <th></th>\n",
       "      <th>Time</th>\n",
       "      <th>Price</th>\n",
       "    </tr>\n",
       "  </thead>\n",
       "  <tbody>\n",
       "  </tbody>\n",
       "</table>\n",
       "</div>"
      ],
      "text/plain": [
       "Empty DataFrame\n",
       "Columns: [Time, Price]\n",
       "Index: []"
      ]
     },
     "execution_count": 272,
     "metadata": {},
     "output_type": "execute_result"
    }
   ],
   "source": [
    "df[df.Time.duplicated(keep=False)]"
   ]
  },
  {
   "cell_type": "markdown",
   "metadata": {},
   "source": [
    "Now there is no duplicates. We also need to check if there is missing timestamps (e.g. hour or day) in the data. We can do this by calculating the delta - the difference beteewn any two ajacent timestamps - to see if all the deltas are one hour."
   ]
  },
  {
   "cell_type": "code",
   "execution_count": 273,
   "metadata": {},
   "outputs": [],
   "source": [
    "time_stamps = list(df.Time)\n",
    "time_diffs = [timedelta(hours=1)\n",
    "              ] + [i - j for i, j in zip(time_stamps[1:], time_stamps[:-1])]\n",
    "abnormal = [i for i, x in enumerate(time_diffs) if x != timedelta(hours=1)]"
   ]
  },
  {
   "cell_type": "code",
   "execution_count": 274,
   "metadata": {},
   "outputs": [
    {
     "data": {
      "text/plain": [
       "[]"
      ]
     },
     "execution_count": 274,
     "metadata": {},
     "output_type": "execute_result"
    }
   ],
   "source": [
    "abnormal"
   ]
  },
  {
   "cell_type": "markdown",
   "metadata": {},
   "source": [
    "It is nice to see there is no missing timestamps."
   ]
  },
  {
   "cell_type": "markdown",
   "metadata": {},
   "source": [
    "## Data analysis"
   ]
  },
  {
   "cell_type": "markdown",
   "metadata": {},
   "source": [
    "Convert dataframe to series and set the time as index."
   ]
  },
  {
   "cell_type": "code",
   "execution_count": 275,
   "metadata": {},
   "outputs": [
    {
     "data": {
      "text/plain": [
       "Time\n",
       "2013-01-01 00:00:00    242.16\n",
       "2013-01-01 01:00:00    242.09\n",
       "2013-01-01 02:00:00    239.30\n",
       "2013-01-01 03:00:00    231.52\n",
       "2013-01-01 04:00:00    224.25\n",
       "Name: Price, dtype: float64"
      ]
     },
     "execution_count": 275,
     "metadata": {},
     "output_type": "execute_result"
    }
   ],
   "source": [
    "ds_oslo = df.set_index('Time')['Price']\n",
    "ds_oslo.head()"
   ]
  },
  {
   "cell_type": "markdown",
   "metadata": {},
   "source": [
    "Take a look at some statistics of the power price in Oslo from 2013 - 2019."
   ]
  },
  {
   "cell_type": "code",
   "execution_count": 276,
   "metadata": {},
   "outputs": [
    {
     "data": {
      "text/plain": [
       "count    61032.000000\n",
       "mean       287.869052\n",
       "std        109.187685\n",
       "min          4.930000\n",
       "25%        221.780000\n",
       "50%        270.590000\n",
       "75%        344.565000\n",
       "max       2454.310000\n",
       "Name: Price, dtype: float64"
      ]
     },
     "execution_count": 276,
     "metadata": {},
     "output_type": "execute_result"
    }
   ],
   "source": [
    "ds_oslo.describe()"
   ]
  },
  {
   "cell_type": "markdown",
   "metadata": {},
   "source": [
    "It is quite superising that the power price can be as low as 4.93 NOK and as high as 2454.31 NOK. Let's see there dates."
   ]
  },
  {
   "cell_type": "code",
   "execution_count": 277,
   "metadata": {},
   "outputs": [
    {
     "data": {
      "text/plain": [
       "(Timestamp('2018-03-01 08:00:00'), 2454.31)"
      ]
     },
     "execution_count": 277,
     "metadata": {},
     "output_type": "execute_result"
    }
   ],
   "source": [
    "ds_oslo.idxmax(), ds_oslo[ds_oslo.idxmax()]"
   ]
  },
  {
   "cell_type": "code",
   "execution_count": 278,
   "metadata": {},
   "outputs": [
    {
     "data": {
      "text/plain": [
       "(Timestamp('2014-10-27 02:00:00'), 4.93)"
      ]
     },
     "execution_count": 278,
     "metadata": {},
     "output_type": "execute_result"
    }
   ],
   "source": [
    "ds_oslo.idxmin(), ds_oslo[ds_oslo.idxmin()]"
   ]
  },
  {
   "cell_type": "markdown",
   "metadata": {},
   "source": [
    "Let's get an overview of the price in these years with a figure."
   ]
  },
  {
   "cell_type": "code",
   "execution_count": 279,
   "metadata": {},
   "outputs": [],
   "source": [
    "# group the data by year (freq='A' means yearly frequency)\n",
    "groups = ds_oslo.groupby(pd.Grouper(freq='A'))"
   ]
  },
  {
   "cell_type": "code",
   "execution_count": 280,
   "metadata": {},
   "outputs": [
    {
     "data": {
      "image/png": "[encoded data removed]",
      "text/plain": [
       "<Figure size 864x432 with 1 Axes>"
      ]
     },
     "metadata": {
      "needs_background": "light"
     },
     "output_type": "display_data"
    }
   ],
   "source": [
    "# distinguish years in plot\n",
    "fig = plt.figure(figsize=(12, 6))\n",
    "for i, (name, group) in enumerate(groups):\n",
    "    plt.scatter(x=group.index, y=group, s=2)"
   ]
  },
  {
   "cell_type": "markdown",
   "metadata": {},
   "source": [
    "It shows that there are a few high prices in 2016 and 2018 compares to other years. Generally, in the same year, the power price in winter time is higher than that in summer time."
   ]
  },
  {
   "cell_type": "markdown",
   "metadata": {},
   "source": [
    "## Forecast daily power price based on historical price data"
   ]
  },
  {
   "cell_type": "code",
   "execution_count": 281,
   "metadata": {},
   "outputs": [],
   "source": [
    "# resample the data by day and get the daily mean\n",
    "ds_oslo_daily = ds_oslo.resample('D').mean()"
   ]
  },
  {
   "cell_type": "code",
   "execution_count": 282,
   "metadata": {},
   "outputs": [
    {
     "data": {
      "text/plain": [
       "<matplotlib.axes._subplots.AxesSubplot at 0xc189774dc8>"
      ]
     },
     "execution_count": 282,
     "metadata": {},
     "output_type": "execute_result"
    },
    {
     "data": {
      "image/png": "[encoded data removed]",
      "text/plain": [
       "<Figure size 864x432 with 1 Axes>"
      ]
     },
     "metadata": {
      "needs_background": "light"
     },
     "output_type": "display_data"
    }
   ],
   "source": [
    "fig = plt.figure(figsize=(12, 6))\n",
    "ds_oslo_daily.plot()"
   ]
  },
  {
   "cell_type": "markdown",
   "metadata": {},
   "source": [
    "We can see that the daily mean price varies from day to day and there is no clear trend or strong seasonality."
   ]
  },
  {
   "cell_type": "code",
   "execution_count": 283,
   "metadata": {},
   "outputs": [],
   "source": [
    "# ds_oslo_daily[(ds_oslo_daily.index.week == 37) & (ds_oslo_daily.index.year == 2013)].plot()"
   ]
  },
  {
   "cell_type": "markdown",
   "metadata": {},
   "source": [
    "Let's check the autocorrelation between lagged values of the prices, to see if there is any linear relationship between prices and their previous prices."
   ]
  },
  {
   "cell_type": "code",
   "execution_count": 284,
   "metadata": {},
   "outputs": [],
   "source": [
    "# this method supports different lags\n",
    "from statsmodels.graphics.tsaplots import plot_acf"
   ]
  },
  {
   "cell_type": "markdown",
   "metadata": {},
   "source": [
    "Let's see the autocorrelation between prices and their previous 100 prices."
   ]
  },
  {
   "cell_type": "code",
   "execution_count": 285,
   "metadata": {},
   "outputs": [
    {
     "data": {
      "image/png": "[encoded data removed]",
      "text/plain": [
       "<Figure size 432x288 with 1 Axes>"
      ]
     },
     "metadata": {
      "needs_background": "light"
     },
     "output_type": "display_data"
    }
   ],
   "source": [
    "plot_acf(ds_oslo.values, lags=100)\n",
    "plt.show()"
   ]
  },
  {
   "cell_type": "markdown",
   "metadata": {},
   "source": [
    "It shows the autocrrelation is quite strong, especially for the first 20 lags. That means we can forecast a price using a number of its previous prices."
   ]
  },
  {
   "cell_type": "markdown",
   "metadata": {},
   "source": [
    "The Auto Regressive Integrated Moving Average (ARIMA) is a classic statistic model that can forecast forecast future values based on its past values. And it is suitable for non-seasonal time series data. So here we use ARIMA to forecast the power price using its previous values."
   ]
  },
  {
   "cell_type": "markdown",
   "metadata": {},
   "source": [
    "Here I didn't split the data into train and test data sets. Just want to see the initial forecast results. Later on, we can improve the model by doing proper training and evaluation on test dataset."
   ]
  },
  {
   "cell_type": "code",
   "execution_count": 286,
   "metadata": {},
   "outputs": [],
   "source": [
    "# oslo_daily_train = ds_oslo_daily[:pd.to_datetime(datetime(2017, 12, 31))]\n",
    "# oslo_daily_test = ds_oslo_daily[pd.to_datetime(datetime(2018, 1, 1)):]"
   ]
  },
  {
   "cell_type": "code",
   "execution_count": 287,
   "metadata": {},
   "outputs": [],
   "source": [
    "from statsmodels.tsa.arima_model import ARIMA"
   ]
  },
  {
   "cell_type": "markdown",
   "metadata": {},
   "source": [
    "ARIMA has three parameters ('p', 'd', 'q') to set, 'p' is the number of lags of the historic values to be used. 'd' is the minimum number of differencing needed to make the time series data stationary. And 'q' is the number of lagged forecast errors to be used. Here I use a simple parameter setting to see how the forecasting result looks like.\n",
    "\n",
    "For each day to be forecasted, I build a specific model. Perhaps there is already a method to do multiple step forecast. But it takes time to discover."
   ]
  },
  {
   "cell_type": "code",
   "execution_count": 324,
   "metadata": {},
   "outputs": [],
   "source": [
    "forecast_results = []\n",
    "days_to_forecast = [pd.to_datetime(datetime(2019, 5, x)) for x in range(16, 21)]\n",
    "for day in [x-timedelta(days=1) for x in days_to_forecast]:\n",
    "    oslo_daily_train = ds_oslo_daily[:day]\n",
    "    ARIMA_model = ARIMA(oslo_daily_train.values, order=(1, 1, 1))\n",
    "    ARIMA_model = ARIMA_model.fit()\n",
    "    forecast_results.append(ARIMA_model.forecast()[0][0])"
   ]
  },
  {
   "cell_type": "code",
   "execution_count": 325,
   "metadata": {},
   "outputs": [
    {
     "data": {
      "text/plain": [
       "[415.26894429594944,\n",
       " 399.598524868757,\n",
       " 396.21056107340786,\n",
       " 382.9913718092966,\n",
       " 375.3584497786906]"
      ]
     },
     "execution_count": 325,
     "metadata": {},
     "output_type": "execute_result"
    }
   ],
   "source": [
    "forecast_results"
   ]
  },
  {
   "cell_type": "code",
   "execution_count": 326,
   "metadata": {},
   "outputs": [],
   "source": [
    "forecast_results = pd.Series(forecast_results, index=days_to_forecast)"
   ]
  },
  {
   "cell_type": "code",
   "execution_count": 330,
   "metadata": {},
   "outputs": [
    {
     "data": {
      "text/plain": [
       "[<matplotlib.lines.Line2D at 0xc18a7b8ac8>]"
      ]
     },
     "execution_count": 330,
     "metadata": {},
     "output_type": "execute_result"
    },
    {
     "data": {
      "image/png": "[encoded data removed]",
      "text/plain": [
       "<Figure size 720x360 with 1 Axes>"
      ]
     },
     "metadata": {
      "needs_background": "light"
     },
     "output_type": "display_data"
    }
   ],
   "source": [
    "fig = plt.figure(figsize=(10, 5))\n",
    "plt.plot(ds_oslo_daily[days_to_forecast], label='actual')\n",
    "plt.plot(forecast_results, label='forecast')"
   ]
  },
  {
   "cell_type": "markdown",
   "metadata": {},
   "source": [
    "It seems the forecasting results by ARIMA is not bad. Now we evaluation the model using the Mean Absolute Percentage Error (MAPE) metric. It gives percentage error between 0 and 1. So it is easier to judge how good is the forecast compared to other matrics like Root Mean Squared Error (RMSE)."
   ]
  },
  {
   "cell_type": "code",
   "execution_count": 332,
   "metadata": {},
   "outputs": [],
   "source": [
    "mape_score = np.mean(\n",
    "    np.abs(forecast_results.values - ds_oslo_daily[days_to_forecast].values) /\n",
    "    np.abs(ds_oslo_daily[days_to_forecast].values))"
   ]
  },
  {
   "cell_type": "code",
   "execution_count": 333,
   "metadata": {},
   "outputs": [
    {
     "data": {
      "text/plain": [
       "0.056782887838551475"
      ]
     },
     "execution_count": 333,
     "metadata": {},
     "output_type": "execute_result"
    }
   ],
   "source": [
    "mape_score"
   ]
  },
  {
   "cell_type": "markdown",
   "metadata": {},
   "source": [
    "Around 5.6% MAPE implies the model is about 94.4% accurate in forecasting prices for period of 16.5 - 20.5."
   ]
  },
  {
   "cell_type": "markdown",
   "metadata": {},
   "source": [
    "## Forecasting power price based on historical price and hydro reservoir data (not finished)"
   ]
  },
  {
   "cell_type": "markdown",
   "metadata": {},
   "source": [
    "First of all, read in the hydro reservoir data and clean up the formats."
   ]
  },
  {
   "cell_type": "code",
   "execution_count": 294,
   "metadata": {},
   "outputs": [
    {
     "data": {
      "text/html": [
       "<div>\n",
       "<style scoped>\n",
       "    .dataframe tbody tr th:only-of-type {\n",
       "        vertical-align: middle;\n",
       "    }\n",
       "\n",
       "    .dataframe tbody tr th {\n",
       "        vertical-align: top;\n",
       "    }\n",
       "\n",
       "    .dataframe thead th {\n",
       "        text-align: right;\n",
       "    }\n",
       "</style>\n",
       "<table border=\"1\" class=\"dataframe\">\n",
       "  <thead>\n",
       "    <tr style=\"text-align: right;\">\n",
       "      <th></th>\n",
       "      <th>Unnamed: 0</th>\n",
       "      <th>NO</th>\n",
       "      <th>SE</th>\n",
       "      <th>FI</th>\n",
       "    </tr>\n",
       "  </thead>\n",
       "  <tbody>\n",
       "    <tr>\n",
       "      <th>0</th>\n",
       "      <td>02 - 13</td>\n",
       "      <td>54099</td>\n",
       "      <td>20521</td>\n",
       "      <td>3793</td>\n",
       "    </tr>\n",
       "    <tr>\n",
       "      <th>1</th>\n",
       "      <td>03 - 13</td>\n",
       "      <td>51059</td>\n",
       "      <td>19122</td>\n",
       "      <td>3621</td>\n",
       "    </tr>\n",
       "    <tr>\n",
       "      <th>2</th>\n",
       "      <td>04 - 13</td>\n",
       "      <td>48117</td>\n",
       "      <td>17706</td>\n",
       "      <td>3471</td>\n",
       "    </tr>\n",
       "    <tr>\n",
       "      <th>3</th>\n",
       "      <td>05 - 13</td>\n",
       "      <td>45906</td>\n",
       "      <td>16650</td>\n",
       "      <td>3393</td>\n",
       "    </tr>\n",
       "    <tr>\n",
       "      <th>4</th>\n",
       "      <td>06 - 13</td>\n",
       "      <td>43302</td>\n",
       "      <td>15356</td>\n",
       "      <td>3202</td>\n",
       "    </tr>\n",
       "  </tbody>\n",
       "</table>\n",
       "</div>"
      ],
      "text/plain": [
       "  Unnamed: 0     NO     SE    FI\n",
       "0    02 - 13  54099  20521  3793\n",
       "1    03 - 13  51059  19122  3621\n",
       "2    04 - 13  48117  17706  3471\n",
       "3    05 - 13  45906  16650  3393\n",
       "4    06 - 13  43302  15356  3202"
      ]
     },
     "execution_count": 294,
     "metadata": {},
     "output_type": "execute_result"
    }
   ],
   "source": [
    "df_hydro = pd.read_csv(r'data\\hydro-reservoir_2013_weekly.csv', skiprows=[0, 1])\n",
    "df_hydro.head()"
   ]
  },
  {
   "cell_type": "code",
   "execution_count": 295,
   "metadata": {},
   "outputs": [],
   "source": [
    "df_hydro = df_hydro.rename(columns={'Unnamed: 0': 'Week_Year'}\n",
    "                          )[['Week_Year', 'NO', 'SE']]"
   ]
  },
  {
   "cell_type": "code",
   "execution_count": 296,
   "metadata": {},
   "outputs": [
    {
     "data": {
      "text/html": [
       "<div>\n",
       "<style scoped>\n",
       "    .dataframe tbody tr th:only-of-type {\n",
       "        vertical-align: middle;\n",
       "    }\n",
       "\n",
       "    .dataframe tbody tr th {\n",
       "        vertical-align: top;\n",
       "    }\n",
       "\n",
       "    .dataframe thead th {\n",
       "        text-align: right;\n",
       "    }\n",
       "</style>\n",
       "<table border=\"1\" class=\"dataframe\">\n",
       "  <thead>\n",
       "    <tr style=\"text-align: right;\">\n",
       "      <th></th>\n",
       "      <th>Week_Year</th>\n",
       "      <th>NO</th>\n",
       "      <th>SE</th>\n",
       "    </tr>\n",
       "  </thead>\n",
       "  <tbody>\n",
       "    <tr>\n",
       "      <th>0</th>\n",
       "      <td>02 - 13</td>\n",
       "      <td>54099</td>\n",
       "      <td>20521</td>\n",
       "    </tr>\n",
       "    <tr>\n",
       "      <th>1</th>\n",
       "      <td>03 - 13</td>\n",
       "      <td>51059</td>\n",
       "      <td>19122</td>\n",
       "    </tr>\n",
       "    <tr>\n",
       "      <th>2</th>\n",
       "      <td>04 - 13</td>\n",
       "      <td>48117</td>\n",
       "      <td>17706</td>\n",
       "    </tr>\n",
       "    <tr>\n",
       "      <th>3</th>\n",
       "      <td>05 - 13</td>\n",
       "      <td>45906</td>\n",
       "      <td>16650</td>\n",
       "    </tr>\n",
       "    <tr>\n",
       "      <th>4</th>\n",
       "      <td>06 - 13</td>\n",
       "      <td>43302</td>\n",
       "      <td>15356</td>\n",
       "    </tr>\n",
       "  </tbody>\n",
       "</table>\n",
       "</div>"
      ],
      "text/plain": [
       "  Week_Year     NO     SE\n",
       "0   02 - 13  54099  20521\n",
       "1   03 - 13  51059  19122\n",
       "2   04 - 13  48117  17706\n",
       "3   05 - 13  45906  16650\n",
       "4   06 - 13  43302  15356"
      ]
     },
     "execution_count": 296,
     "metadata": {},
     "output_type": "execute_result"
    }
   ],
   "source": [
    "df_hydro.head()"
   ]
  },
  {
   "cell_type": "code",
   "execution_count": 297,
   "metadata": {},
   "outputs": [
    {
     "data": {
      "text/plain": [
       "array(['02\\xa0-\\xa013', '03\\xa0-\\xa013', '04\\xa0-\\xa013', '05\\xa0-\\xa013',\n",
       "       '06\\xa0-\\xa013', '07\\xa0-\\xa013', '08\\xa0-\\xa013', '09\\xa0-\\xa013',\n",
       "       '10\\xa0-\\xa013', '11\\xa0-\\xa013', '12\\xa0-\\xa013', '13\\xa0-\\xa013',\n",
       "       '14\\xa0-\\xa013', '15\\xa0-\\xa013', '16\\xa0-\\xa013', '17\\xa0-\\xa013',\n",
       "       '18\\xa0-\\xa013', '19\\xa0-\\xa013', '20\\xa0-\\xa013', '21\\xa0-\\xa013',\n",
       "       '22\\xa0-\\xa013', '23\\xa0-\\xa013', '24\\xa0-\\xa013', '25\\xa0-\\xa013',\n",
       "       '26\\xa0-\\xa013', '27\\xa0-\\xa013', '28\\xa0-\\xa013', '29\\xa0-\\xa013',\n",
       "       '30\\xa0-\\xa013', '31\\xa0-\\xa013', '32\\xa0-\\xa013', '33\\xa0-\\xa013',\n",
       "       '34\\xa0-\\xa013', '35\\xa0-\\xa013', '36\\xa0-\\xa013', '37\\xa0-\\xa013',\n",
       "       '38\\xa0-\\xa013', '39\\xa0-\\xa013', '40\\xa0-\\xa013', '41\\xa0-\\xa013',\n",
       "       '42\\xa0-\\xa013', '43\\xa0-\\xa013', '44\\xa0-\\xa013', '45\\xa0-\\xa013',\n",
       "       '46\\xa0-\\xa013', '47\\xa0-\\xa013', '48\\xa0-\\xa013', '49\\xa0-\\xa013',\n",
       "       '50\\xa0-\\xa013', '51\\xa0-\\xa013', '52\\xa0-\\xa013', '01\\xa0-\\xa014'],\n",
       "      dtype=object)"
      ]
     },
     "execution_count": 297,
     "metadata": {},
     "output_type": "execute_result"
    }
   ],
   "source": [
    "df_hydro.Week_Year.unique()"
   ]
  },
  {
   "cell_type": "code",
   "execution_count": 298,
   "metadata": {},
   "outputs": [],
   "source": [
    "df_hydro.Week_Year = df_hydro.Week_Year.apply(lambda x: x[:2]+' - '+x[-2:])"
   ]
  },
  {
   "cell_type": "code",
   "execution_count": 299,
   "metadata": {},
   "outputs": [
    {
     "name": "stdout",
     "output_type": "stream",
     "text": [
      "<class 'pandas.core.frame.DataFrame'>\n",
      "RangeIndex: 52 entries, 0 to 51\n",
      "Data columns (total 3 columns):\n",
      "Week_Year    52 non-null object\n",
      "NO           52 non-null int64\n",
      "SE           52 non-null int64\n",
      "dtypes: int64(2), object(1)\n",
      "memory usage: 1.3+ KB\n"
     ]
    }
   ],
   "source": [
    "df_hydro.info()"
   ]
  },
  {
   "cell_type": "markdown",
   "metadata": {},
   "source": [
    "Now do the same cleaning steps to the hydro data from 2014 to 2019."
   ]
  },
  {
   "cell_type": "code",
   "execution_count": 300,
   "metadata": {},
   "outputs": [],
   "source": [
    "for year in range(2014, 2020):\n",
    "    df_hydro_ = pd.read_csv(r'data\\hydro-reservoir_{}_weekly.csv'.format(year), skiprows=[0, 1])\n",
    "    df_hydro_ = df_hydro_.rename(columns={'Unnamed: 0': 'Week_Year'}\n",
    "                          )[['Week_Year', 'NO', 'SE']]\n",
    "    df_hydro_.Week_Year = df_hydro_.Week_Year.apply(lambda x: x[:2]+' - '+x[-2:])\n",
    "    df_hydro = pd.concat([df_hydro, df_hydro_], ignore_index=True)"
   ]
  },
  {
   "cell_type": "code",
   "execution_count": 301,
   "metadata": {},
   "outputs": [
    {
     "data": {
      "text/html": [
       "<div>\n",
       "<style scoped>\n",
       "    .dataframe tbody tr th:only-of-type {\n",
       "        vertical-align: middle;\n",
       "    }\n",
       "\n",
       "    .dataframe tbody tr th {\n",
       "        vertical-align: top;\n",
       "    }\n",
       "\n",
       "    .dataframe thead th {\n",
       "        text-align: right;\n",
       "    }\n",
       "</style>\n",
       "<table border=\"1\" class=\"dataframe\">\n",
       "  <thead>\n",
       "    <tr style=\"text-align: right;\">\n",
       "      <th></th>\n",
       "      <th>Week_Year</th>\n",
       "      <th>NO</th>\n",
       "      <th>SE</th>\n",
       "    </tr>\n",
       "  </thead>\n",
       "  <tbody>\n",
       "    <tr>\n",
       "      <th>310</th>\n",
       "      <td>52 - 18</td>\n",
       "      <td>NaN</td>\n",
       "      <td>NaN</td>\n",
       "    </tr>\n",
       "    <tr>\n",
       "      <th>311</th>\n",
       "      <td>01 - 19</td>\n",
       "      <td>NaN</td>\n",
       "      <td>NaN</td>\n",
       "    </tr>\n",
       "    <tr>\n",
       "      <th>361</th>\n",
       "      <td>50 - 19</td>\n",
       "      <td>NaN</td>\n",
       "      <td>NaN</td>\n",
       "    </tr>\n",
       "    <tr>\n",
       "      <th>362</th>\n",
       "      <td>51 - 19</td>\n",
       "      <td>NaN</td>\n",
       "      <td>NaN</td>\n",
       "    </tr>\n",
       "  </tbody>\n",
       "</table>\n",
       "</div>"
      ],
      "text/plain": [
       "    Week_Year  NO  SE\n",
       "310   52 - 18 NaN NaN\n",
       "311   01 - 19 NaN NaN\n",
       "361   50 - 19 NaN NaN\n",
       "362   51 - 19 NaN NaN"
      ]
     },
     "execution_count": 301,
     "metadata": {},
     "output_type": "execute_result"
    }
   ],
   "source": [
    "df_hydro[df_hydro.NO.isnull()]"
   ]
  },
  {
   "cell_type": "code",
   "execution_count": 302,
   "metadata": {},
   "outputs": [],
   "source": [
    "df_hydro.at[361, 'NO'] = 58361\n",
    "df_hydro.at[361, 'SE'] = 21817"
   ]
  },
  {
   "cell_type": "code",
   "execution_count": 303,
   "metadata": {},
   "outputs": [],
   "source": [
    "df_hydro.at[310, 'NO'] = 55522\n",
    "df_hydro.at[310, 'SE'] = 18662"
   ]
  },
  {
   "cell_type": "code",
   "execution_count": 304,
   "metadata": {},
   "outputs": [
    {
     "data": {
      "text/html": [
       "<div>\n",
       "<style scoped>\n",
       "    .dataframe tbody tr th:only-of-type {\n",
       "        vertical-align: middle;\n",
       "    }\n",
       "\n",
       "    .dataframe tbody tr th {\n",
       "        vertical-align: top;\n",
       "    }\n",
       "\n",
       "    .dataframe thead th {\n",
       "        text-align: right;\n",
       "    }\n",
       "</style>\n",
       "<table border=\"1\" class=\"dataframe\">\n",
       "  <thead>\n",
       "    <tr style=\"text-align: right;\">\n",
       "      <th></th>\n",
       "      <th>Week_Year</th>\n",
       "      <th>NO</th>\n",
       "      <th>SE</th>\n",
       "    </tr>\n",
       "  </thead>\n",
       "  <tbody>\n",
       "    <tr>\n",
       "      <th>311</th>\n",
       "      <td>01 - 19</td>\n",
       "      <td>NaN</td>\n",
       "      <td>NaN</td>\n",
       "    </tr>\n",
       "    <tr>\n",
       "      <th>362</th>\n",
       "      <td>51 - 19</td>\n",
       "      <td>NaN</td>\n",
       "      <td>NaN</td>\n",
       "    </tr>\n",
       "  </tbody>\n",
       "</table>\n",
       "</div>"
      ],
      "text/plain": [
       "    Week_Year  NO  SE\n",
       "311   01 - 19 NaN NaN\n",
       "362   51 - 19 NaN NaN"
      ]
     },
     "execution_count": 304,
     "metadata": {},
     "output_type": "execute_result"
    }
   ],
   "source": [
    "df_hydro[df_hydro.NO.isnull()]"
   ]
  },
  {
   "cell_type": "code",
   "execution_count": 305,
   "metadata": {},
   "outputs": [
    {
     "data": {
      "text/html": [
       "<div>\n",
       "<style scoped>\n",
       "    .dataframe tbody tr th:only-of-type {\n",
       "        vertical-align: middle;\n",
       "    }\n",
       "\n",
       "    .dataframe tbody tr th {\n",
       "        vertical-align: top;\n",
       "    }\n",
       "\n",
       "    .dataframe thead th {\n",
       "        text-align: right;\n",
       "    }\n",
       "</style>\n",
       "<table border=\"1\" class=\"dataframe\">\n",
       "  <thead>\n",
       "    <tr style=\"text-align: right;\">\n",
       "      <th></th>\n",
       "      <th>Week_Year</th>\n",
       "      <th>NO</th>\n",
       "      <th>SE</th>\n",
       "    </tr>\n",
       "  </thead>\n",
       "  <tbody>\n",
       "    <tr>\n",
       "      <th>311</th>\n",
       "      <td>01 - 19</td>\n",
       "      <td>NaN</td>\n",
       "      <td>NaN</td>\n",
       "    </tr>\n",
       "    <tr>\n",
       "      <th>312</th>\n",
       "      <td>01 - 19</td>\n",
       "      <td>54300.0</td>\n",
       "      <td>18035.0</td>\n",
       "    </tr>\n",
       "  </tbody>\n",
       "</table>\n",
       "</div>"
      ],
      "text/plain": [
       "    Week_Year       NO       SE\n",
       "311   01 - 19      NaN      NaN\n",
       "312   01 - 19  54300.0  18035.0"
      ]
     },
     "execution_count": 305,
     "metadata": {},
     "output_type": "execute_result"
    }
   ],
   "source": [
    "df_hydro[df_hydro.Week_Year.duplicated(keep=False)]"
   ]
  },
  {
   "cell_type": "code",
   "execution_count": 306,
   "metadata": {},
   "outputs": [],
   "source": [
    "df_hydro = df_hydro.drop([311, 362])"
   ]
  },
  {
   "cell_type": "code",
   "execution_count": 307,
   "metadata": {},
   "outputs": [
    {
     "name": "stdout",
     "output_type": "stream",
     "text": [
      "<class 'pandas.core.frame.DataFrame'>\n",
      "Int64Index: 361 entries, 0 to 361\n",
      "Data columns (total 3 columns):\n",
      "Week_Year    361 non-null object\n",
      "NO           361 non-null float64\n",
      "SE           361 non-null float64\n",
      "dtypes: float64(2), object(1)\n",
      "memory usage: 11.3+ KB\n"
     ]
    }
   ],
   "source": [
    "df_hydro.info()"
   ]
  },
  {
   "cell_type": "code",
   "execution_count": 308,
   "metadata": {},
   "outputs": [],
   "source": [
    "df_hydro['NO'] = df_hydro['NO'].astype(int)\n",
    "df_hydro['SE'] = df_hydro['SE'].astype(int)"
   ]
  },
  {
   "cell_type": "markdown",
   "metadata": {},
   "source": [
    "Create a column that shows the week-year of each timestamps, in order to combine the price data and the hydro data."
   ]
  },
  {
   "cell_type": "code",
   "execution_count": 338,
   "metadata": {},
   "outputs": [],
   "source": [
    "def dt_to_weekyearstr(dt):\n",
    "    \"\"\"Convert the timestamp to 'week - year' string\"\"\"\n",
    "    if dt.week == 1 & dt.month == 12:\n",
    "        year_str = str(dt.year+1)[-2:]\n",
    "    else:\n",
    "        year_str = str(dt.year)[-2:]\n",
    "                \n",
    "    return str(dt.week) + ' - ' + year_str"
   ]
  },
  {
   "cell_type": "code",
   "execution_count": 337,
   "metadata": {},
   "outputs": [],
   "source": [
    "ds_weekyear = ds_oslo.index.to_series().apply(dt_to_weekyearstr).rename('Week_Year')"
   ]
  },
  {
   "cell_type": "code",
   "execution_count": 339,
   "metadata": {},
   "outputs": [
    {
     "data": {
      "text/plain": [
       "Time\n",
       "2013-01-01 00:00:00    1 - 13\n",
       "2013-01-01 01:00:00    1 - 13\n",
       "2013-01-01 02:00:00    1 - 13\n",
       "2013-01-01 03:00:00    1 - 13\n",
       "2013-01-01 04:00:00    1 - 13\n",
       "Name: Week_Year, dtype: object"
      ]
     },
     "execution_count": 339,
     "metadata": {},
     "output_type": "execute_result"
    }
   ],
   "source": [
    "ds_weekyear.head()"
   ]
  },
  {
   "cell_type": "markdown",
   "metadata": {},
   "source": [
    "### Future steps\n",
    "\n",
    "combine the price and hydro data\n",
    "\n",
    "feed the data into LSTM network using sklearn\n",
    "\n",
    "train the model and forecast prices\n",
    "\n",
    "### Potential improvement on the models\n",
    "\n",
    "better hyperparameter tuning and proper evaluation\n",
    "\n",
    "more data like weather, other energy source like oil price, etc., health of power grid, can also contribute to power price\n"
   ]
  },
  {
   "cell_type": "code",
   "execution_count": null,
   "metadata": {},
   "outputs": [],
   "source": []
  }
 ],
 "metadata": {
  "kernelspec": {
   "display_name": "Python 3",
   "language": "python",
   "name": "python3"
  },
  "language_info": {
   "codemirror_mode": {
    "name": "ipython",
    "version": 3
   },
   "file_extension": ".py",
   "mimetype": "text/x-python",
   "name": "python",
   "nbconvert_exporter": "python",
   "pygments_lexer": "ipython3",
   "version": "3.7.5"
  }
 },
 "nbformat": 4,
 "nbformat_minor": 2
}
