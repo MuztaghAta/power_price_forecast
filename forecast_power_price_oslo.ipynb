{
 "cells": [
  {
   "cell_type": "code",
   "execution_count": 246,
   "metadata": {},
   "outputs": [],
   "source": [
    "import numpy as np\n",
    "import pandas as pd\n",
    "from datetime import datetime, timedelta, date\n",
    "import matplotlib.pyplot as plt\n",
    "import seaborn as sns"
   ]
  },
  {
   "cell_type": "markdown",
   "metadata": {},
   "source": [
    "## Read price data into Pandas Dataframe\n",
    "\n",
    "It seems Pandas does not support rading data of .xls format, so I manually converted all the data files to .csv format and it works.\n",
    "\n",
    "It seems all the price data from 2013 to 2019 have similar format, e.g. column names and headers. So First, I read the price data of 2013 into Pandas Dataframe and reformat the data from plain text to formats suitable for analysis. Then apply the same methods to price data of other years."
   ]
  },
  {
   "cell_type": "code",
   "execution_count": 247,
   "metadata": {},
   "outputs": [
    {
     "data": {
      "text/html": [
       "<div>\n",
       "<style scoped>\n",
       "    .dataframe tbody tr th:only-of-type {\n",
       "        vertical-align: middle;\n",
       "    }\n",
       "\n",
       "    .dataframe tbody tr th {\n",
       "        vertical-align: top;\n",
       "    }\n",
       "\n",
       "    .dataframe thead th {\n",
       "        text-align: right;\n",
       "    }\n",
       "</style>\n",
       "<table border=\"1\" class=\"dataframe\">\n",
       "  <thead>\n",
       "    <tr style=\"text-align: right;\">\n",
       "      <th></th>\n",
       "      <th>Unnamed: 0</th>\n",
       "      <th>Hours</th>\n",
       "      <th>SYS</th>\n",
       "      <th>SE1</th>\n",
       "      <th>SE2</th>\n",
       "      <th>SE3</th>\n",
       "      <th>SE4</th>\n",
       "      <th>FI</th>\n",
       "      <th>DK1</th>\n",
       "      <th>DK2</th>\n",
       "      <th>Oslo</th>\n",
       "      <th>Kr.sand</th>\n",
       "      <th>Bergen</th>\n",
       "      <th>Molde</th>\n",
       "      <th>Tr.heim</th>\n",
       "      <th>Tromsø</th>\n",
       "      <th>EE</th>\n",
       "      <th>ELE</th>\n",
       "      <th>LV</th>\n",
       "      <th>LT</th>\n",
       "    </tr>\n",
       "  </thead>\n",
       "  <tbody>\n",
       "    <tr>\n",
       "      <th>0</th>\n",
       "      <td>1/1/2013</td>\n",
       "      <td>00 - 01</td>\n",
       "      <td>227,99</td>\n",
       "      <td>227,92</td>\n",
       "      <td>227,92</td>\n",
       "      <td>227,92</td>\n",
       "      <td>227,92</td>\n",
       "      <td>227,92</td>\n",
       "      <td>103,02</td>\n",
       "      <td>103,02</td>\n",
       "      <td>242,16</td>\n",
       "      <td>242,16</td>\n",
       "      <td>242,16</td>\n",
       "      <td>227,92</td>\n",
       "      <td>227,92</td>\n",
       "      <td>227,92</td>\n",
       "      <td>228,50</td>\n",
       "      <td>228,50</td>\n",
       "      <td>NaN</td>\n",
       "      <td>179,31</td>\n",
       "    </tr>\n",
       "    <tr>\n",
       "      <th>1</th>\n",
       "      <td>1/1/2013</td>\n",
       "      <td>01 - 02</td>\n",
       "      <td>223,73</td>\n",
       "      <td>202,00</td>\n",
       "      <td>202,00</td>\n",
       "      <td>202,00</td>\n",
       "      <td>202,00</td>\n",
       "      <td>202,00</td>\n",
       "      <td>81,21</td>\n",
       "      <td>81,21</td>\n",
       "      <td>242,09</td>\n",
       "      <td>242,09</td>\n",
       "      <td>242,09</td>\n",
       "      <td>226,23</td>\n",
       "      <td>226,23</td>\n",
       "      <td>226,23</td>\n",
       "      <td>224,76</td>\n",
       "      <td>224,76</td>\n",
       "      <td>NaN</td>\n",
       "      <td>173,43</td>\n",
       "    </tr>\n",
       "    <tr>\n",
       "      <th>2</th>\n",
       "      <td>1/1/2013</td>\n",
       "      <td>02 - 03</td>\n",
       "      <td>212,35</td>\n",
       "      <td>179,46</td>\n",
       "      <td>179,46</td>\n",
       "      <td>179,46</td>\n",
       "      <td>179,46</td>\n",
       "      <td>179,46</td>\n",
       "      <td>62,41</td>\n",
       "      <td>62,41</td>\n",
       "      <td>239,30</td>\n",
       "      <td>239,30</td>\n",
       "      <td>239,30</td>\n",
       "      <td>225,93</td>\n",
       "      <td>225,93</td>\n",
       "      <td>225,93</td>\n",
       "      <td>179,46</td>\n",
       "      <td>179,46</td>\n",
       "      <td>NaN</td>\n",
       "      <td>175,71</td>\n",
       "    </tr>\n",
       "    <tr>\n",
       "      <th>3</th>\n",
       "      <td>1/1/2013</td>\n",
       "      <td>03 - 04</td>\n",
       "      <td>204,71</td>\n",
       "      <td>160,14</td>\n",
       "      <td>160,14</td>\n",
       "      <td>160,14</td>\n",
       "      <td>160,14</td>\n",
       "      <td>160,14</td>\n",
       "      <td>0,73</td>\n",
       "      <td>0,73</td>\n",
       "      <td>231,52</td>\n",
       "      <td>231,52</td>\n",
       "      <td>231,52</td>\n",
       "      <td>225,49</td>\n",
       "      <td>225,49</td>\n",
       "      <td>225,49</td>\n",
       "      <td>160,14</td>\n",
       "      <td>160,14</td>\n",
       "      <td>NaN</td>\n",
       "      <td>175,12</td>\n",
       "    </tr>\n",
       "    <tr>\n",
       "      <th>4</th>\n",
       "      <td>1/1/2013</td>\n",
       "      <td>04 - 05</td>\n",
       "      <td>197,96</td>\n",
       "      <td>164,26</td>\n",
       "      <td>164,26</td>\n",
       "      <td>164,26</td>\n",
       "      <td>164,26</td>\n",
       "      <td>164,26</td>\n",
       "      <td>14,76</td>\n",
       "      <td>14,76</td>\n",
       "      <td>224,25</td>\n",
       "      <td>224,25</td>\n",
       "      <td>224,25</td>\n",
       "      <td>224,91</td>\n",
       "      <td>224,91</td>\n",
       "      <td>224,91</td>\n",
       "      <td>164,26</td>\n",
       "      <td>164,26</td>\n",
       "      <td>NaN</td>\n",
       "      <td>170,79</td>\n",
       "    </tr>\n",
       "  </tbody>\n",
       "</table>\n",
       "</div>"
      ],
      "text/plain": [
       "  Unnamed: 0    Hours     SYS     SE1     SE2     SE3     SE4      FI     DK1  \\\n",
       "0   1/1/2013  00 - 01  227,99  227,92  227,92  227,92  227,92  227,92  103,02   \n",
       "1   1/1/2013  01 - 02  223,73  202,00  202,00  202,00  202,00  202,00   81,21   \n",
       "2   1/1/2013  02 - 03  212,35  179,46  179,46  179,46  179,46  179,46   62,41   \n",
       "3   1/1/2013  03 - 04  204,71  160,14  160,14  160,14  160,14  160,14    0,73   \n",
       "4   1/1/2013  04 - 05  197,96  164,26  164,26  164,26  164,26  164,26   14,76   \n",
       "\n",
       "      DK2    Oslo Kr.sand  Bergen   Molde Tr.heim  Tromsø      EE     ELE  \\\n",
       "0  103,02  242,16  242,16  242,16  227,92  227,92  227,92  228,50  228,50   \n",
       "1   81,21  242,09  242,09  242,09  226,23  226,23  226,23  224,76  224,76   \n",
       "2   62,41  239,30  239,30  239,30  225,93  225,93  225,93  179,46  179,46   \n",
       "3    0,73  231,52  231,52  231,52  225,49  225,49  225,49  160,14  160,14   \n",
       "4   14,76  224,25  224,25  224,25  224,91  224,91  224,91  164,26  164,26   \n",
       "\n",
       "    LV      LT  \n",
       "0  NaN  179,31  \n",
       "1  NaN  173,43  \n",
       "2  NaN  175,71  \n",
       "3  NaN  175,12  \n",
       "4  NaN  170,79  "
      ]
     },
     "execution_count": 247,
     "metadata": {},
     "output_type": "execute_result"
    }
   ],
   "source": [
    "# Read in price data of 2013 into Pandas Dataframe\n",
    "data_path_2013 = r'data\\elspot-prices_2013_hourly_nok.csv'\n",
    "df = pd.read_csv(data_path_2013, skiprows=[0, 1], header=0)\n",
    "df.head()"
   ]
  },
  {
   "cell_type": "code",
   "execution_count": 248,
   "metadata": {},
   "outputs": [],
   "source": [
    "df = df.rename(columns={\"Unnamed: 0\": \"Date\", \"Hours\": \"Hour\"})"
   ]
  },
  {
   "cell_type": "markdown",
   "metadata": {},
   "source": [
    " Since we are going to forecast price for Oslo, I only read in price data for Oslo and ignore other areas."
   ]
  },
  {
   "cell_type": "code",
   "execution_count": 249,
   "metadata": {},
   "outputs": [],
   "source": [
    "df = df[[\"Date\", \"Hour\", \"Oslo\"]].rename(columns={\"Oslo\": \"Price\"})"
   ]
  },
  {
   "cell_type": "code",
   "execution_count": 250,
   "metadata": {},
   "outputs": [
    {
     "data": {
      "text/html": [
       "<div>\n",
       "<style scoped>\n",
       "    .dataframe tbody tr th:only-of-type {\n",
       "        vertical-align: middle;\n",
       "    }\n",
       "\n",
       "    .dataframe tbody tr th {\n",
       "        vertical-align: top;\n",
       "    }\n",
       "\n",
       "    .dataframe thead th {\n",
       "        text-align: right;\n",
       "    }\n",
       "</style>\n",
       "<table border=\"1\" class=\"dataframe\">\n",
       "  <thead>\n",
       "    <tr style=\"text-align: right;\">\n",
       "      <th></th>\n",
       "      <th>Date</th>\n",
       "      <th>Hour</th>\n",
       "      <th>Price</th>\n",
       "    </tr>\n",
       "  </thead>\n",
       "  <tbody>\n",
       "    <tr>\n",
       "      <th>0</th>\n",
       "      <td>1/1/2013</td>\n",
       "      <td>00 - 01</td>\n",
       "      <td>242,16</td>\n",
       "    </tr>\n",
       "    <tr>\n",
       "      <th>1</th>\n",
       "      <td>1/1/2013</td>\n",
       "      <td>01 - 02</td>\n",
       "      <td>242,09</td>\n",
       "    </tr>\n",
       "    <tr>\n",
       "      <th>2</th>\n",
       "      <td>1/1/2013</td>\n",
       "      <td>02 - 03</td>\n",
       "      <td>239,30</td>\n",
       "    </tr>\n",
       "    <tr>\n",
       "      <th>3</th>\n",
       "      <td>1/1/2013</td>\n",
       "      <td>03 - 04</td>\n",
       "      <td>231,52</td>\n",
       "    </tr>\n",
       "    <tr>\n",
       "      <th>4</th>\n",
       "      <td>1/1/2013</td>\n",
       "      <td>04 - 05</td>\n",
       "      <td>224,25</td>\n",
       "    </tr>\n",
       "  </tbody>\n",
       "</table>\n",
       "</div>"
      ],
      "text/plain": [
       "       Date     Hour   Price\n",
       "0  1/1/2013  00 - 01  242,16\n",
       "1  1/1/2013  01 - 02  242,09\n",
       "2  1/1/2013  02 - 03  239,30\n",
       "3  1/1/2013  03 - 04  231,52\n",
       "4  1/1/2013  04 - 05  224,25"
      ]
     },
     "execution_count": 250,
     "metadata": {},
     "output_type": "execute_result"
    }
   ],
   "source": [
    "df.head()"
   ]
  },
  {
   "cell_type": "markdown",
   "metadata": {},
   "source": [
    "Get an overview of the data."
   ]
  },
  {
   "cell_type": "code",
   "execution_count": 251,
   "metadata": {},
   "outputs": [
    {
     "name": "stdout",
     "output_type": "stream",
     "text": [
      "<class 'pandas.core.frame.DataFrame'>\n",
      "RangeIndex: 8761 entries, 0 to 8760\n",
      "Data columns (total 3 columns):\n",
      "Date     8761 non-null object\n",
      "Hour     8761 non-null object\n",
      "Price    8760 non-null object\n",
      "dtypes: object(3)\n",
      "memory usage: 205.5+ KB\n"
     ]
    }
   ],
   "source": [
    "df.info()"
   ]
  },
  {
   "cell_type": "markdown",
   "metadata": {},
   "source": [
    "Now we sould 1) convert Price column to float and 2) convert Hour column to int type and 3) convert the Date column to Datetime type.\n",
    "\n",
    "We can see that there is a missing value in Oslo price column. We will handle it later after price data for all years are loaded.\n",
    "\n",
    "Now we convert the Price column from object to float."
   ]
  },
  {
   "cell_type": "code",
   "execution_count": 252,
   "metadata": {},
   "outputs": [],
   "source": [
    "def str2float(s):\n",
    "    \"\"\"Convert number in string s format to float. \n",
    "    Assign NaN value if ValueError raised.\n",
    "    \"\"\"\n",
    "    try:\n",
    "        number = float('.'.join(s.split(',')))\n",
    "    except (ValueError, AttributeError):\n",
    "        number = np.nan\n",
    "    return number"
   ]
  },
  {
   "cell_type": "code",
   "execution_count": 253,
   "metadata": {},
   "outputs": [],
   "source": [
    "df['Price'] = df['Price'].apply(str2float)"
   ]
  },
  {
   "cell_type": "code",
   "execution_count": 254,
   "metadata": {},
   "outputs": [
    {
     "name": "stdout",
     "output_type": "stream",
     "text": [
      "<class 'pandas.core.frame.DataFrame'>\n",
      "RangeIndex: 8761 entries, 0 to 8760\n",
      "Data columns (total 3 columns):\n",
      "Date     8761 non-null object\n",
      "Hour     8761 non-null object\n",
      "Price    8760 non-null float64\n",
      "dtypes: float64(1), object(2)\n",
      "memory usage: 205.5+ KB\n"
     ]
    }
   ],
   "source": [
    "df.info()"
   ]
  },
  {
   "cell_type": "markdown",
   "metadata": {},
   "source": [
    "Convert Hour column to int type."
   ]
  },
  {
   "cell_type": "code",
   "execution_count": 255,
   "metadata": {},
   "outputs": [
    {
     "data": {
      "text/plain": [
       "array(['00\\xa0-\\xa001', '01\\xa0-\\xa002', '02\\xa0-\\xa003', '03\\xa0-\\xa004',\n",
       "       '04\\xa0-\\xa005', '05\\xa0-\\xa006', '06\\xa0-\\xa007', '07\\xa0-\\xa008',\n",
       "       '08\\xa0-\\xa009', '09\\xa0-\\xa010', '10\\xa0-\\xa011', '11\\xa0-\\xa012',\n",
       "       '12\\xa0-\\xa013', '13\\xa0-\\xa014', '14\\xa0-\\xa015', '15\\xa0-\\xa016',\n",
       "       '16\\xa0-\\xa017', '17\\xa0-\\xa018', '18\\xa0-\\xa019', '19\\xa0-\\xa020',\n",
       "       '20\\xa0-\\xa021', '21\\xa0-\\xa022', '22\\xa0-\\xa023', '23\\xa0-\\xa000'],\n",
       "      dtype=object)"
      ]
     },
     "execution_count": 255,
     "metadata": {},
     "output_type": "execute_result"
    }
   ],
   "source": [
    "df.Hour.unique()"
   ]
  },
  {
   "cell_type": "markdown",
   "metadata": {},
   "source": [
    "The Hour column shows which hour of the day the electricity prices are about. Reformat it from object to int. The new 'Hour' starts from 0 and end at 23."
   ]
  },
  {
   "cell_type": "code",
   "execution_count": 256,
   "metadata": {},
   "outputs": [
    {
     "data": {
      "text/html": [
       "<div>\n",
       "<style scoped>\n",
       "    .dataframe tbody tr th:only-of-type {\n",
       "        vertical-align: middle;\n",
       "    }\n",
       "\n",
       "    .dataframe tbody tr th {\n",
       "        vertical-align: top;\n",
       "    }\n",
       "\n",
       "    .dataframe thead th {\n",
       "        text-align: right;\n",
       "    }\n",
       "</style>\n",
       "<table border=\"1\" class=\"dataframe\">\n",
       "  <thead>\n",
       "    <tr style=\"text-align: right;\">\n",
       "      <th></th>\n",
       "      <th>Date</th>\n",
       "      <th>Hour</th>\n",
       "      <th>Price</th>\n",
       "    </tr>\n",
       "  </thead>\n",
       "  <tbody>\n",
       "    <tr>\n",
       "      <th>0</th>\n",
       "      <td>1/1/2013</td>\n",
       "      <td>0</td>\n",
       "      <td>242.16</td>\n",
       "    </tr>\n",
       "    <tr>\n",
       "      <th>1</th>\n",
       "      <td>1/1/2013</td>\n",
       "      <td>1</td>\n",
       "      <td>242.09</td>\n",
       "    </tr>\n",
       "    <tr>\n",
       "      <th>2</th>\n",
       "      <td>1/1/2013</td>\n",
       "      <td>2</td>\n",
       "      <td>239.30</td>\n",
       "    </tr>\n",
       "    <tr>\n",
       "      <th>3</th>\n",
       "      <td>1/1/2013</td>\n",
       "      <td>3</td>\n",
       "      <td>231.52</td>\n",
       "    </tr>\n",
       "    <tr>\n",
       "      <th>4</th>\n",
       "      <td>1/1/2013</td>\n",
       "      <td>4</td>\n",
       "      <td>224.25</td>\n",
       "    </tr>\n",
       "  </tbody>\n",
       "</table>\n",
       "</div>"
      ],
      "text/plain": [
       "       Date  Hour   Price\n",
       "0  1/1/2013     0  242.16\n",
       "1  1/1/2013     1  242.09\n",
       "2  1/1/2013     2  239.30\n",
       "3  1/1/2013     3  231.52\n",
       "4  1/1/2013     4  224.25"
      ]
     },
     "execution_count": 256,
     "metadata": {},
     "output_type": "execute_result"
    }
   ],
   "source": [
    "df.Hour = df.Hour.apply(lambda x: x[:2]).astype(int)\n",
    "df.head()"
   ]
  },
  {
   "cell_type": "markdown",
   "metadata": {},
   "source": [
    "convert the Date column to Datetime type."
   ]
  },
  {
   "cell_type": "code",
   "execution_count": 257,
   "metadata": {},
   "outputs": [],
   "source": [
    "df['Date'] = df['Date'].apply(lambda x: pd.to_datetime(x, dayfirst=True))"
   ]
  },
  {
   "cell_type": "code",
   "execution_count": 258,
   "metadata": {},
   "outputs": [
    {
     "data": {
      "text/html": [
       "<div>\n",
       "<style scoped>\n",
       "    .dataframe tbody tr th:only-of-type {\n",
       "        vertical-align: middle;\n",
       "    }\n",
       "\n",
       "    .dataframe tbody tr th {\n",
       "        vertical-align: top;\n",
       "    }\n",
       "\n",
       "    .dataframe thead th {\n",
       "        text-align: right;\n",
       "    }\n",
       "</style>\n",
       "<table border=\"1\" class=\"dataframe\">\n",
       "  <thead>\n",
       "    <tr style=\"text-align: right;\">\n",
       "      <th></th>\n",
       "      <th>Date</th>\n",
       "      <th>Hour</th>\n",
       "      <th>Price</th>\n",
       "    </tr>\n",
       "  </thead>\n",
       "  <tbody>\n",
       "    <tr>\n",
       "      <th>0</th>\n",
       "      <td>2013-01-01</td>\n",
       "      <td>0</td>\n",
       "      <td>242.16</td>\n",
       "    </tr>\n",
       "    <tr>\n",
       "      <th>1</th>\n",
       "      <td>2013-01-01</td>\n",
       "      <td>1</td>\n",
       "      <td>242.09</td>\n",
       "    </tr>\n",
       "    <tr>\n",
       "      <th>2</th>\n",
       "      <td>2013-01-01</td>\n",
       "      <td>2</td>\n",
       "      <td>239.30</td>\n",
       "    </tr>\n",
       "    <tr>\n",
       "      <th>3</th>\n",
       "      <td>2013-01-01</td>\n",
       "      <td>3</td>\n",
       "      <td>231.52</td>\n",
       "    </tr>\n",
       "    <tr>\n",
       "      <th>4</th>\n",
       "      <td>2013-01-01</td>\n",
       "      <td>4</td>\n",
       "      <td>224.25</td>\n",
       "    </tr>\n",
       "  </tbody>\n",
       "</table>\n",
       "</div>"
      ],
      "text/plain": [
       "        Date  Hour   Price\n",
       "0 2013-01-01     0  242.16\n",
       "1 2013-01-01     1  242.09\n",
       "2 2013-01-01     2  239.30\n",
       "3 2013-01-01     3  231.52\n",
       "4 2013-01-01     4  224.25"
      ]
     },
     "execution_count": 258,
     "metadata": {},
     "output_type": "execute_result"
    }
   ],
   "source": [
    "df.head()"
   ]
  },
  {
   "cell_type": "markdown",
   "metadata": {},
   "source": [
    "Do some random check to see if the data is the same with the original data."
   ]
  },
  {
   "cell_type": "code",
   "execution_count": 259,
   "metadata": {},
   "outputs": [
    {
     "data": {
      "text/html": [
       "<div>\n",
       "<style scoped>\n",
       "    .dataframe tbody tr th:only-of-type {\n",
       "        vertical-align: middle;\n",
       "    }\n",
       "\n",
       "    .dataframe tbody tr th {\n",
       "        vertical-align: top;\n",
       "    }\n",
       "\n",
       "    .dataframe thead th {\n",
       "        text-align: right;\n",
       "    }\n",
       "</style>\n",
       "<table border=\"1\" class=\"dataframe\">\n",
       "  <thead>\n",
       "    <tr style=\"text-align: right;\">\n",
       "      <th></th>\n",
       "      <th>Date</th>\n",
       "      <th>Hour</th>\n",
       "      <th>Price</th>\n",
       "    </tr>\n",
       "  </thead>\n",
       "  <tbody>\n",
       "    <tr>\n",
       "      <th>8558</th>\n",
       "      <td>2013-12-23</td>\n",
       "      <td>13</td>\n",
       "      <td>264.49</td>\n",
       "    </tr>\n",
       "    <tr>\n",
       "      <th>4137</th>\n",
       "      <td>2013-06-22</td>\n",
       "      <td>9</td>\n",
       "      <td>173.86</td>\n",
       "    </tr>\n",
       "    <tr>\n",
       "      <th>6203</th>\n",
       "      <td>2013-09-16</td>\n",
       "      <td>11</td>\n",
       "      <td>282.64</td>\n",
       "    </tr>\n",
       "    <tr>\n",
       "      <th>4876</th>\n",
       "      <td>2013-07-23</td>\n",
       "      <td>4</td>\n",
       "      <td>242.18</td>\n",
       "    </tr>\n",
       "    <tr>\n",
       "      <th>4637</th>\n",
       "      <td>2013-07-13</td>\n",
       "      <td>5</td>\n",
       "      <td>234.20</td>\n",
       "    </tr>\n",
       "  </tbody>\n",
       "</table>\n",
       "</div>"
      ],
      "text/plain": [
       "           Date  Hour   Price\n",
       "8558 2013-12-23    13  264.49\n",
       "4137 2013-06-22     9  173.86\n",
       "6203 2013-09-16    11  282.64\n",
       "4876 2013-07-23     4  242.18\n",
       "4637 2013-07-13     5  234.20"
      ]
     },
     "execution_count": 259,
     "metadata": {},
     "output_type": "execute_result"
    }
   ],
   "source": [
    "df.sample(5)"
   ]
  },
  {
   "cell_type": "markdown",
   "metadata": {},
   "source": [
    "Now the data format looks good and ready for analysis. We apply the same steps for the price data of 2014 - 2019, and concatenate them into a single Dataframe."
   ]
  },
  {
   "cell_type": "code",
   "execution_count": 260,
   "metadata": {},
   "outputs": [],
   "source": [
    "for year in range(2014, 2020):\n",
    "    data_path = r'data\\elspot-prices_{}_hourly_nok.csv'.format(year)\n",
    "    df_ = pd.read_csv(data_path, skiprows=[0, 1], header=0)\n",
    "    df_ = df_.rename(columns={\"Unnamed: 0\": \"Date\", \"Hours\": \"Hour\"})\n",
    "    df_ = df_[[\"Date\", \"Hour\", \"Oslo\"]].rename(columns={\"Oslo\": \"Price\"})\n",
    "    df_['Price'] = df_['Price'].apply(str2float)\n",
    "    df_['Hour'] = df_['Hour'].apply(lambda x: x[:2]).astype(int)\n",
    "    df_['Date'] = df_['Date'].apply(lambda x: pd.to_datetime(x, dayfirst=True))\n",
    "    df = pd.concat([df, df_], ignore_index=True)"
   ]
  },
  {
   "cell_type": "markdown",
   "metadata": {},
   "source": [
    "Add the Hour information to the Date column and rename the resulting column to Time."
   ]
  },
  {
   "cell_type": "code",
   "execution_count": 261,
   "metadata": {},
   "outputs": [],
   "source": [
    "ds_time = df.apply(lambda row: row.Date.replace(hour=row.Hour),\n",
    "                   axis=1).rename('Time')\n",
    "df = pd.concat([ds_time, df], axis=1).drop(columns=['Date', 'Hour'])"
   ]
  },
  {
   "cell_type": "code",
   "execution_count": 262,
   "metadata": {},
   "outputs": [
    {
     "data": {
      "text/html": [
       "<div>\n",
       "<style scoped>\n",
       "    .dataframe tbody tr th:only-of-type {\n",
       "        vertical-align: middle;\n",
       "    }\n",
       "\n",
       "    .dataframe tbody tr th {\n",
       "        vertical-align: top;\n",
       "    }\n",
       "\n",
       "    .dataframe thead th {\n",
       "        text-align: right;\n",
       "    }\n",
       "</style>\n",
       "<table border=\"1\" class=\"dataframe\">\n",
       "  <thead>\n",
       "    <tr style=\"text-align: right;\">\n",
       "      <th></th>\n",
       "      <th>Time</th>\n",
       "      <th>Price</th>\n",
       "    </tr>\n",
       "  </thead>\n",
       "  <tbody>\n",
       "    <tr>\n",
       "      <th>0</th>\n",
       "      <td>2013-01-01 00:00:00</td>\n",
       "      <td>242.16</td>\n",
       "    </tr>\n",
       "    <tr>\n",
       "      <th>1</th>\n",
       "      <td>2013-01-01 01:00:00</td>\n",
       "      <td>242.09</td>\n",
       "    </tr>\n",
       "    <tr>\n",
       "      <th>2</th>\n",
       "      <td>2013-01-01 02:00:00</td>\n",
       "      <td>239.30</td>\n",
       "    </tr>\n",
       "    <tr>\n",
       "      <th>3</th>\n",
       "      <td>2013-01-01 03:00:00</td>\n",
       "      <td>231.52</td>\n",
       "    </tr>\n",
       "    <tr>\n",
       "      <th>4</th>\n",
       "      <td>2013-01-01 04:00:00</td>\n",
       "      <td>224.25</td>\n",
       "    </tr>\n",
       "  </tbody>\n",
       "</table>\n",
       "</div>"
      ],
      "text/plain": [
       "                 Time   Price\n",
       "0 2013-01-01 00:00:00  242.16\n",
       "1 2013-01-01 01:00:00  242.09\n",
       "2 2013-01-01 02:00:00  239.30\n",
       "3 2013-01-01 03:00:00  231.52\n",
       "4 2013-01-01 04:00:00  224.25"
      ]
     },
     "execution_count": 262,
     "metadata": {},
     "output_type": "execute_result"
    }
   ],
   "source": [
    "df.head()"
   ]
  },
  {
   "cell_type": "markdown",
   "metadata": {},
   "source": [
    "Again, do some random check againt data in the original data files to see if the data is the same with the original data."
   ]
  },
  {
   "cell_type": "code",
   "execution_count": 263,
   "metadata": {},
   "outputs": [
    {
     "data": {
      "text/html": [
       "<div>\n",
       "<style scoped>\n",
       "    .dataframe tbody tr th:only-of-type {\n",
       "        vertical-align: middle;\n",
       "    }\n",
       "\n",
       "    .dataframe tbody tr th {\n",
       "        vertical-align: top;\n",
       "    }\n",
       "\n",
       "    .dataframe thead th {\n",
       "        text-align: right;\n",
       "    }\n",
       "</style>\n",
       "<table border=\"1\" class=\"dataframe\">\n",
       "  <thead>\n",
       "    <tr style=\"text-align: right;\">\n",
       "      <th></th>\n",
       "      <th>Time</th>\n",
       "      <th>Price</th>\n",
       "    </tr>\n",
       "  </thead>\n",
       "  <tbody>\n",
       "    <tr>\n",
       "      <th>29454</th>\n",
       "      <td>2016-05-12 03:00:00</td>\n",
       "      <td>166.40</td>\n",
       "    </tr>\n",
       "    <tr>\n",
       "      <th>8160</th>\n",
       "      <td>2013-12-06 23:00:00</td>\n",
       "      <td>278.45</td>\n",
       "    </tr>\n",
       "    <tr>\n",
       "      <th>60481</th>\n",
       "      <td>2019-11-25 18:00:00</td>\n",
       "      <td>452.78</td>\n",
       "    </tr>\n",
       "    <tr>\n",
       "      <th>3873</th>\n",
       "      <td>2013-06-11 09:00:00</td>\n",
       "      <td>310.11</td>\n",
       "    </tr>\n",
       "    <tr>\n",
       "      <th>30465</th>\n",
       "      <td>2016-06-23 06:00:00</td>\n",
       "      <td>231.49</td>\n",
       "    </tr>\n",
       "  </tbody>\n",
       "</table>\n",
       "</div>"
      ],
      "text/plain": [
       "                     Time   Price\n",
       "29454 2016-05-12 03:00:00  166.40\n",
       "8160  2013-12-06 23:00:00  278.45\n",
       "60481 2019-11-25 18:00:00  452.78\n",
       "3873  2013-06-11 09:00:00  310.11\n",
       "30465 2016-06-23 06:00:00  231.49"
      ]
     },
     "execution_count": 263,
     "metadata": {},
     "output_type": "execute_result"
    }
   ],
   "source": [
    "df.sample(5)"
   ]
  },
  {
   "cell_type": "markdown",
   "metadata": {},
   "source": [
    "After check the random samples are the same with the original data. Now save the Dataframe for future use."
   ]
  },
  {
   "cell_type": "code",
   "execution_count": 264,
   "metadata": {},
   "outputs": [],
   "source": [
    "# df.to_json('elspot_hourly_price_oslo_13-19_dt.json')"
   ]
  },
  {
   "cell_type": "markdown",
   "metadata": {},
   "source": [
    "## Data cleaning: missing values, duplicates, and outliers"
   ]
  },
  {
   "cell_type": "code",
   "execution_count": 265,
   "metadata": {},
   "outputs": [
    {
     "name": "stdout",
     "output_type": "stream",
     "text": [
      "<class 'pandas.core.frame.DataFrame'>\n",
      "RangeIndex: 61039 entries, 0 to 61038\n",
      "Data columns (total 2 columns):\n",
      "Time     61039 non-null datetime64[ns]\n",
      "Price    61032 non-null float64\n",
      "dtypes: datetime64[ns](1), float64(1)\n",
      "memory usage: 953.9 KB\n"
     ]
    }
   ],
   "source": [
    "df.info()"
   ]
  },
  {
   "cell_type": "markdown",
   "metadata": {},
   "source": [
    "We can see there are 7 missing values in the Price column. Have a look at the corresponding rows."
   ]
  },
  {
   "cell_type": "code",
   "execution_count": 266,
   "metadata": {},
   "outputs": [
    {
     "data": {
      "text/html": [
       "<div>\n",
       "<style scoped>\n",
       "    .dataframe tbody tr th:only-of-type {\n",
       "        vertical-align: middle;\n",
       "    }\n",
       "\n",
       "    .dataframe tbody tr th {\n",
       "        vertical-align: top;\n",
       "    }\n",
       "\n",
       "    .dataframe thead th {\n",
       "        text-align: right;\n",
       "    }\n",
       "</style>\n",
       "<table border=\"1\" class=\"dataframe\">\n",
       "  <thead>\n",
       "    <tr style=\"text-align: right;\">\n",
       "      <th></th>\n",
       "      <th>Time</th>\n",
       "      <th>Price</th>\n",
       "    </tr>\n",
       "  </thead>\n",
       "  <tbody>\n",
       "    <tr>\n",
       "      <th>2138</th>\n",
       "      <td>2013-03-31 02:00:00</td>\n",
       "      <td>NaN</td>\n",
       "    </tr>\n",
       "    <tr>\n",
       "      <th>10875</th>\n",
       "      <td>2014-03-30 02:00:00</td>\n",
       "      <td>NaN</td>\n",
       "    </tr>\n",
       "    <tr>\n",
       "      <th>19612</th>\n",
       "      <td>2015-03-29 02:00:00</td>\n",
       "      <td>NaN</td>\n",
       "    </tr>\n",
       "    <tr>\n",
       "      <th>28349</th>\n",
       "      <td>2016-03-27 02:00:00</td>\n",
       "      <td>NaN</td>\n",
       "    </tr>\n",
       "    <tr>\n",
       "      <th>37086</th>\n",
       "      <td>2017-03-26 02:00:00</td>\n",
       "      <td>NaN</td>\n",
       "    </tr>\n",
       "    <tr>\n",
       "      <th>45823</th>\n",
       "      <td>2018-03-25 02:00:00</td>\n",
       "      <td>NaN</td>\n",
       "    </tr>\n",
       "    <tr>\n",
       "      <th>54728</th>\n",
       "      <td>2019-03-31 02:00:00</td>\n",
       "      <td>NaN</td>\n",
       "    </tr>\n",
       "  </tbody>\n",
       "</table>\n",
       "</div>"
      ],
      "text/plain": [
       "                     Time  Price\n",
       "2138  2013-03-31 02:00:00    NaN\n",
       "10875 2014-03-30 02:00:00    NaN\n",
       "19612 2015-03-29 02:00:00    NaN\n",
       "28349 2016-03-27 02:00:00    NaN\n",
       "37086 2017-03-26 02:00:00    NaN\n",
       "45823 2018-03-25 02:00:00    NaN\n",
       "54728 2019-03-31 02:00:00    NaN"
      ]
     },
     "execution_count": 266,
     "metadata": {},
     "output_type": "execute_result"
    }
   ],
   "source": [
    "df[df.Price.isnull()]"
   ]
  },
  {
   "cell_type": "markdown",
   "metadata": {},
   "source": [
    "It is interesting that the missing values are about the same hour, i.e. 2 o'clock, on the end of March of every year. It does not look like randomly missing. Now let's look at the data of the periods around these timestamps, to see if we can find why they are missing. For example, are they duplicated timestamps or not."
   ]
  },
  {
   "cell_type": "code",
   "execution_count": 267,
   "metadata": {},
   "outputs": [
    {
     "data": {
      "text/html": [
       "<div>\n",
       "<style scoped>\n",
       "    .dataframe tbody tr th:only-of-type {\n",
       "        vertical-align: middle;\n",
       "    }\n",
       "\n",
       "    .dataframe tbody tr th {\n",
       "        vertical-align: top;\n",
       "    }\n",
       "\n",
       "    .dataframe thead th {\n",
       "        text-align: right;\n",
       "    }\n",
       "</style>\n",
       "<table border=\"1\" class=\"dataframe\">\n",
       "  <thead>\n",
       "    <tr style=\"text-align: right;\">\n",
       "      <th></th>\n",
       "      <th>Time</th>\n",
       "      <th>Price</th>\n",
       "    </tr>\n",
       "  </thead>\n",
       "  <tbody>\n",
       "    <tr>\n",
       "      <th>2137</th>\n",
       "      <td>2013-03-31 01:00:00</td>\n",
       "      <td>357.66</td>\n",
       "    </tr>\n",
       "    <tr>\n",
       "      <th>2138</th>\n",
       "      <td>2013-03-31 02:00:00</td>\n",
       "      <td>NaN</td>\n",
       "    </tr>\n",
       "    <tr>\n",
       "      <th>2139</th>\n",
       "      <td>2013-03-31 03:00:00</td>\n",
       "      <td>356.84</td>\n",
       "    </tr>\n",
       "    <tr>\n",
       "      <th>10874</th>\n",
       "      <td>2014-03-30 01:00:00</td>\n",
       "      <td>214.19</td>\n",
       "    </tr>\n",
       "    <tr>\n",
       "      <th>10875</th>\n",
       "      <td>2014-03-30 02:00:00</td>\n",
       "      <td>NaN</td>\n",
       "    </tr>\n",
       "    <tr>\n",
       "      <th>10876</th>\n",
       "      <td>2014-03-30 03:00:00</td>\n",
       "      <td>202.03</td>\n",
       "    </tr>\n",
       "    <tr>\n",
       "      <th>19611</th>\n",
       "      <td>2015-03-29 01:00:00</td>\n",
       "      <td>194.43</td>\n",
       "    </tr>\n",
       "    <tr>\n",
       "      <th>19612</th>\n",
       "      <td>2015-03-29 02:00:00</td>\n",
       "      <td>NaN</td>\n",
       "    </tr>\n",
       "    <tr>\n",
       "      <th>19613</th>\n",
       "      <td>2015-03-29 03:00:00</td>\n",
       "      <td>190.69</td>\n",
       "    </tr>\n",
       "    <tr>\n",
       "      <th>28348</th>\n",
       "      <td>2016-03-27 01:00:00</td>\n",
       "      <td>146.67</td>\n",
       "    </tr>\n",
       "    <tr>\n",
       "      <th>28349</th>\n",
       "      <td>2016-03-27 02:00:00</td>\n",
       "      <td>NaN</td>\n",
       "    </tr>\n",
       "    <tr>\n",
       "      <th>28350</th>\n",
       "      <td>2016-03-27 03:00:00</td>\n",
       "      <td>151.59</td>\n",
       "    </tr>\n",
       "    <tr>\n",
       "      <th>37085</th>\n",
       "      <td>2017-03-26 01:00:00</td>\n",
       "      <td>257.12</td>\n",
       "    </tr>\n",
       "    <tr>\n",
       "      <th>37086</th>\n",
       "      <td>2017-03-26 02:00:00</td>\n",
       "      <td>NaN</td>\n",
       "    </tr>\n",
       "    <tr>\n",
       "      <th>37087</th>\n",
       "      <td>2017-03-26 03:00:00</td>\n",
       "      <td>255.38</td>\n",
       "    </tr>\n",
       "    <tr>\n",
       "      <th>45822</th>\n",
       "      <td>2018-03-25 01:00:00</td>\n",
       "      <td>367.93</td>\n",
       "    </tr>\n",
       "    <tr>\n",
       "      <th>45823</th>\n",
       "      <td>2018-03-25 02:00:00</td>\n",
       "      <td>NaN</td>\n",
       "    </tr>\n",
       "    <tr>\n",
       "      <th>45824</th>\n",
       "      <td>2018-03-25 03:00:00</td>\n",
       "      <td>368.12</td>\n",
       "    </tr>\n",
       "    <tr>\n",
       "      <th>54727</th>\n",
       "      <td>2019-03-31 01:00:00</td>\n",
       "      <td>372.14</td>\n",
       "    </tr>\n",
       "    <tr>\n",
       "      <th>54728</th>\n",
       "      <td>2019-03-31 02:00:00</td>\n",
       "      <td>NaN</td>\n",
       "    </tr>\n",
       "    <tr>\n",
       "      <th>54729</th>\n",
       "      <td>2019-03-31 03:00:00</td>\n",
       "      <td>373.88</td>\n",
       "    </tr>\n",
       "  </tbody>\n",
       "</table>\n",
       "</div>"
      ],
      "text/plain": [
       "                     Time   Price\n",
       "2137  2013-03-31 01:00:00  357.66\n",
       "2138  2013-03-31 02:00:00     NaN\n",
       "2139  2013-03-31 03:00:00  356.84\n",
       "10874 2014-03-30 01:00:00  214.19\n",
       "10875 2014-03-30 02:00:00     NaN\n",
       "10876 2014-03-30 03:00:00  202.03\n",
       "19611 2015-03-29 01:00:00  194.43\n",
       "19612 2015-03-29 02:00:00     NaN\n",
       "19613 2015-03-29 03:00:00  190.69\n",
       "28348 2016-03-27 01:00:00  146.67\n",
       "28349 2016-03-27 02:00:00     NaN\n",
       "28350 2016-03-27 03:00:00  151.59\n",
       "37085 2017-03-26 01:00:00  257.12\n",
       "37086 2017-03-26 02:00:00     NaN\n",
       "37087 2017-03-26 03:00:00  255.38\n",
       "45822 2018-03-25 01:00:00  367.93\n",
       "45823 2018-03-25 02:00:00     NaN\n",
       "45824 2018-03-25 03:00:00  368.12\n",
       "54727 2019-03-31 01:00:00  372.14\n",
       "54728 2019-03-31 02:00:00     NaN\n",
       "54729 2019-03-31 03:00:00  373.88"
      ]
     },
     "execution_count": 267,
     "metadata": {},
     "output_type": "execute_result"
    }
   ],
   "source": [
    "nan_idx = df[df.Price.isnull()].index\n",
    "nan_periods = []\n",
    "for i in nan_idx:\n",
    "    nan_periods += range(i - 1, i + 2)\n",
    "\n",
    "df.iloc[nan_periods]"
   ]
  },
  {
   "cell_type": "markdown",
   "metadata": {},
   "source": [
    "They are not dupolicates, they are simoly missing. We can see that the prices before and after the time with missing prices are quite colse. So it is reasonable to estimate the missing values with the prices around them. Here I use linear interpolation which estimiates the missing value by a straight line between the values before and after the missing value."
   ]
  },
  {
   "cell_type": "code",
   "execution_count": 268,
   "metadata": {},
   "outputs": [],
   "source": [
    "df['Price'] = df['Price'].interpolate(method='linear')"
   ]
  },
  {
   "cell_type": "code",
   "execution_count": 269,
   "metadata": {},
   "outputs": [
    {
     "name": "stdout",
     "output_type": "stream",
     "text": [
      "<class 'pandas.core.frame.DataFrame'>\n",
      "RangeIndex: 61039 entries, 0 to 61038\n",
      "Data columns (total 2 columns):\n",
      "Time     61039 non-null datetime64[ns]\n",
      "Price    61039 non-null float64\n",
      "dtypes: datetime64[ns](1), float64(1)\n",
      "memory usage: 953.9 KB\n"
     ]
    }
   ],
   "source": [
    "df.info()"
   ]
  },
  {
   "cell_type": "markdown",
   "metadata": {},
   "source": [
    "Check if there is duplicates in the timestamps."
   ]
  },
  {
   "cell_type": "code",
   "execution_count": 270,
   "metadata": {},
   "outputs": [
    {
     "data": {
      "text/html": [
       "<div>\n",
       "<style scoped>\n",
       "    .dataframe tbody tr th:only-of-type {\n",
       "        vertical-align: middle;\n",
       "    }\n",
       "\n",
       "    .dataframe tbody tr th {\n",
       "        vertical-align: top;\n",
       "    }\n",
       "\n",
       "    .dataframe thead th {\n",
       "        text-align: right;\n",
       "    }\n",
       "</style>\n",
       "<table border=\"1\" class=\"dataframe\">\n",
       "  <thead>\n",
       "    <tr style=\"text-align: right;\">\n",
       "      <th></th>\n",
       "      <th>Time</th>\n",
       "      <th>Price</th>\n",
       "    </tr>\n",
       "  </thead>\n",
       "  <tbody>\n",
       "    <tr>\n",
       "      <th>7178</th>\n",
       "      <td>2013-10-27 02:00:00</td>\n",
       "      <td>266.93</td>\n",
       "    </tr>\n",
       "    <tr>\n",
       "      <th>7179</th>\n",
       "      <td>2013-10-27 02:00:00</td>\n",
       "      <td>266.93</td>\n",
       "    </tr>\n",
       "    <tr>\n",
       "      <th>15915</th>\n",
       "      <td>2014-10-26 02:00:00</td>\n",
       "      <td>132.52</td>\n",
       "    </tr>\n",
       "    <tr>\n",
       "      <th>15916</th>\n",
       "      <td>2014-10-26 02:00:00</td>\n",
       "      <td>121.67</td>\n",
       "    </tr>\n",
       "    <tr>\n",
       "      <th>24652</th>\n",
       "      <td>2015-10-25 02:00:00</td>\n",
       "      <td>203.04</td>\n",
       "    </tr>\n",
       "    <tr>\n",
       "      <th>24653</th>\n",
       "      <td>2015-10-25 02:00:00</td>\n",
       "      <td>203.04</td>\n",
       "    </tr>\n",
       "    <tr>\n",
       "      <th>33557</th>\n",
       "      <td>2016-10-30 02:00:00</td>\n",
       "      <td>290.05</td>\n",
       "    </tr>\n",
       "    <tr>\n",
       "      <th>33558</th>\n",
       "      <td>2016-10-30 02:00:00</td>\n",
       "      <td>289.60</td>\n",
       "    </tr>\n",
       "    <tr>\n",
       "      <th>42294</th>\n",
       "      <td>2017-10-29 02:00:00</td>\n",
       "      <td>217.96</td>\n",
       "    </tr>\n",
       "    <tr>\n",
       "      <th>42295</th>\n",
       "      <td>2017-10-29 02:00:00</td>\n",
       "      <td>204.80</td>\n",
       "    </tr>\n",
       "    <tr>\n",
       "      <th>51031</th>\n",
       "      <td>2018-10-28 02:00:00</td>\n",
       "      <td>396.37</td>\n",
       "    </tr>\n",
       "    <tr>\n",
       "      <th>51032</th>\n",
       "      <td>2018-10-28 02:00:00</td>\n",
       "      <td>396.08</td>\n",
       "    </tr>\n",
       "    <tr>\n",
       "      <th>59768</th>\n",
       "      <td>2019-10-27 02:00:00</td>\n",
       "      <td>378.48</td>\n",
       "    </tr>\n",
       "    <tr>\n",
       "      <th>59769</th>\n",
       "      <td>2019-10-27 02:00:00</td>\n",
       "      <td>378.48</td>\n",
       "    </tr>\n",
       "  </tbody>\n",
       "</table>\n",
       "</div>"
      ],
      "text/plain": [
       "                     Time   Price\n",
       "7178  2013-10-27 02:00:00  266.93\n",
       "7179  2013-10-27 02:00:00  266.93\n",
       "15915 2014-10-26 02:00:00  132.52\n",
       "15916 2014-10-26 02:00:00  121.67\n",
       "24652 2015-10-25 02:00:00  203.04\n",
       "24653 2015-10-25 02:00:00  203.04\n",
       "33557 2016-10-30 02:00:00  290.05\n",
       "33558 2016-10-30 02:00:00  289.60\n",
       "42294 2017-10-29 02:00:00  217.96\n",
       "42295 2017-10-29 02:00:00  204.80\n",
       "51031 2018-10-28 02:00:00  396.37\n",
       "51032 2018-10-28 02:00:00  396.08\n",
       "59768 2019-10-27 02:00:00  378.48\n",
       "59769 2019-10-27 02:00:00  378.48"
      ]
     },
     "execution_count": 270,
     "metadata": {},
     "output_type": "execute_result"
    }
   ],
   "source": [
    "df[df.Time.duplicated(keep=False)]"
   ]
  },
  {
   "cell_type": "markdown",
   "metadata": {},
   "source": [
    "We can see that there are a few duplicates. Again, it is very interesting that all the duplicates happens at 2 o'clock but at the end of October each year. The duplicated prices do not have the same values but very close. It's reasonable to remove either the first or second. Here simply remove the second."
   ]
  },
  {
   "cell_type": "code",
   "execution_count": 271,
   "metadata": {},
   "outputs": [],
   "source": [
    "df = df.drop_duplicates(subset=['Time'], keep='first')"
   ]
  },
  {
   "cell_type": "code",
   "execution_count": 272,
   "metadata": {},
   "outputs": [
    {
     "data": {
      "text/html": [
       "<div>\n",
       "<style scoped>\n",
       "    .dataframe tbody tr th:only-of-type {\n",
       "        vertical-align: middle;\n",
       "    }\n",
       "\n",
       "    .dataframe tbody tr th {\n",
       "        vertical-align: top;\n",
       "    }\n",
       "\n",
       "    .dataframe thead th {\n",
       "        text-align: right;\n",
       "    }\n",
       "</style>\n",
       "<table border=\"1\" class=\"dataframe\">\n",
       "  <thead>\n",
       "    <tr style=\"text-align: right;\">\n",
       "      <th></th>\n",
       "      <th>Time</th>\n",
       "      <th>Price</th>\n",
       "    </tr>\n",
       "  </thead>\n",
       "  <tbody>\n",
       "  </tbody>\n",
       "</table>\n",
       "</div>"
      ],
      "text/plain": [
       "Empty DataFrame\n",
       "Columns: [Time, Price]\n",
       "Index: []"
      ]
     },
     "execution_count": 272,
     "metadata": {},
     "output_type": "execute_result"
    }
   ],
   "source": [
    "df[df.Time.duplicated(keep=False)]"
   ]
  },
  {
   "cell_type": "markdown",
   "metadata": {},
   "source": [
    "Now there is no duplicates. We also need to check if there is missing timestamps (e.g. hour or day) in the data. We can do this by calculating the delta - the difference beteewn any two ajacent timestamps - to see if all the deltas are one hour."
   ]
  },
  {
   "cell_type": "code",
   "execution_count": 273,
   "metadata": {},
   "outputs": [],
   "source": [
    "time_stamps = list(df.Time)\n",
    "time_diffs = [timedelta(hours=1)\n",
    "              ] + [i - j for i, j in zip(time_stamps[1:], time_stamps[:-1])]\n",
    "abnormal = [i for i, x in enumerate(time_diffs) if x != timedelta(hours=1)]"
   ]
  },
  {
   "cell_type": "code",
   "execution_count": 274,
   "metadata": {},
   "outputs": [
    {
     "data": {
      "text/plain": [
       "[]"
      ]
     },
     "execution_count": 274,
     "metadata": {},
     "output_type": "execute_result"
    }
   ],
   "source": [
    "abnormal"
   ]
  },
  {
   "cell_type": "markdown",
   "metadata": {},
   "source": [
    "It is nice to see there is no missing timestamps."
   ]
  },
  {
   "cell_type": "markdown",
   "metadata": {},
   "source": [
    "## Data analysis"
   ]
  },
  {
   "cell_type": "markdown",
   "metadata": {},
   "source": [
    "Convert dataframe to series and set the time as index."
   ]
  },
  {
   "cell_type": "code",
   "execution_count": 275,
   "metadata": {},
   "outputs": [
    {
     "data": {
      "text/plain": [
       "Time\n",
       "2013-01-01 00:00:00    242.16\n",
       "2013-01-01 01:00:00    242.09\n",
       "2013-01-01 02:00:00    239.30\n",
       "2013-01-01 03:00:00    231.52\n",
       "2013-01-01 04:00:00    224.25\n",
       "Name: Price, dtype: float64"
      ]
     },
     "execution_count": 275,
     "metadata": {},
     "output_type": "execute_result"
    }
   ],
   "source": [
    "ds_oslo = df.set_index('Time')['Price']\n",
    "ds_oslo.head()"
   ]
  },
  {
   "cell_type": "markdown",
   "metadata": {},
   "source": [
    "Take a look at some statistics of the power price in Oslo from 2013 - 2019."
   ]
  },
  {
   "cell_type": "code",
   "execution_count": 276,
   "metadata": {},
   "outputs": [
    {
     "data": {
      "text/plain": [
       "count    61032.000000\n",
       "mean       287.869052\n",
       "std        109.187685\n",
       "min          4.930000\n",
       "25%        221.780000\n",
       "50%        270.590000\n",
       "75%        344.565000\n",
       "max       2454.310000\n",
       "Name: Price, dtype: float64"
      ]
     },
     "execution_count": 276,
     "metadata": {},
     "output_type": "execute_result"
    }
   ],
   "source": [
    "ds_oslo.describe()"
   ]
  },
  {
   "cell_type": "markdown",
   "metadata": {},
   "source": [
    "It is quite superising that the power price can be as low as 4.93 NOK and as high as 2454.31 NOK. Let's see there dates."
   ]
  },
  {
   "cell_type": "code",
   "execution_count": 277,
   "metadata": {},
   "outputs": [
    {
     "data": {
      "text/plain": [
       "(Timestamp('2018-03-01 08:00:00'), 2454.31)"
      ]
     },
     "execution_count": 277,
     "metadata": {},
     "output_type": "execute_result"
    }
   ],
   "source": [
    "ds_oslo.idxmax(), ds_oslo[ds_oslo.idxmax()]"
   ]
  },
  {
   "cell_type": "code",
   "execution_count": 278,
   "metadata": {},
   "outputs": [
    {
     "data": {
      "text/plain": [
       "(Timestamp('2014-10-27 02:00:00'), 4.93)"
      ]
     },
     "execution_count": 278,
     "metadata": {},
     "output_type": "execute_result"
    }
   ],
   "source": [
    "ds_oslo.idxmin(), ds_oslo[ds_oslo.idxmin()]"
   ]
  },
  {
   "cell_type": "markdown",
   "metadata": {},
   "source": [
    "Let's get an overview of the price in these years with a figure."
   ]
  },
  {
   "cell_type": "code",
   "execution_count": 279,
   "metadata": {},
   "outputs": [],
   "source": [
    "# group the data by year (freq='A' means yearly frequency)\n",
    "groups = ds_oslo.groupby(pd.Grouper(freq='A'))"
   ]
  },
  {
   "cell_type": "code",
   "execution_count": 280,
   "metadata": {},
   "outputs": [
    {
     "data": {
      "image/png": "[encoded data removed]",
      "text/plain": [
       "<Figure size 864x432 with 1 Axes>"
      ]
     },
     "metadata": {
      "needs_background": "light"
     },
     "output_type": "display_data"
    }
   ],
   "source": [
    "# distinguish years in plot\n",
    "fig = plt.figure(figsize=(12, 6))\n",
    "for i, (name, group) in enumerate(groups):\n",
    "    plt.scatter(x=group.index, y=group, s=2)"
   ]
  },
  {
   "cell_type": "markdown",
   "metadata": {},
   "source": [
    "It shows that there are a few high prices in 2016 and 2018 compares to other years. Generally, in the same year, the power price in winter time is higher than that in summer time."
   ]
  },
  {
   "cell_type": "markdown",
   "metadata": {},
   "source": [
    "## Forecast daily power price based on historical price data"
   ]
  },
  {
   "cell_type": "code",
   "execution_count": 281,
   "metadata": {},
   "outputs": [],
   "source": [
    "# resample the data by day and get the daily mean\n",
    "ds_oslo_daily = ds_oslo.resample('D').mean()"
   ]
  },
  {
   "cell_type": "code",
   "execution_count": 282,
   "metadata": {},
   "outputs": [
    {
     "data": {
      "text/plain": [
       "<matplotlib.axes._subplots.AxesSubplot at 0xc189774dc8>"
      ]
     },
     "execution_count": 282,
     "metadata": {},
     "output_type": "execute_result"
    },
    {
     "data": {
      "image/png": "[encoded data removed]",
      "text/plain": [
       "<Figure size 864x432 with 1 Axes>"
      ]
     },
     "metadata": {
      "needs_background": "light"
     },
     "output_type": "display_data"
    }
   ],
   "source": [
    "fig = plt.figure(figsize=(12, 6))\n",
    "ds_oslo_daily.plot()"
   ]
  },
  {
   "cell_type": "markdown",
   "metadata": {},
   "source": [
    "We can see that the daily mean price varies from day to day and there is no clear trend or strong seasonality."
   ]
  },
  {
   "cell_type": "code",
   "execution_count": 283,
   "metadata": {},
   "outputs": [],
   "source": [
    "# ds_oslo_daily[(ds_oslo_daily.index.week == 37) & (ds_oslo_daily.index.year == 2013)].plot()"
   ]
  },
  {
   "cell_type": "markdown",
   "metadata": {},
   "source": [
    "Let's check the autocorrelation between lagged values of the prices, to see if there is any linear relationship between prices and their previous prices."
   ]
  },
  {
   "cell_type": "code",
   "execution_count": 284,
   "metadata": {},
   "outputs": [],
   "source": [
    "# this method supports different lags\n",
    "from statsmodels.graphics.tsaplots import plot_acf"
   ]
  },
  {
   "cell_type": "markdown",
   "metadata": {},
   "source": [
    "Let's see the autocorrelation between prices and their previous 100 prices."
   ]
  },
  {
   "cell_type": "code",
   "execution_count": 285,
   "metadata": {},
   "outputs": [
    {
     "data": {
      "image/png": "[encoded data removed]",
      "text/plain": [
       "<Figure size 432x288 with 1 Axes>"
      ]
     },
     "metadata": {
      "needs_background": "light"
     },
     "output_type": "display_data"
    }
   ],
   "source": [
    "plot_acf(ds_oslo.values, lags=100)\n",
    "plt.show()"
   ]
  },
  {
   "cell_type": "markdown",
   "metadata": {},
   "source": [
    "It shows the autocrrelation is quite strong, especially for the first 20 lags. That means we can forecast a price using a number of its previous prices."
   ]
  },
  {
   "cell_type": "markdown",
   "metadata": {},
   "source": [
    "The Auto Regressive Integrated Moving Average (ARIMA) is a classic statistic model that can forecast forecast future values based on its past values. And it is suitable for non-seasonal time series data. So here we use ARIMA to forecast the power price using its previous values."
   ]
  },
  {
   "cell_type": "markdown",
   "metadata": {},
   "source": [
    "Here I didn't split the data into train and test data sets. Just want to see the initial forecast results. Later on, we can improve the model by doing proper training and evaluation on test dataset."
   ]
  },
  {
   "cell_type": "code",
   "execution_count": 286,
   "metadata": {},
   "outputs": [],
   "source": [
    "# oslo_daily_train = ds_oslo_daily[:pd.to_datetime(datetime(2017, 12, 31))]\n",
    "# oslo_daily_test = ds_oslo_daily[pd.to_datetime(datetime(2018, 1, 1)):]"
   ]
  },
  {
   "cell_type": "code",
   "execution_count": 287,
   "metadata": {},
   "outputs": [],
   "source": [
    "from statsmodels.tsa.arima_model import ARIMA"
   ]
  },
  {
   "cell_type": "markdown",
   "metadata": {},
   "source": [
    "ARIMA has three parameters ('p', 'd', 'q') to set, 'p' is the number of lags of the historic values to be used. 'd' is the minimum number of differencing needed to make the time series data stationary. And 'q' is the number of lagged forecast errors to be used. Here I use a simple parameter setting to see how the forecasting result looks like.\n",
    "\n",
    "For each day to be forecasted, I build a specific model. Perhaps there is already a method to do multiple step forecast. But it takes time to discover. The forecast is day-ahead, that is, forecasting the price of next day based on the price data until today."
   ]
  },
  {
   "cell_type": "markdown",
   "metadata": {},
   "source": [
    "### Forecast power price for 16.5 to 20.5 in 2019"
   ]
  },
  {
   "cell_type": "code",
   "execution_count": 689,
   "metadata": {},
   "outputs": [],
   "source": [
    "forecast_results = []\n",
    "days_to_forecast = [pd.to_datetime(datetime(2019, 5, x)) for x in range(16, 21)]\n",
    "for day in [x-timedelta(days=1) for x in days_to_forecast]:\n",
    "    oslo_daily_train = ds_oslo_daily[:day]\n",
    "    ARIMA_model = ARIMA(oslo_daily_train.values, order=(1, 1, 1))\n",
    "    ARIMA_model = ARIMA_model.fit()\n",
    "    forecast_results.append(ARIMA_model.forecast()[0][0])"
   ]
  },
  {
   "cell_type": "code",
   "execution_count": 690,
   "metadata": {},
   "outputs": [
    {
     "data": {
      "text/plain": [
       "[415.26894429594944,\n",
       " 399.598524868757,\n",
       " 396.21056107340786,\n",
       " 382.9913718092966,\n",
       " 375.3584497786906]"
      ]
     },
     "execution_count": 690,
     "metadata": {},
     "output_type": "execute_result"
    }
   ],
   "source": [
    "forecast_results"
   ]
  },
  {
   "cell_type": "code",
   "execution_count": 691,
   "metadata": {},
   "outputs": [],
   "source": [
    "forecast_results = pd.Series(forecast_results, index=days_to_forecast)"
   ]
  },
  {
   "cell_type": "code",
   "execution_count": 692,
   "metadata": {},
   "outputs": [
    {
     "data": {
      "text/plain": [
       "(0, 450)"
      ]
     },
     "execution_count": 692,
     "metadata": {},
     "output_type": "execute_result"
    },
    {
     "data": {
      "image/png": "[encoded data removed]",
      "text/plain": [
       "<Figure size 720x360 with 1 Axes>"
      ]
     },
     "metadata": {
      "needs_background": "light"
     },
     "output_type": "display_data"
    }
   ],
   "source": [
    "fig = plt.figure(figsize=(10, 5))\n",
    "plt.plot(ds_oslo_daily[days_to_forecast], label='actual')\n",
    "plt.plot(forecast_results, label='forecast')\n",
    "plt.ylim(0, 450)"
   ]
  },
  {
   "cell_type": "markdown",
   "metadata": {},
   "source": [
    "It seems the forecasting results by ARIMA is not bad. Now we evaluation the model using the Mean Absolute Percentage Error (MAPE) metric. It gives percentage error between 0 and 1. So it is easier to judge how good is the forecast compared to other matrics like Root Mean Squared Error (RMSE)."
   ]
  },
  {
   "cell_type": "code",
   "execution_count": 693,
   "metadata": {},
   "outputs": [],
   "source": [
    "mape_score = np.mean(\n",
    "    np.abs(forecast_results.values - ds_oslo_daily[days_to_forecast].values) /\n",
    "    np.abs(ds_oslo_daily[days_to_forecast].values))"
   ]
  },
  {
   "cell_type": "code",
   "execution_count": 694,
   "metadata": {},
   "outputs": [
    {
     "data": {
      "text/plain": [
       "0.056782887838551475"
      ]
     },
     "execution_count": 694,
     "metadata": {},
     "output_type": "execute_result"
    }
   ],
   "source": [
    "mape_score"
   ]
  },
  {
   "cell_type": "markdown",
   "metadata": {},
   "source": [
    "Around 5.6% MAPE implies the model is about 94.4% accurate in forecasting prices for period of 16.5 - 20.5."
   ]
  },
  {
   "cell_type": "markdown",
   "metadata": {},
   "source": [
    "### Forecast power prie for 50 week in 2019"
   ]
  },
  {
   "cell_type": "markdown",
   "metadata": {},
   "source": [
    "The 50 week in 2019 starts from 2019-12-09 to 2019-12-15."
   ]
  },
  {
   "cell_type": "code",
   "execution_count": 695,
   "metadata": {},
   "outputs": [],
   "source": [
    "forecast_results = []\n",
    "days_to_forecast = [pd.to_datetime(datetime(2019, 12, x)) for x in range(9, 16)]\n",
    "for day in [x-timedelta(days=1) for x in days_to_forecast]:\n",
    "    oslo_daily_train = ds_oslo_daily[:day]\n",
    "    ARIMA_model = ARIMA(oslo_daily_train.values, order=(1, 1, 1))\n",
    "    ARIMA_model = ARIMA_model.fit()\n",
    "    forecast_results.append(ARIMA_model.forecast()[0][0])"
   ]
  },
  {
   "cell_type": "code",
   "execution_count": 696,
   "metadata": {},
   "outputs": [
    {
     "data": {
      "text/plain": [
       "[390.7685317355135,\n",
       " 395.2001017828342,\n",
       " 415.9123022608268,\n",
       " 396.0829736218145,\n",
       " 397.7551500565519,\n",
       " 386.32810941157555,\n",
       " 379.7086282860742]"
      ]
     },
     "execution_count": 696,
     "metadata": {},
     "output_type": "execute_result"
    }
   ],
   "source": [
    "forecast_results"
   ]
  },
  {
   "cell_type": "code",
   "execution_count": 699,
   "metadata": {},
   "outputs": [],
   "source": [
    "forecast_results = pd.Series(forecast_results, index=days_to_forecast)"
   ]
  },
  {
   "cell_type": "code",
   "execution_count": 700,
   "metadata": {},
   "outputs": [
    {
     "data": {
      "text/plain": [
       "(0, 450)"
      ]
     },
     "execution_count": 700,
     "metadata": {},
     "output_type": "execute_result"
    },
    {
     "data": {
      "image/png": "[encoded data removed]",
      "text/plain": [
       "<Figure size 720x360 with 1 Axes>"
      ]
     },
     "metadata": {
      "needs_background": "light"
     },
     "output_type": "display_data"
    }
   ],
   "source": [
    "fig = plt.figure(figsize=(10, 5))\n",
    "plt.plot(ds_oslo_daily[days_to_forecast], label='actual')\n",
    "plt.plot(forecast_results, label='forecast')\n",
    "plt.ylim(0, 450)"
   ]
  },
  {
   "cell_type": "code",
   "execution_count": 701,
   "metadata": {},
   "outputs": [
    {
     "data": {
      "text/plain": [
       "0.03765255549281217"
      ]
     },
     "execution_count": 701,
     "metadata": {},
     "output_type": "execute_result"
    }
   ],
   "source": [
    "mape_score = np.mean(\n",
    "    np.abs(forecast_results.values - ds_oslo_daily[days_to_forecast].values) /\n",
    "    np.abs(ds_oslo_daily[days_to_forecast].values))\n",
    "\n",
    "mape_score"
   ]
  },
  {
   "cell_type": "markdown",
   "metadata": {},
   "source": [
    "Around 3.8% MAPE implies the model is about 96.2% accurate in forecasting prices for period of 16.5 - 20.5."
   ]
  },
  {
   "cell_type": "markdown",
   "metadata": {},
   "source": [
    "## Forecasting power price based on historical price and hydro data"
   ]
  },
  {
   "cell_type": "markdown",
   "metadata": {},
   "source": [
    "First of all, read in the hydro reservoir data and clean up the formats."
   ]
  },
  {
   "cell_type": "code",
   "execution_count": 565,
   "metadata": {},
   "outputs": [
    {
     "data": {
      "text/html": [
       "<div>\n",
       "<style scoped>\n",
       "    .dataframe tbody tr th:only-of-type {\n",
       "        vertical-align: middle;\n",
       "    }\n",
       "\n",
       "    .dataframe tbody tr th {\n",
       "        vertical-align: top;\n",
       "    }\n",
       "\n",
       "    .dataframe thead th {\n",
       "        text-align: right;\n",
       "    }\n",
       "</style>\n",
       "<table border=\"1\" class=\"dataframe\">\n",
       "  <thead>\n",
       "    <tr style=\"text-align: right;\">\n",
       "      <th></th>\n",
       "      <th>Unnamed: 0</th>\n",
       "      <th>NO</th>\n",
       "      <th>SE</th>\n",
       "      <th>FI</th>\n",
       "    </tr>\n",
       "  </thead>\n",
       "  <tbody>\n",
       "    <tr>\n",
       "      <th>0</th>\n",
       "      <td>02 - 13</td>\n",
       "      <td>54099</td>\n",
       "      <td>20521</td>\n",
       "      <td>3793</td>\n",
       "    </tr>\n",
       "    <tr>\n",
       "      <th>1</th>\n",
       "      <td>03 - 13</td>\n",
       "      <td>51059</td>\n",
       "      <td>19122</td>\n",
       "      <td>3621</td>\n",
       "    </tr>\n",
       "    <tr>\n",
       "      <th>2</th>\n",
       "      <td>04 - 13</td>\n",
       "      <td>48117</td>\n",
       "      <td>17706</td>\n",
       "      <td>3471</td>\n",
       "    </tr>\n",
       "    <tr>\n",
       "      <th>3</th>\n",
       "      <td>05 - 13</td>\n",
       "      <td>45906</td>\n",
       "      <td>16650</td>\n",
       "      <td>3393</td>\n",
       "    </tr>\n",
       "    <tr>\n",
       "      <th>4</th>\n",
       "      <td>06 - 13</td>\n",
       "      <td>43302</td>\n",
       "      <td>15356</td>\n",
       "      <td>3202</td>\n",
       "    </tr>\n",
       "  </tbody>\n",
       "</table>\n",
       "</div>"
      ],
      "text/plain": [
       "  Unnamed: 0     NO     SE    FI\n",
       "0    02 - 13  54099  20521  3793\n",
       "1    03 - 13  51059  19122  3621\n",
       "2    04 - 13  48117  17706  3471\n",
       "3    05 - 13  45906  16650  3393\n",
       "4    06 - 13  43302  15356  3202"
      ]
     },
     "execution_count": 565,
     "metadata": {},
     "output_type": "execute_result"
    }
   ],
   "source": [
    "df_hydro = pd.read_csv(r'data\\hydro-reservoir_2013_weekly.csv', skiprows=[0, 1])\n",
    "df_hydro.head()"
   ]
  },
  {
   "cell_type": "code",
   "execution_count": 566,
   "metadata": {},
   "outputs": [],
   "source": [
    "df_hydro = df_hydro.rename(columns={'Unnamed: 0': 'Week_Year'}\n",
    "                          )[['Week_Year', 'NO', 'SE']]"
   ]
  },
  {
   "cell_type": "code",
   "execution_count": 567,
   "metadata": {},
   "outputs": [
    {
     "data": {
      "text/html": [
       "<div>\n",
       "<style scoped>\n",
       "    .dataframe tbody tr th:only-of-type {\n",
       "        vertical-align: middle;\n",
       "    }\n",
       "\n",
       "    .dataframe tbody tr th {\n",
       "        vertical-align: top;\n",
       "    }\n",
       "\n",
       "    .dataframe thead th {\n",
       "        text-align: right;\n",
       "    }\n",
       "</style>\n",
       "<table border=\"1\" class=\"dataframe\">\n",
       "  <thead>\n",
       "    <tr style=\"text-align: right;\">\n",
       "      <th></th>\n",
       "      <th>Week_Year</th>\n",
       "      <th>NO</th>\n",
       "      <th>SE</th>\n",
       "    </tr>\n",
       "  </thead>\n",
       "  <tbody>\n",
       "    <tr>\n",
       "      <th>0</th>\n",
       "      <td>02 - 13</td>\n",
       "      <td>54099</td>\n",
       "      <td>20521</td>\n",
       "    </tr>\n",
       "    <tr>\n",
       "      <th>1</th>\n",
       "      <td>03 - 13</td>\n",
       "      <td>51059</td>\n",
       "      <td>19122</td>\n",
       "    </tr>\n",
       "    <tr>\n",
       "      <th>2</th>\n",
       "      <td>04 - 13</td>\n",
       "      <td>48117</td>\n",
       "      <td>17706</td>\n",
       "    </tr>\n",
       "    <tr>\n",
       "      <th>3</th>\n",
       "      <td>05 - 13</td>\n",
       "      <td>45906</td>\n",
       "      <td>16650</td>\n",
       "    </tr>\n",
       "    <tr>\n",
       "      <th>4</th>\n",
       "      <td>06 - 13</td>\n",
       "      <td>43302</td>\n",
       "      <td>15356</td>\n",
       "    </tr>\n",
       "  </tbody>\n",
       "</table>\n",
       "</div>"
      ],
      "text/plain": [
       "  Week_Year     NO     SE\n",
       "0   02 - 13  54099  20521\n",
       "1   03 - 13  51059  19122\n",
       "2   04 - 13  48117  17706\n",
       "3   05 - 13  45906  16650\n",
       "4   06 - 13  43302  15356"
      ]
     },
     "execution_count": 567,
     "metadata": {},
     "output_type": "execute_result"
    }
   ],
   "source": [
    "df_hydro.head()"
   ]
  },
  {
   "cell_type": "code",
   "execution_count": 568,
   "metadata": {},
   "outputs": [
    {
     "data": {
      "text/plain": [
       "array(['02\\xa0-\\xa013', '03\\xa0-\\xa013', '04\\xa0-\\xa013', '05\\xa0-\\xa013',\n",
       "       '06\\xa0-\\xa013', '07\\xa0-\\xa013', '08\\xa0-\\xa013', '09\\xa0-\\xa013',\n",
       "       '10\\xa0-\\xa013', '11\\xa0-\\xa013', '12\\xa0-\\xa013', '13\\xa0-\\xa013',\n",
       "       '14\\xa0-\\xa013', '15\\xa0-\\xa013', '16\\xa0-\\xa013', '17\\xa0-\\xa013',\n",
       "       '18\\xa0-\\xa013', '19\\xa0-\\xa013', '20\\xa0-\\xa013', '21\\xa0-\\xa013',\n",
       "       '22\\xa0-\\xa013', '23\\xa0-\\xa013', '24\\xa0-\\xa013', '25\\xa0-\\xa013',\n",
       "       '26\\xa0-\\xa013', '27\\xa0-\\xa013', '28\\xa0-\\xa013', '29\\xa0-\\xa013',\n",
       "       '30\\xa0-\\xa013', '31\\xa0-\\xa013', '32\\xa0-\\xa013', '33\\xa0-\\xa013',\n",
       "       '34\\xa0-\\xa013', '35\\xa0-\\xa013', '36\\xa0-\\xa013', '37\\xa0-\\xa013',\n",
       "       '38\\xa0-\\xa013', '39\\xa0-\\xa013', '40\\xa0-\\xa013', '41\\xa0-\\xa013',\n",
       "       '42\\xa0-\\xa013', '43\\xa0-\\xa013', '44\\xa0-\\xa013', '45\\xa0-\\xa013',\n",
       "       '46\\xa0-\\xa013', '47\\xa0-\\xa013', '48\\xa0-\\xa013', '49\\xa0-\\xa013',\n",
       "       '50\\xa0-\\xa013', '51\\xa0-\\xa013', '52\\xa0-\\xa013', '01\\xa0-\\xa014'],\n",
       "      dtype=object)"
      ]
     },
     "execution_count": 568,
     "metadata": {},
     "output_type": "execute_result"
    }
   ],
   "source": [
    "df_hydro.Week_Year.unique()"
   ]
  },
  {
   "cell_type": "code",
   "execution_count": 569,
   "metadata": {},
   "outputs": [],
   "source": [
    "df_hydro.Week_Year = df_hydro.Week_Year.apply(lambda x: x[:2]+' - '+x[-2:])"
   ]
  },
  {
   "cell_type": "code",
   "execution_count": 570,
   "metadata": {},
   "outputs": [
    {
     "name": "stdout",
     "output_type": "stream",
     "text": [
      "<class 'pandas.core.frame.DataFrame'>\n",
      "RangeIndex: 52 entries, 0 to 51\n",
      "Data columns (total 3 columns):\n",
      "Week_Year    52 non-null object\n",
      "NO           52 non-null int64\n",
      "SE           52 non-null int64\n",
      "dtypes: int64(2), object(1)\n",
      "memory usage: 1.3+ KB\n"
     ]
    }
   ],
   "source": [
    "df_hydro.info()"
   ]
  },
  {
   "cell_type": "markdown",
   "metadata": {},
   "source": [
    "Now do the same cleaning steps to the hydro data from 2014 to 2019."
   ]
  },
  {
   "cell_type": "code",
   "execution_count": 571,
   "metadata": {},
   "outputs": [],
   "source": [
    "for year in range(2014, 2020):\n",
    "    df_hydro_ = pd.read_csv(r'data\\hydro-reservoir_{}_weekly.csv'.format(year), skiprows=[0, 1])\n",
    "    df_hydro_ = df_hydro_.rename(columns={'Unnamed: 0': 'Week_Year'}\n",
    "                          )[['Week_Year', 'NO', 'SE']]\n",
    "    df_hydro_.Week_Year = df_hydro_.Week_Year.apply(lambda x: x[:2]+' - '+x[-2:])\n",
    "    df_hydro = pd.concat([df_hydro, df_hydro_], ignore_index=True)"
   ]
  },
  {
   "cell_type": "code",
   "execution_count": 572,
   "metadata": {},
   "outputs": [
    {
     "data": {
      "text/html": [
       "<div>\n",
       "<style scoped>\n",
       "    .dataframe tbody tr th:only-of-type {\n",
       "        vertical-align: middle;\n",
       "    }\n",
       "\n",
       "    .dataframe tbody tr th {\n",
       "        vertical-align: top;\n",
       "    }\n",
       "\n",
       "    .dataframe thead th {\n",
       "        text-align: right;\n",
       "    }\n",
       "</style>\n",
       "<table border=\"1\" class=\"dataframe\">\n",
       "  <thead>\n",
       "    <tr style=\"text-align: right;\">\n",
       "      <th></th>\n",
       "      <th>Week_Year</th>\n",
       "      <th>NO</th>\n",
       "      <th>SE</th>\n",
       "    </tr>\n",
       "  </thead>\n",
       "  <tbody>\n",
       "    <tr>\n",
       "      <th>310</th>\n",
       "      <td>52 - 18</td>\n",
       "      <td>NaN</td>\n",
       "      <td>NaN</td>\n",
       "    </tr>\n",
       "    <tr>\n",
       "      <th>311</th>\n",
       "      <td>01 - 19</td>\n",
       "      <td>NaN</td>\n",
       "      <td>NaN</td>\n",
       "    </tr>\n",
       "    <tr>\n",
       "      <th>361</th>\n",
       "      <td>50 - 19</td>\n",
       "      <td>NaN</td>\n",
       "      <td>NaN</td>\n",
       "    </tr>\n",
       "    <tr>\n",
       "      <th>362</th>\n",
       "      <td>51 - 19</td>\n",
       "      <td>NaN</td>\n",
       "      <td>NaN</td>\n",
       "    </tr>\n",
       "  </tbody>\n",
       "</table>\n",
       "</div>"
      ],
      "text/plain": [
       "    Week_Year  NO  SE\n",
       "310   52 - 18 NaN NaN\n",
       "311   01 - 19 NaN NaN\n",
       "361   50 - 19 NaN NaN\n",
       "362   51 - 19 NaN NaN"
      ]
     },
     "execution_count": 572,
     "metadata": {},
     "output_type": "execute_result"
    }
   ],
   "source": [
    "df_hydro[df_hydro.NO.isnull()]"
   ]
  },
  {
   "cell_type": "markdown",
   "metadata": {},
   "source": [
    "Luckily, I found the data for '52 - 18' and '50 - 19' on https://www.nordpoolgroup.com/Market-data1/#/nordic/table."
   ]
  },
  {
   "cell_type": "code",
   "execution_count": 573,
   "metadata": {},
   "outputs": [],
   "source": [
    "df_hydro.at[361, 'NO'] = 58361\n",
    "df_hydro.at[361, 'SE'] = 21817"
   ]
  },
  {
   "cell_type": "code",
   "execution_count": 574,
   "metadata": {},
   "outputs": [],
   "source": [
    "df_hydro.at[310, 'NO'] = 55522\n",
    "df_hydro.at[310, 'SE'] = 18662"
   ]
  },
  {
   "cell_type": "code",
   "execution_count": 575,
   "metadata": {},
   "outputs": [
    {
     "data": {
      "text/html": [
       "<div>\n",
       "<style scoped>\n",
       "    .dataframe tbody tr th:only-of-type {\n",
       "        vertical-align: middle;\n",
       "    }\n",
       "\n",
       "    .dataframe tbody tr th {\n",
       "        vertical-align: top;\n",
       "    }\n",
       "\n",
       "    .dataframe thead th {\n",
       "        text-align: right;\n",
       "    }\n",
       "</style>\n",
       "<table border=\"1\" class=\"dataframe\">\n",
       "  <thead>\n",
       "    <tr style=\"text-align: right;\">\n",
       "      <th></th>\n",
       "      <th>Week_Year</th>\n",
       "      <th>NO</th>\n",
       "      <th>SE</th>\n",
       "    </tr>\n",
       "  </thead>\n",
       "  <tbody>\n",
       "    <tr>\n",
       "      <th>311</th>\n",
       "      <td>01 - 19</td>\n",
       "      <td>NaN</td>\n",
       "      <td>NaN</td>\n",
       "    </tr>\n",
       "    <tr>\n",
       "      <th>362</th>\n",
       "      <td>51 - 19</td>\n",
       "      <td>NaN</td>\n",
       "      <td>NaN</td>\n",
       "    </tr>\n",
       "  </tbody>\n",
       "</table>\n",
       "</div>"
      ],
      "text/plain": [
       "    Week_Year  NO  SE\n",
       "311   01 - 19 NaN NaN\n",
       "362   51 - 19 NaN NaN"
      ]
     },
     "execution_count": 575,
     "metadata": {},
     "output_type": "execute_result"
    }
   ],
   "source": [
    "df_hydro[df_hydro.NO.isnull()]"
   ]
  },
  {
   "cell_type": "code",
   "execution_count": 576,
   "metadata": {},
   "outputs": [
    {
     "data": {
      "text/html": [
       "<div>\n",
       "<style scoped>\n",
       "    .dataframe tbody tr th:only-of-type {\n",
       "        vertical-align: middle;\n",
       "    }\n",
       "\n",
       "    .dataframe tbody tr th {\n",
       "        vertical-align: top;\n",
       "    }\n",
       "\n",
       "    .dataframe thead th {\n",
       "        text-align: right;\n",
       "    }\n",
       "</style>\n",
       "<table border=\"1\" class=\"dataframe\">\n",
       "  <thead>\n",
       "    <tr style=\"text-align: right;\">\n",
       "      <th></th>\n",
       "      <th>Week_Year</th>\n",
       "      <th>NO</th>\n",
       "      <th>SE</th>\n",
       "    </tr>\n",
       "  </thead>\n",
       "  <tbody>\n",
       "    <tr>\n",
       "      <th>311</th>\n",
       "      <td>01 - 19</td>\n",
       "      <td>NaN</td>\n",
       "      <td>NaN</td>\n",
       "    </tr>\n",
       "    <tr>\n",
       "      <th>312</th>\n",
       "      <td>01 - 19</td>\n",
       "      <td>54300.0</td>\n",
       "      <td>18035.0</td>\n",
       "    </tr>\n",
       "  </tbody>\n",
       "</table>\n",
       "</div>"
      ],
      "text/plain": [
       "    Week_Year       NO       SE\n",
       "311   01 - 19      NaN      NaN\n",
       "312   01 - 19  54300.0  18035.0"
      ]
     },
     "execution_count": 576,
     "metadata": {},
     "output_type": "execute_result"
    }
   ],
   "source": [
    "df_hydro[df_hydro.Week_Year.duplicated(keep=False)]"
   ]
  },
  {
   "cell_type": "code",
   "execution_count": 577,
   "metadata": {},
   "outputs": [],
   "source": [
    "df_hydro = df_hydro.drop([311, 362])"
   ]
  },
  {
   "cell_type": "code",
   "execution_count": 578,
   "metadata": {},
   "outputs": [
    {
     "name": "stdout",
     "output_type": "stream",
     "text": [
      "<class 'pandas.core.frame.DataFrame'>\n",
      "Int64Index: 361 entries, 0 to 361\n",
      "Data columns (total 3 columns):\n",
      "Week_Year    361 non-null object\n",
      "NO           361 non-null float64\n",
      "SE           361 non-null float64\n",
      "dtypes: float64(2), object(1)\n",
      "memory usage: 11.3+ KB\n"
     ]
    }
   ],
   "source": [
    "df_hydro.info()"
   ]
  },
  {
   "cell_type": "code",
   "execution_count": 579,
   "metadata": {},
   "outputs": [],
   "source": [
    "df_hydro['NO'] = df_hydro['NO'].astype(int)\n",
    "df_hydro['SE'] = df_hydro['SE'].astype(int)"
   ]
  },
  {
   "cell_type": "markdown",
   "metadata": {},
   "source": [
    "Create a column that shows the week-year of each timestamps, in order to combine the price data and the hydro data."
   ]
  },
  {
   "cell_type": "code",
   "execution_count": 580,
   "metadata": {},
   "outputs": [],
   "source": [
    "def dt_to_weekyearstr(dt):\n",
    "    \"\"\"Convert the timestamp to 'week - year' string\"\"\"\n",
    "    if dt.week == 1 & dt.month == 12:\n",
    "        year_str = str(dt.year + 1)[-2:]\n",
    "    else:\n",
    "        year_str = str(dt.year)[-2:]\n",
    "\n",
    "    if dt.week < 10:\n",
    "        week_str = '0' + str(dt.week)\n",
    "    else:\n",
    "        week_str = str(dt.week)\n",
    "\n",
    "    return week_str + ' - ' + year_str"
   ]
  },
  {
   "cell_type": "code",
   "execution_count": 581,
   "metadata": {},
   "outputs": [],
   "source": [
    "ds_weekyear = ds_oslo.index.to_series().apply(dt_to_weekyearstr).rename('Week_Year')"
   ]
  },
  {
   "cell_type": "code",
   "execution_count": 582,
   "metadata": {},
   "outputs": [
    {
     "data": {
      "text/plain": [
       "Time\n",
       "2013-01-01 00:00:00    01 - 13\n",
       "2013-01-01 01:00:00    01 - 13\n",
       "2013-01-01 02:00:00    01 - 13\n",
       "2013-01-01 03:00:00    01 - 13\n",
       "2013-01-01 04:00:00    01 - 13\n",
       "Name: Week_Year, dtype: object"
      ]
     },
     "execution_count": 582,
     "metadata": {},
     "output_type": "execute_result"
    }
   ],
   "source": [
    "ds_weekyear.head()"
   ]
  },
  {
   "cell_type": "code",
   "execution_count": 583,
   "metadata": {},
   "outputs": [],
   "source": [
    "df_price_hydro = pd.concat([ds_oslo, ds_weekyear], axis=1)"
   ]
  },
  {
   "cell_type": "code",
   "execution_count": 584,
   "metadata": {},
   "outputs": [
    {
     "data": {
      "text/html": [
       "<div>\n",
       "<style scoped>\n",
       "    .dataframe tbody tr th:only-of-type {\n",
       "        vertical-align: middle;\n",
       "    }\n",
       "\n",
       "    .dataframe tbody tr th {\n",
       "        vertical-align: top;\n",
       "    }\n",
       "\n",
       "    .dataframe thead th {\n",
       "        text-align: right;\n",
       "    }\n",
       "</style>\n",
       "<table border=\"1\" class=\"dataframe\">\n",
       "  <thead>\n",
       "    <tr style=\"text-align: right;\">\n",
       "      <th></th>\n",
       "      <th>Price</th>\n",
       "      <th>Week_Year</th>\n",
       "    </tr>\n",
       "    <tr>\n",
       "      <th>Time</th>\n",
       "      <th></th>\n",
       "      <th></th>\n",
       "    </tr>\n",
       "  </thead>\n",
       "  <tbody>\n",
       "    <tr>\n",
       "      <th>2013-01-01 00:00:00</th>\n",
       "      <td>242.16</td>\n",
       "      <td>01 - 13</td>\n",
       "    </tr>\n",
       "    <tr>\n",
       "      <th>2013-01-01 01:00:00</th>\n",
       "      <td>242.09</td>\n",
       "      <td>01 - 13</td>\n",
       "    </tr>\n",
       "    <tr>\n",
       "      <th>2013-01-01 02:00:00</th>\n",
       "      <td>239.30</td>\n",
       "      <td>01 - 13</td>\n",
       "    </tr>\n",
       "    <tr>\n",
       "      <th>2013-01-01 03:00:00</th>\n",
       "      <td>231.52</td>\n",
       "      <td>01 - 13</td>\n",
       "    </tr>\n",
       "    <tr>\n",
       "      <th>2013-01-01 04:00:00</th>\n",
       "      <td>224.25</td>\n",
       "      <td>01 - 13</td>\n",
       "    </tr>\n",
       "  </tbody>\n",
       "</table>\n",
       "</div>"
      ],
      "text/plain": [
       "                      Price Week_Year\n",
       "Time                                 \n",
       "2013-01-01 00:00:00  242.16   01 - 13\n",
       "2013-01-01 01:00:00  242.09   01 - 13\n",
       "2013-01-01 02:00:00  239.30   01 - 13\n",
       "2013-01-01 03:00:00  231.52   01 - 13\n",
       "2013-01-01 04:00:00  224.25   01 - 13"
      ]
     },
     "execution_count": 584,
     "metadata": {},
     "output_type": "execute_result"
    }
   ],
   "source": [
    "df_price_hydro.head()"
   ]
  },
  {
   "cell_type": "code",
   "execution_count": 586,
   "metadata": {},
   "outputs": [],
   "source": [
    "df_price_hydro = df_price_hydro.reset_index()"
   ]
  },
  {
   "cell_type": "code",
   "execution_count": 587,
   "metadata": {},
   "outputs": [
    {
     "data": {
      "text/html": [
       "<div>\n",
       "<style scoped>\n",
       "    .dataframe tbody tr th:only-of-type {\n",
       "        vertical-align: middle;\n",
       "    }\n",
       "\n",
       "    .dataframe tbody tr th {\n",
       "        vertical-align: top;\n",
       "    }\n",
       "\n",
       "    .dataframe thead th {\n",
       "        text-align: right;\n",
       "    }\n",
       "</style>\n",
       "<table border=\"1\" class=\"dataframe\">\n",
       "  <thead>\n",
       "    <tr style=\"text-align: right;\">\n",
       "      <th></th>\n",
       "      <th>Time</th>\n",
       "      <th>Price</th>\n",
       "      <th>Week_Year</th>\n",
       "      <th>NO</th>\n",
       "      <th>SE</th>\n",
       "    </tr>\n",
       "  </thead>\n",
       "  <tbody>\n",
       "    <tr>\n",
       "      <th>0</th>\n",
       "      <td>2013-01-07 00:00:00</td>\n",
       "      <td>255.87</td>\n",
       "      <td>02 - 13</td>\n",
       "      <td>54099</td>\n",
       "      <td>20521</td>\n",
       "    </tr>\n",
       "    <tr>\n",
       "      <th>1</th>\n",
       "      <td>2013-01-07 01:00:00</td>\n",
       "      <td>246.65</td>\n",
       "      <td>02 - 13</td>\n",
       "      <td>54099</td>\n",
       "      <td>20521</td>\n",
       "    </tr>\n",
       "    <tr>\n",
       "      <th>2</th>\n",
       "      <td>2013-01-07 02:00:00</td>\n",
       "      <td>242.40</td>\n",
       "      <td>02 - 13</td>\n",
       "      <td>54099</td>\n",
       "      <td>20521</td>\n",
       "    </tr>\n",
       "    <tr>\n",
       "      <th>3</th>\n",
       "      <td>2013-01-07 03:00:00</td>\n",
       "      <td>243.43</td>\n",
       "      <td>02 - 13</td>\n",
       "      <td>54099</td>\n",
       "      <td>20521</td>\n",
       "    </tr>\n",
       "    <tr>\n",
       "      <th>4</th>\n",
       "      <td>2013-01-07 04:00:00</td>\n",
       "      <td>250.16</td>\n",
       "      <td>02 - 13</td>\n",
       "      <td>54099</td>\n",
       "      <td>20521</td>\n",
       "    </tr>\n",
       "    <tr>\n",
       "      <th>...</th>\n",
       "      <td>...</td>\n",
       "      <td>...</td>\n",
       "      <td>...</td>\n",
       "      <td>...</td>\n",
       "      <td>...</td>\n",
       "    </tr>\n",
       "    <tr>\n",
       "      <th>60523</th>\n",
       "      <td>2019-12-15 19:00:00</td>\n",
       "      <td>371.50</td>\n",
       "      <td>50 - 19</td>\n",
       "      <td>58361</td>\n",
       "      <td>21817</td>\n",
       "    </tr>\n",
       "    <tr>\n",
       "      <th>60524</th>\n",
       "      <td>2019-12-15 20:00:00</td>\n",
       "      <td>368.78</td>\n",
       "      <td>50 - 19</td>\n",
       "      <td>58361</td>\n",
       "      <td>21817</td>\n",
       "    </tr>\n",
       "    <tr>\n",
       "      <th>60525</th>\n",
       "      <td>2019-12-15 21:00:00</td>\n",
       "      <td>366.57</td>\n",
       "      <td>50 - 19</td>\n",
       "      <td>58361</td>\n",
       "      <td>21817</td>\n",
       "    </tr>\n",
       "    <tr>\n",
       "      <th>60526</th>\n",
       "      <td>2019-12-15 22:00:00</td>\n",
       "      <td>364.16</td>\n",
       "      <td>50 - 19</td>\n",
       "      <td>58361</td>\n",
       "      <td>21817</td>\n",
       "    </tr>\n",
       "    <tr>\n",
       "      <th>60527</th>\n",
       "      <td>2019-12-15 23:00:00</td>\n",
       "      <td>364.26</td>\n",
       "      <td>50 - 19</td>\n",
       "      <td>58361</td>\n",
       "      <td>21817</td>\n",
       "    </tr>\n",
       "  </tbody>\n",
       "</table>\n",
       "<p>60528 rows × 5 columns</p>\n",
       "</div>"
      ],
      "text/plain": [
       "                     Time   Price Week_Year     NO     SE\n",
       "0     2013-01-07 00:00:00  255.87   02 - 13  54099  20521\n",
       "1     2013-01-07 01:00:00  246.65   02 - 13  54099  20521\n",
       "2     2013-01-07 02:00:00  242.40   02 - 13  54099  20521\n",
       "3     2013-01-07 03:00:00  243.43   02 - 13  54099  20521\n",
       "4     2013-01-07 04:00:00  250.16   02 - 13  54099  20521\n",
       "...                   ...     ...       ...    ...    ...\n",
       "60523 2019-12-15 19:00:00  371.50   50 - 19  58361  21817\n",
       "60524 2019-12-15 20:00:00  368.78   50 - 19  58361  21817\n",
       "60525 2019-12-15 21:00:00  366.57   50 - 19  58361  21817\n",
       "60526 2019-12-15 22:00:00  364.16   50 - 19  58361  21817\n",
       "60527 2019-12-15 23:00:00  364.26   50 - 19  58361  21817\n",
       "\n",
       "[60528 rows x 5 columns]"
      ]
     },
     "execution_count": 587,
     "metadata": {},
     "output_type": "execute_result"
    }
   ],
   "source": [
    "# df_price_hydro = \n",
    "pd.merge(df_price_hydro, df_hydro, how='inner', on='Week_Year')"
   ]
  },
  {
   "cell_type": "code",
   "execution_count": 588,
   "metadata": {},
   "outputs": [
    {
     "data": {
      "text/plain": [
       "{'01 - 13', '01 - 16', '51 - 19', '53 - 16'}"
      ]
     },
     "execution_count": 588,
     "metadata": {},
     "output_type": "execute_result"
    }
   ],
   "source": [
    "missing_weeks = set(df_price_hydro['Week_Year'].unique()) - set(\n",
    "    df_hydro['Week_Year'].unique())\n",
    "missing_weeks"
   ]
  },
  {
   "cell_type": "markdown",
   "metadata": {},
   "source": [
    "We can see that the hydro data for these weeks {'01 - 13', '01 - 16', '51 - 19', '53 - 16'} are missing. Since these data cannot be found on NordPool. I use the hydro level after these weeks. Since we only forecast prices before week 51, we remove data for week 51."
   ]
  },
  {
   "cell_type": "code",
   "execution_count": 589,
   "metadata": {},
   "outputs": [],
   "source": [
    "df_hydro_ms = pd.DataFrame(\n",
    "    [[\n",
    "        '01 - 13', df_hydro[df_hydro.Week_Year == '02 - 13'].NO.values[0],\n",
    "        df_hydro[df_hydro.Week_Year == '02 - 13'].SE.values[0]\n",
    "    ],\n",
    "     [\n",
    "         '01 - 16', df_hydro[df_hydro.Week_Year == '02 - 16'].NO.values[0],\n",
    "         df_hydro[df_hydro.Week_Year == '02 - 16'].SE.values[0]\n",
    "     ],\n",
    "     [\n",
    "         '53 - 16', df_hydro[df_hydro.Week_Year == '01 - 17'].NO.values[0],\n",
    "         df_hydro[df_hydro.Week_Year == '01 - 17'].SE.values[0]\n",
    "     ]],\n",
    "    columns=['Week_Year', 'NO', 'SE'])"
   ]
  },
  {
   "cell_type": "code",
   "execution_count": 590,
   "metadata": {},
   "outputs": [],
   "source": [
    "df_hydro = pd.concat([df_hydro, df_hydro_ms])"
   ]
  },
  {
   "cell_type": "code",
   "execution_count": 591,
   "metadata": {},
   "outputs": [],
   "source": [
    "df_price_hydro = pd.merge(df_price_hydro,\n",
    "                          df_hydro,\n",
    "                          how='inner',\n",
    "                          on='Week_Year')"
   ]
  },
  {
   "cell_type": "code",
   "execution_count": 592,
   "metadata": {},
   "outputs": [
    {
     "data": {
      "text/html": [
       "<div>\n",
       "<style scoped>\n",
       "    .dataframe tbody tr th:only-of-type {\n",
       "        vertical-align: middle;\n",
       "    }\n",
       "\n",
       "    .dataframe tbody tr th {\n",
       "        vertical-align: top;\n",
       "    }\n",
       "\n",
       "    .dataframe thead th {\n",
       "        text-align: right;\n",
       "    }\n",
       "</style>\n",
       "<table border=\"1\" class=\"dataframe\">\n",
       "  <thead>\n",
       "    <tr style=\"text-align: right;\">\n",
       "      <th></th>\n",
       "      <th>Time</th>\n",
       "      <th>Price</th>\n",
       "      <th>Week_Year</th>\n",
       "      <th>NO</th>\n",
       "      <th>SE</th>\n",
       "    </tr>\n",
       "  </thead>\n",
       "  <tbody>\n",
       "  </tbody>\n",
       "</table>\n",
       "</div>"
      ],
      "text/plain": [
       "Empty DataFrame\n",
       "Columns: [Time, Price, Week_Year, NO, SE]\n",
       "Index: []"
      ]
     },
     "execution_count": 592,
     "metadata": {},
     "output_type": "execute_result"
    }
   ],
   "source": [
    "df_price_hydro[df_price_hydro.NO.isnull()]"
   ]
  },
  {
   "cell_type": "code",
   "execution_count": 597,
   "metadata": {},
   "outputs": [
    {
     "data": {
      "text/html": [
       "<div>\n",
       "<style scoped>\n",
       "    .dataframe tbody tr th:only-of-type {\n",
       "        vertical-align: middle;\n",
       "    }\n",
       "\n",
       "    .dataframe tbody tr th {\n",
       "        vertical-align: top;\n",
       "    }\n",
       "\n",
       "    .dataframe thead th {\n",
       "        text-align: right;\n",
       "    }\n",
       "</style>\n",
       "<table border=\"1\" class=\"dataframe\">\n",
       "  <thead>\n",
       "    <tr style=\"text-align: right;\">\n",
       "      <th></th>\n",
       "      <th>Time</th>\n",
       "      <th>Price</th>\n",
       "      <th>Week_Year</th>\n",
       "      <th>NO</th>\n",
       "      <th>SE</th>\n",
       "    </tr>\n",
       "  </thead>\n",
       "  <tbody>\n",
       "    <tr>\n",
       "      <th>0</th>\n",
       "      <td>2013-01-01 00:00:00</td>\n",
       "      <td>242.16</td>\n",
       "      <td>01 - 13</td>\n",
       "      <td>54099</td>\n",
       "      <td>20521</td>\n",
       "    </tr>\n",
       "    <tr>\n",
       "      <th>1</th>\n",
       "      <td>2013-01-01 01:00:00</td>\n",
       "      <td>242.09</td>\n",
       "      <td>01 - 13</td>\n",
       "      <td>54099</td>\n",
       "      <td>20521</td>\n",
       "    </tr>\n",
       "    <tr>\n",
       "      <th>2</th>\n",
       "      <td>2013-01-01 02:00:00</td>\n",
       "      <td>239.30</td>\n",
       "      <td>01 - 13</td>\n",
       "      <td>54099</td>\n",
       "      <td>20521</td>\n",
       "    </tr>\n",
       "    <tr>\n",
       "      <th>3</th>\n",
       "      <td>2013-01-01 03:00:00</td>\n",
       "      <td>231.52</td>\n",
       "      <td>01 - 13</td>\n",
       "      <td>54099</td>\n",
       "      <td>20521</td>\n",
       "    </tr>\n",
       "    <tr>\n",
       "      <th>4</th>\n",
       "      <td>2013-01-01 04:00:00</td>\n",
       "      <td>224.25</td>\n",
       "      <td>01 - 13</td>\n",
       "      <td>54099</td>\n",
       "      <td>20521</td>\n",
       "    </tr>\n",
       "  </tbody>\n",
       "</table>\n",
       "</div>"
      ],
      "text/plain": [
       "                 Time   Price Week_Year     NO     SE\n",
       "0 2013-01-01 00:00:00  242.16   01 - 13  54099  20521\n",
       "1 2013-01-01 01:00:00  242.09   01 - 13  54099  20521\n",
       "2 2013-01-01 02:00:00  239.30   01 - 13  54099  20521\n",
       "3 2013-01-01 03:00:00  231.52   01 - 13  54099  20521\n",
       "4 2013-01-01 04:00:00  224.25   01 - 13  54099  20521"
      ]
     },
     "execution_count": 597,
     "metadata": {},
     "output_type": "execute_result"
    }
   ],
   "source": [
    "df_price_hydro.head()"
   ]
  },
  {
   "cell_type": "code",
   "execution_count": 600,
   "metadata": {},
   "outputs": [],
   "source": [
    "df_price_hydro = df_price_hydro.set_index('Time')"
   ]
  },
  {
   "cell_type": "code",
   "execution_count": 610,
   "metadata": {},
   "outputs": [],
   "source": [
    "df_price_hydro = df_price_hydro.drop(columns=['Week_Year'])"
   ]
  },
  {
   "cell_type": "code",
   "execution_count": 601,
   "metadata": {},
   "outputs": [
    {
     "name": "stdout",
     "output_type": "stream",
     "text": [
      "<class 'pandas.core.frame.DataFrame'>\n",
      "DatetimeIndex: 60960 entries, 2013-01-01 00:00:00 to 2019-12-15 23:00:00\n",
      "Data columns (total 4 columns):\n",
      "Price        60960 non-null float64\n",
      "Week_Year    60960 non-null object\n",
      "NO           60960 non-null int64\n",
      "SE           60960 non-null int64\n",
      "dtypes: float64(1), int64(2), object(1)\n",
      "memory usage: 2.3+ MB\n"
     ]
    }
   ],
   "source": [
    "df_price_hydro.info()"
   ]
  },
  {
   "cell_type": "markdown",
   "metadata": {},
   "source": [
    "Take a look at the historic hydro level with figure."
   ]
  },
  {
   "cell_type": "code",
   "execution_count": 605,
   "metadata": {},
   "outputs": [
    {
     "data": {
      "text/plain": [
       "<matplotlib.axes._subplots.AxesSubplot at 0xc19d182588>"
      ]
     },
     "execution_count": 605,
     "metadata": {},
     "output_type": "execute_result"
    },
    {
     "data": {
      "text/plain": [
       "<Figure size 864x432 with 0 Axes>"
      ]
     },
     "metadata": {},
     "output_type": "display_data"
    },
    {
     "data": {
      "image/png": "[encoded data removed]",
      "text/plain": [
       "<Figure size 432x288 with 1 Axes>"
      ]
     },
     "metadata": {
      "needs_background": "light"
     },
     "output_type": "display_data"
    }
   ],
   "source": [
    "fig = plt.figure(figsize=(12, 6))\n",
    "df_price_hydro[['NO', 'SE']].plot()"
   ]
  },
  {
   "cell_type": "markdown",
   "metadata": {},
   "source": [
    "We can see that the hydro levels in Norway and Sweden have strong and similar seasonality. Summer time tends to have more water reserved than winter. The hydro level of Norway is 2 to 3 times higher than that of Sweden!"
   ]
  },
  {
   "cell_type": "code",
   "execution_count": 606,
   "metadata": {},
   "outputs": [
    {
     "data": {
      "text/html": [
       "<div>\n",
       "<style scoped>\n",
       "    .dataframe tbody tr th:only-of-type {\n",
       "        vertical-align: middle;\n",
       "    }\n",
       "\n",
       "    .dataframe tbody tr th {\n",
       "        vertical-align: top;\n",
       "    }\n",
       "\n",
       "    .dataframe thead th {\n",
       "        text-align: right;\n",
       "    }\n",
       "</style>\n",
       "<table border=\"1\" class=\"dataframe\">\n",
       "  <thead>\n",
       "    <tr style=\"text-align: right;\">\n",
       "      <th></th>\n",
       "      <th>Price</th>\n",
       "      <th>NO</th>\n",
       "      <th>SE</th>\n",
       "    </tr>\n",
       "  </thead>\n",
       "  <tbody>\n",
       "    <tr>\n",
       "      <th>count</th>\n",
       "      <td>60960.000000</td>\n",
       "      <td>60960.000000</td>\n",
       "      <td>60960.000000</td>\n",
       "    </tr>\n",
       "    <tr>\n",
       "      <th>mean</th>\n",
       "      <td>287.745939</td>\n",
       "      <td>51716.762992</td>\n",
       "      <td>19021.545276</td>\n",
       "    </tr>\n",
       "    <tr>\n",
       "      <th>std</th>\n",
       "      <td>109.190710</td>\n",
       "      <td>15013.029143</td>\n",
       "      <td>6710.823666</td>\n",
       "    </tr>\n",
       "    <tr>\n",
       "      <th>min</th>\n",
       "      <td>4.930000</td>\n",
       "      <td>20539.000000</td>\n",
       "      <td>5388.000000</td>\n",
       "    </tr>\n",
       "    <tr>\n",
       "      <th>25%</th>\n",
       "      <td>221.720000</td>\n",
       "      <td>37965.000000</td>\n",
       "      <td>13115.000000</td>\n",
       "    </tr>\n",
       "    <tr>\n",
       "      <th>50%</th>\n",
       "      <td>270.500000</td>\n",
       "      <td>54521.000000</td>\n",
       "      <td>21203.000000</td>\n",
       "    </tr>\n",
       "    <tr>\n",
       "      <th>75%</th>\n",
       "      <td>343.782500</td>\n",
       "      <td>64405.000000</td>\n",
       "      <td>24087.000000</td>\n",
       "    </tr>\n",
       "    <tr>\n",
       "      <th>max</th>\n",
       "      <td>2454.310000</td>\n",
       "      <td>76191.000000</td>\n",
       "      <td>30694.000000</td>\n",
       "    </tr>\n",
       "  </tbody>\n",
       "</table>\n",
       "</div>"
      ],
      "text/plain": [
       "              Price            NO            SE\n",
       "count  60960.000000  60960.000000  60960.000000\n",
       "mean     287.745939  51716.762992  19021.545276\n",
       "std      109.190710  15013.029143   6710.823666\n",
       "min        4.930000  20539.000000   5388.000000\n",
       "25%      221.720000  37965.000000  13115.000000\n",
       "50%      270.500000  54521.000000  21203.000000\n",
       "75%      343.782500  64405.000000  24087.000000\n",
       "max     2454.310000  76191.000000  30694.000000"
      ]
     },
     "execution_count": 606,
     "metadata": {},
     "output_type": "execute_result"
    }
   ],
   "source": [
    "df_price_hydro.describe()"
   ]
  },
  {
   "cell_type": "code",
   "execution_count": 607,
   "metadata": {},
   "outputs": [
    {
     "name": "stdout",
     "output_type": "stream",
     "text": [
      "The means show that the hydro level of Norway is 2.718851819954525 times of that of Sweden.\n"
     ]
    }
   ],
   "source": [
    "print(\n",
    "    'The means show that the hydro level of Norway is {} times of that of Sweden.'\n",
    "    .format(51716.762992 / 19021.545276))"
   ]
  },
  {
   "cell_type": "code",
   "execution_count": 674,
   "metadata": {},
   "outputs": [],
   "source": [
    "from sklearn.preprocessing import MinMaxScaler\n",
    "from sklearn.metrics import mean_squared_error\n",
    "from keras.models import Sequential\n",
    "from keras.layers import Dense, LSTM\n",
    "from keras.callbacks import EarlyStopping"
   ]
  },
  {
   "cell_type": "code",
   "execution_count": 651,
   "metadata": {},
   "outputs": [],
   "source": [
    "# ignore the annoying warning from tensorflow\n",
    "import os\n",
    "import tensorflow as tf\n",
    "os.environ['TF_CPP_MIN_LOG_LEVEL'] = '3'"
   ]
  },
  {
   "cell_type": "markdown",
   "metadata": {},
   "source": [
    "### LSTM modeling for 16.5 to 20.5 in 2019\n",
    "Data preprocessing first. Since we are going to forecast prices for 16.5 to 20.5 in 2019, we use data before 2019-5-16 to train the LSTM model and data between 16.5 to 20.5 for test. I am fully aware that, to properly train and evaluate the model, the data should be properly split, e.g. 80% for training and 20% for testing. However, it takes a while to achive optimal performance. Here, I simply show how to build an LSTM model and use it to forecast future prices."
   ]
  },
  {
   "cell_type": "code",
   "execution_count": 845,
   "metadata": {},
   "outputs": [],
   "source": [
    "dataset = df_price_hydro[:pd.to_datetime(datetime(2019, 5, 20, 23))].values\n",
    "dataset = dataset.astype('float32')"
   ]
  },
  {
   "cell_type": "code",
   "execution_count": 846,
   "metadata": {},
   "outputs": [
    {
     "data": {
      "text/plain": [
       "array([[0.09685308, 0.6030332 , 0.59800047],\n",
       "       [0.0968245 , 0.6030332 , 0.59800047],\n",
       "       [0.09568544, 0.6030332 , 0.59800047],\n",
       "       ...,\n",
       "       [0.16973273, 0.4150255 , 0.39291078],\n",
       "       [0.16857325, 0.4150255 , 0.39291078],\n",
       "       [0.15226302, 0.4150255 , 0.39291078]], dtype=float32)"
      ]
     },
     "execution_count": 846,
     "metadata": {},
     "output_type": "execute_result"
    }
   ],
   "source": [
    "# scale the data since data in different columns have quite different scales\n",
    "scaler = MinMaxScaler()\n",
    "dataset = scaler.fit_transform(dataset)\n",
    "dataset"
   ]
  },
  {
   "cell_type": "markdown",
   "metadata": {},
   "source": [
    "Split the data into train and test datasets."
   ]
  },
  {
   "cell_type": "code",
   "execution_count": 850,
   "metadata": {},
   "outputs": [
    {
     "data": {
      "text/plain": [
       "(55824, 120)"
      ]
     },
     "execution_count": 850,
     "metadata": {},
     "output_type": "execute_result"
    }
   ],
   "source": [
    "test_size = len(df_price_hydro[pd.to_datetime(datetime(2019, 5, 16, 0)):pd.\n",
    "                               to_datetime(datetime(2019, 5, 20, 23))])\n",
    "train_size = len(dataset) - test_size\n",
    "\n",
    "train_size, test_size"
   ]
  },
  {
   "cell_type": "code",
   "execution_count": 851,
   "metadata": {},
   "outputs": [],
   "source": [
    "train, test = dataset[0:train_size, :], dataset[train_size:len(dataset), :]"
   ]
  },
  {
   "cell_type": "code",
   "execution_count": 852,
   "metadata": {},
   "outputs": [
    {
     "data": {
      "text/plain": [
       "((55824, 3), (120, 3))"
      ]
     },
     "execution_count": 852,
     "metadata": {},
     "output_type": "execute_result"
    }
   ],
   "source": [
    "# check if correctly split\n",
    "train.shape, test.shape"
   ]
  },
  {
   "cell_type": "code",
   "execution_count": 853,
   "metadata": {},
   "outputs": [],
   "source": [
    "def get_XY(data, lookback):\n",
    "    \"\"\"Convert time series data into X - features and Y - label for LSTM network\n",
    "    lookback - number of lags or previous values to use for forecasting\n",
    "    \"\"\"\n",
    "    X, Y = [], []\n",
    "    for i in range(len(data) - lookback - 1):\n",
    "        lags = data[i:(i + lookback), :]\n",
    "        X.append(lags)\n",
    "        Y.append(data[i + lookback, 0])\n",
    "    return np.array(X), np.array(Y)"
   ]
  },
  {
   "cell_type": "code",
   "execution_count": 854,
   "metadata": {},
   "outputs": [],
   "source": [
    "# use previous 5 values for forecasting\n",
    "lookback = 5\n",
    "X_train, Y_train = get_XY(train, lookback)\n",
    "X_test, Y_test = get_XY(test, lookback)"
   ]
  },
  {
   "cell_type": "code",
   "execution_count": 855,
   "metadata": {},
   "outputs": [],
   "source": [
    "# reshape the data to (sample, lookback, features)\n",
    "X_train = np.reshape(X_train, (X_train.shape[0], lookback, nfeatures))\n",
    "X_test = np.reshape(X_test, (X_test.shape[0], lookback, nfeatures))"
   ]
  },
  {
   "cell_type": "code",
   "execution_count": 856,
   "metadata": {},
   "outputs": [],
   "source": [
    "# create a simple LSTM model\n",
    "LSTM_model = Sequential()\n",
    "LSTM_model.add(\n",
    "    LSTM(50, input_shape=(X_train.shape[1], X_train.shape[2]), dropout=0.2))\n",
    "LSTM_model.add(Dense(1))\n",
    "LSTM_model.compile(loss=\"mean_squared_error\", optimizer=\"adam\")"
   ]
  },
  {
   "cell_type": "code",
   "execution_count": 857,
   "metadata": {},
   "outputs": [
    {
     "name": "stdout",
     "output_type": "stream",
     "text": [
      "Train on 55818 samples, validate on 114 samples\n",
      "Epoch 1/20\n",
      "55818/55818 [==============================] - 17s 305us/step - loss: 7.1864e-04 - val_loss: 2.1645e-04\n",
      "Epoch 2/20\n",
      "55818/55818 [==============================] - 15s 274us/step - loss: 6.8508e-04 - val_loss: 3.3128e-04\n",
      "Epoch 3/20\n",
      "55818/55818 [==============================] - 19s 342us/step - loss: 6.8534e-04 - val_loss: 3.0083e-04\n",
      "Epoch 4/20\n",
      "55818/55818 [==============================] - 19s 333us/step - loss: 6.9306e-04 - val_loss: 2.9477e-04\n",
      "Epoch 5/20\n",
      "55818/55818 [==============================] - 20s 359us/step - loss: 6.8025e-04 - val_loss: 2.3425e-04\n",
      "Epoch 6/20\n",
      "55818/55818 [==============================] - 17s 312us/step - loss: 6.8193e-04 - val_loss: 2.2496e-04\n",
      "Epoch 7/20\n",
      "55818/55818 [==============================] - 20s 357us/step - loss: 6.6856e-04 - val_loss: 2.1758e-04\n",
      "Epoch 8/20\n",
      "55818/55818 [==============================] - 20s 362us/step - loss: 6.2711e-04 - val_loss: 2.2347e-04\n",
      "Epoch 9/20\n",
      "55818/55818 [==============================] - 21s 370us/step - loss: 5.5335e-04 - val_loss: 8.1609e-05\n",
      "Epoch 10/20\n",
      "55818/55818 [==============================] - 21s 378us/step - loss: 4.5247e-04 - val_loss: 2.5890e-04\n",
      "Epoch 11/20\n",
      "55818/55818 [==============================] - 23s 418us/step - loss: 3.7805e-04 - val_loss: 6.1446e-04\n",
      "Epoch 12/20\n",
      "55818/55818 [==============================] - 21s 382us/step - loss: 2.9455e-04 - val_loss: 0.00110\n",
      "Epoch 13/20\n",
      "55818/55818 [==============================] - 22s 393us/step - loss: 2.6516e-04 - val_loss: 0.0012\n",
      "Epoch 14/20\n",
      "55818/55818 [==============================] - 21s 377us/step - loss: 2.7750e-04 - val_loss: 0.0011\n",
      "Epoch 15/20\n",
      "55818/55818 [==============================] - 26s 471us/step - loss: 2.6587e-04 - val_loss: 0.0010 ETA:\n",
      "Epoch 16/20\n",
      "55818/55818 [==============================] - 26s 472us/step - loss: 2.6383e-04 - val_loss: 0.0010\n",
      "Epoch 17/20\n",
      "55818/55818 [==============================] - 23s 405us/step - loss: 2.6996e-04 - val_loss: 9.8550e-04\n",
      "Epoch 18/20\n",
      "55818/55818 [==============================] - 24s 426us/step - loss: 2.7129e-04 - val_loss: 0.0011\n",
      "Epoch 19/20\n",
      "55818/55818 [==============================] - 24s 434us/step - loss: 2.6004e-04 - val_loss: 0.0011ETA: 7s - loss: 2.3 - ETA:\n"
     ]
    }
   ],
   "source": [
    "# fit the LSTM model\n",
    "LSTM_history = LSTM_model.fit(\n",
    "    X_train,\n",
    "    Y_train,\n",
    "    epochs=20,\n",
    "    batch_size=50,\n",
    "    validation_data=(X_test, Y_test),\n",
    "    callbacks=[EarlyStopping(monitor='val_loss', patience=10)],\n",
    "    verbose=1,\n",
    "    shuffle=False)"
   ]
  },
  {
   "cell_type": "markdown",
   "metadata": {},
   "source": [
    "Have a look at the loss for both train and test data."
   ]
  },
  {
   "cell_type": "code",
   "execution_count": 859,
   "metadata": {},
   "outputs": [
    {
     "data": {
      "image/png": "[encoded data removed]",
      "text/plain": [
       "<Figure size 576x288 with 1 Axes>"
      ]
     },
     "metadata": {
      "needs_background": "light"
     },
     "output_type": "display_data"
    }
   ],
   "source": [
    "plt.figure(figsize=(8, 4))\n",
    "plt.plot(LSTM_history.history['loss'], label='train')\n",
    "plt.plot(LSTM_history.history['val_loss'], label='test')\n",
    "plt.legend(loc='upper right')\n",
    "plt.show()"
   ]
  },
  {
   "cell_type": "markdown",
   "metadata": {},
   "source": [
    "Now we want to see the forecasting results on both train and test data."
   ]
  },
  {
   "cell_type": "code",
   "execution_count": 860,
   "metadata": {},
   "outputs": [],
   "source": [
    "train_forecast = LSTM_model.predict(X_train)\n",
    "test_forecast = LSTM_model.predict(X_test)"
   ]
  },
  {
   "cell_type": "code",
   "execution_count": 861,
   "metadata": {},
   "outputs": [
    {
     "data": {
      "text/plain": [
       "array([[0.09864002],\n",
       "       [0.09972282],\n",
       "       [0.10334322],\n",
       "       ...,\n",
       "       [0.13553408],\n",
       "       [0.13452142],\n",
       "       [0.13260068]], dtype=float32)"
      ]
     },
     "execution_count": 861,
     "metadata": {},
     "output_type": "execute_result"
    }
   ],
   "source": [
    "train_forecast"
   ]
  },
  {
   "cell_type": "markdown",
   "metadata": {},
   "source": [
    "The forecasting result from the LSTM model is not at the scale of the real prices. We have to invert the scaling to get predictions at the same scale of the real prices."
   ]
  },
  {
   "cell_type": "code",
   "execution_count": 862,
   "metadata": {},
   "outputs": [],
   "source": [
    "train_forecast = scaler.inverse_transform(\n",
    "    np.concatenate((train_forecast, train[lookback + 1:, 1:]), axis=1))[:, 0]"
   ]
  },
  {
   "cell_type": "code",
   "execution_count": 863,
   "metadata": {},
   "outputs": [
    {
     "data": {
      "text/plain": [
       "array([246.5369 , 249.1891 , 258.05682, ..., 336.90448, 334.42413,\n",
       "       329.71948], dtype=float32)"
      ]
     },
     "execution_count": 863,
     "metadata": {},
     "output_type": "execute_result"
    }
   ],
   "source": [
    "train_forecast"
   ]
  },
  {
   "cell_type": "markdown",
   "metadata": {},
   "source": [
    "Now the forecasting result for train data is at the same scale of the real prices. Do the same for other data."
   ]
  },
  {
   "cell_type": "code",
   "execution_count": 864,
   "metadata": {},
   "outputs": [],
   "source": [
    "Y_train = np.reshape(Y_train, (Y_train.shape[0], 1))\n",
    "Y_train = scaler.inverse_transform(\n",
    "    np.concatenate((Y_train, train[lookback + 1:, 1:]), axis=1))[:, 0]"
   ]
  },
  {
   "cell_type": "code",
   "execution_count": 865,
   "metadata": {},
   "outputs": [
    {
     "data": {
      "text/plain": [
       "array([219.77   , 221.96999, 218.37   , ..., 421.03998, 416.14   ,\n",
       "       413.     ], dtype=float32)"
      ]
     },
     "execution_count": 865,
     "metadata": {},
     "output_type": "execute_result"
    }
   ],
   "source": [
    "Y_train"
   ]
  },
  {
   "cell_type": "code",
   "execution_count": 866,
   "metadata": {},
   "outputs": [],
   "source": [
    "test_forecast = scaler.inverse_transform(\n",
    "    np.concatenate((test_forecast, test[lookback + 1:, 1:]), axis=1))[:, 0]"
   ]
  },
  {
   "cell_type": "code",
   "execution_count": 867,
   "metadata": {},
   "outputs": [],
   "source": [
    "Y_test = np.reshape(Y_test, (Y_test.shape[0], 1))\n",
    "Y_test = scaler.inverse_transform(\n",
    "    np.concatenate((Y_test, test[lookback + 1:, 1:]), axis=1))[:, 0]"
   ]
  },
  {
   "cell_type": "code",
   "execution_count": 868,
   "metadata": {},
   "outputs": [
    {
     "name": "stdout",
     "output_type": "stream",
     "text": [
      "Mean absolute percentage error: train 0.4181002676486969, test 0.2059830278158188.\n"
     ]
    }
   ],
   "source": [
    "# evaluate the performance of the LSTM model using MAPE\n",
    "mape_train = np.mean(np.abs(Y_train - train_forecast) / np.abs(Y_train))\n",
    "mape_test = np.mean(np.abs(Y_test - test_forecast) / np.abs(Y_test))\n",
    "print('Mean absolute percentage error: train {}, test {}.'.format(mape_train, mape_test))"
   ]
  },
  {
   "cell_type": "markdown",
   "metadata": {},
   "source": [
    "It seems the results need improvement, compared to the ARIMA model. I guess this is normal, since there are so many factors can contribute to its performance."
   ]
  },
  {
   "cell_type": "markdown",
   "metadata": {},
   "source": [
    "Get a visual feeling of the real and forecasted prices:"
   ]
  },
  {
   "cell_type": "code",
   "execution_count": 869,
   "metadata": {},
   "outputs": [],
   "source": [
    "df_train = np.concatenate((np.reshape(train_forecast,(train_forecast.shape[0], 1)), \n",
    "                           np.reshape(Y_train, (Y_train.shape[0], 1))), \n",
    "                          axis=1)"
   ]
  },
  {
   "cell_type": "code",
   "execution_count": 870,
   "metadata": {},
   "outputs": [],
   "source": [
    "df_train = pd.DataFrame(df_train, columns=['Forecast', 'Real'])"
   ]
  },
  {
   "cell_type": "code",
   "execution_count": 871,
   "metadata": {},
   "outputs": [
    {
     "data": {
      "text/plain": [
       "<matplotlib.axes._subplots.AxesSubplot at 0xc35a847a48>"
      ]
     },
     "execution_count": 871,
     "metadata": {},
     "output_type": "execute_result"
    },
    {
     "data": {
      "image/png": "[encoded data removed]",
      "text/plain": [
       "<Figure size 432x288 with 1 Axes>"
      ]
     },
     "metadata": {
      "needs_background": "light"
     },
     "output_type": "display_data"
    }
   ],
   "source": [
    "df_train.plot()"
   ]
  },
  {
   "cell_type": "markdown",
   "metadata": {},
   "source": [
    "From the plot of the forecasting for the train data, we can see that the peak prices are not accuratly forecasted.  "
   ]
  },
  {
   "cell_type": "code",
   "execution_count": 882,
   "metadata": {},
   "outputs": [
    {
     "data": {
      "text/html": [
       "<div>\n",
       "<style scoped>\n",
       "    .dataframe tbody tr th:only-of-type {\n",
       "        vertical-align: middle;\n",
       "    }\n",
       "\n",
       "    .dataframe tbody tr th {\n",
       "        vertical-align: top;\n",
       "    }\n",
       "\n",
       "    .dataframe thead th {\n",
       "        text-align: right;\n",
       "    }\n",
       "</style>\n",
       "<table border=\"1\" class=\"dataframe\">\n",
       "  <thead>\n",
       "    <tr style=\"text-align: right;\">\n",
       "      <th></th>\n",
       "      <th>Forecast</th>\n",
       "      <th>Real</th>\n",
       "    </tr>\n",
       "    <tr>\n",
       "      <th>Time</th>\n",
       "      <th></th>\n",
       "      <th></th>\n",
       "    </tr>\n",
       "  </thead>\n",
       "  <tbody>\n",
       "    <tr>\n",
       "      <th>2019-05-16 06:00:00</th>\n",
       "      <td>266.633118</td>\n",
       "      <td>383.140015</td>\n",
       "    </tr>\n",
       "    <tr>\n",
       "      <th>2019-05-16 07:00:00</th>\n",
       "      <td>307.559937</td>\n",
       "      <td>408.039978</td>\n",
       "    </tr>\n",
       "    <tr>\n",
       "      <th>2019-05-16 08:00:00</th>\n",
       "      <td>331.507141</td>\n",
       "      <td>419.700012</td>\n",
       "    </tr>\n",
       "    <tr>\n",
       "      <th>2019-05-16 09:00:00</th>\n",
       "      <td>339.836426</td>\n",
       "      <td>426.459991</td>\n",
       "    </tr>\n",
       "    <tr>\n",
       "      <th>2019-05-16 10:00:00</th>\n",
       "      <td>342.613068</td>\n",
       "      <td>425.779999</td>\n",
       "    </tr>\n",
       "    <tr>\n",
       "      <th>...</th>\n",
       "      <td>...</td>\n",
       "      <td>...</td>\n",
       "    </tr>\n",
       "    <tr>\n",
       "      <th>2019-05-20 19:00:00</th>\n",
       "      <td>343.134888</td>\n",
       "      <td>429.000000</td>\n",
       "    </tr>\n",
       "    <tr>\n",
       "      <th>2019-05-20 20:00:00</th>\n",
       "      <td>341.870300</td>\n",
       "      <td>427.820007</td>\n",
       "    </tr>\n",
       "    <tr>\n",
       "      <th>2019-05-20 21:00:00</th>\n",
       "      <td>340.407135</td>\n",
       "      <td>422.239990</td>\n",
       "    </tr>\n",
       "    <tr>\n",
       "      <th>2019-05-20 22:00:00</th>\n",
       "      <td>335.601410</td>\n",
       "      <td>420.670013</td>\n",
       "    </tr>\n",
       "    <tr>\n",
       "      <th>2019-05-20 23:00:00</th>\n",
       "      <td>334.628632</td>\n",
       "      <td>417.829987</td>\n",
       "    </tr>\n",
       "  </tbody>\n",
       "</table>\n",
       "<p>114 rows × 2 columns</p>\n",
       "</div>"
      ],
      "text/plain": [
       "                       Forecast        Real\n",
       "Time                                       \n",
       "2019-05-16 06:00:00  266.633118  383.140015\n",
       "2019-05-16 07:00:00  307.559937  408.039978\n",
       "2019-05-16 08:00:00  331.507141  419.700012\n",
       "2019-05-16 09:00:00  339.836426  426.459991\n",
       "2019-05-16 10:00:00  342.613068  425.779999\n",
       "...                         ...         ...\n",
       "2019-05-20 19:00:00  343.134888  429.000000\n",
       "2019-05-20 20:00:00  341.870300  427.820007\n",
       "2019-05-20 21:00:00  340.407135  422.239990\n",
       "2019-05-20 22:00:00  335.601410  420.670013\n",
       "2019-05-20 23:00:00  334.628632  417.829987\n",
       "\n",
       "[114 rows x 2 columns]"
      ]
     },
     "execution_count": 882,
     "metadata": {},
     "output_type": "execute_result"
    }
   ],
   "source": [
    "df_test = np.concatenate((np.reshape(test_forecast,(test_forecast.shape[0], 1)), \n",
    "                           np.reshape(Y_test, (Y_test.shape[0], 1))), \n",
    "                          axis=1)\n",
    "df_test = pd.DataFrame(df_test, columns=['Forecast', 'Real'])\n",
    "df_test = df_test.set_index(df_price_hydro[pd.to_datetime(datetime(2019, 5, 16, 6)):pd.\n",
    "               to_datetime(datetime(2019, 5, 20, 23))].index)\n",
    "\n",
    "df_test"
   ]
  },
  {
   "cell_type": "code",
   "execution_count": 884,
   "metadata": {},
   "outputs": [
    {
     "data": {
      "text/plain": [
       "(0, 450)"
      ]
     },
     "execution_count": 884,
     "metadata": {},
     "output_type": "execute_result"
    },
    {
     "data": {
      "text/plain": [
       "<Figure size 864x432 with 0 Axes>"
      ]
     },
     "metadata": {},
     "output_type": "display_data"
    },
    {
     "data": {
      "image/png": "[encoded data removed]",
      "text/plain": [
       "<Figure size 432x288 with 1 Axes>"
      ]
     },
     "metadata": {
      "needs_background": "light"
     },
     "output_type": "display_data"
    }
   ],
   "source": [
    "df_test.plot()\n",
    "plt.ylim([0, 450])"
   ]
  },
  {
   "cell_type": "markdown",
   "metadata": {},
   "source": [
    "The above plot shows that the LSTM model well captured the trend and seasonality of the prices in the test data, despite that there is a gap between the forecasted and real prices. "
   ]
  },
  {
   "cell_type": "markdown",
   "metadata": {},
   "source": [
    "### Forecast power price for week 50 in 2019\n",
    "The 50 week in 2019 starts from 2019-12-09 to 2019-12-15. The process is quite identical to the above steps for forecasting prices for 16.5 to 20.5."
   ]
  },
  {
   "cell_type": "code",
   "execution_count": 886,
   "metadata": {},
   "outputs": [],
   "source": [
    "dataset = df_price_hydro[:pd.to_datetime(datetime(2019, 12, 15, 23))].values\n",
    "dataset = dataset.astype('float32')"
   ]
  },
  {
   "cell_type": "code",
   "execution_count": 887,
   "metadata": {},
   "outputs": [],
   "source": [
    "# scale the data since data in different columns have quite different scales\n",
    "scaler = MinMaxScaler()\n",
    "dataset = scaler.fit_transform(dataset)"
   ]
  },
  {
   "cell_type": "code",
   "execution_count": 889,
   "metadata": {},
   "outputs": [
    {
     "data": {
      "text/plain": [
       "(60792, 168)"
      ]
     },
     "execution_count": 889,
     "metadata": {},
     "output_type": "execute_result"
    }
   ],
   "source": [
    "# split the data into train and test\n",
    "test_size = len(df_price_hydro[pd.to_datetime(datetime(2019, 12, 9, 0)):pd.\n",
    "                               to_datetime(datetime(2019, 12, 15, 23))])\n",
    "train_size = len(dataset) - test_size\n",
    "\n",
    "train_size, test_size"
   ]
  },
  {
   "cell_type": "code",
   "execution_count": 890,
   "metadata": {},
   "outputs": [],
   "source": [
    "train, test = dataset[0:train_size, :], dataset[train_size:len(dataset), :]"
   ]
  },
  {
   "cell_type": "code",
   "execution_count": 891,
   "metadata": {},
   "outputs": [],
   "source": [
    "# use previous 5 values for forecasting\n",
    "lookback = 5\n",
    "X_train, Y_train = get_XY(train, lookback)\n",
    "X_test, Y_test = get_XY(test, lookback)\n",
    "# reshape the data to (sample, lookback, features)\n",
    "X_train = np.reshape(X_train, (X_train.shape[0], lookback, nfeatures))\n",
    "X_test = np.reshape(X_test, (X_test.shape[0], lookback, nfeatures))"
   ]
  },
  {
   "cell_type": "code",
   "execution_count": 892,
   "metadata": {},
   "outputs": [],
   "source": [
    "# create a simple LSTM model\n",
    "LSTM_model = Sequential()\n",
    "LSTM_model.add(\n",
    "    LSTM(50, input_shape=(X_train.shape[1], X_train.shape[2]), dropout=0.2))\n",
    "LSTM_model.add(Dense(1))\n",
    "LSTM_model.compile(loss=\"mean_squared_error\", optimizer=\"adam\")"
   ]
  },
  {
   "cell_type": "code",
   "execution_count": 893,
   "metadata": {},
   "outputs": [
    {
     "name": "stdout",
     "output_type": "stream",
     "text": [
      "Train on 60786 samples, validate on 162 samples\n",
      "Epoch 1/20\n",
      "60786/60786 [==============================] - 27s 446us/step - loss: 7.1144e-04 - val_loss: 1.6488e-04\n",
      "Epoch 2/20\n",
      "60786/60786 [==============================] - 28s 467us/step - loss: 6.5204e-04 - val_loss: 1.9302e-04\n",
      "Epoch 3/20\n",
      "60786/60786 [==============================] - 28s 467us/step - loss: 6.6137e-04 - val_loss: 2.2829e-04\n",
      "Epoch 4/20\n",
      "60786/60786 [==============================] - 28s 454us/step - loss: 6.5957e-04 - val_loss: 2.5978e-046152e-0 - ETA: 0s - loss: 6.6\n",
      "Epoch 5/20\n",
      "60786/60786 [==============================] - 28s 453us/step - loss: 6.5175e-04 - val_loss: 2.8426e-04loss: 6.5367\n",
      "Epoch 6/20\n",
      "60786/60786 [==============================] - 30s 497us/step - loss: 6.1309e-04 - val_loss: 2.4212e-04\n",
      "Epoch 7/20\n",
      "60786/60786 [==============================] - 28s 466us/step - loss: 5.6430e-04 - val_loss: 8.8318e-05\n",
      "Epoch 8/20\n",
      "60786/60786 [==============================] - 29s 472us/step - loss: 5.0041e-04 - val_loss: 1.4659e-04\n",
      "Epoch 9/20\n",
      "60786/60786 [==============================] - 30s 486us/step - loss: 4.3765e-04 - val_loss: 2.1942e-04\n",
      "Epoch 10/20\n",
      "60786/60786 [==============================] - 30s 486us/step - loss: 3.7131e-04 - val_loss: 3.8950e-04\n",
      "Epoch 11/20\n",
      "60786/60786 [==============================] - 32s 529us/step - loss: 3.5844e-04 - val_loss: 7.0041e-04\n",
      "Epoch 12/20\n",
      "60786/60786 [==============================] - 30s 486us/step - loss: 3.2912e-04 - val_loss: 8.6837e-04s - loss: 3.2930e-0\n",
      "Epoch 13/20\n",
      "60786/60786 [==============================] - 30s 497us/step - loss: 3.3271e-04 - val_loss: 8.2263e-04\n",
      "Epoch 14/20\n",
      "60786/60786 [==============================] - 31s 502us/step - loss: 3.0434e-04 - val_loss: 0.0011\n",
      "Epoch 15/20\n",
      "60786/60786 [==============================] - ETA: 0s - loss: 3.0495e-04  ETA: 11s - loss: 2.85 - ETA: 11s - loss: 2.8512 - ETA: 11s -  - 33s 538us/step - loss: 3.0459e-04 - val_loss: 0.0010\n",
      "Epoch 16/20\n",
      "60786/60786 [==============================] - 31s 518us/step - loss: 2.8194e-04 - val_loss: 0.0010\n",
      "Epoch 17/20\n",
      "60786/60786 [==============================] - 30s 487us/step - loss: 2.9211e-04 - val_loss: 0.0010 - ETA: 0s - loss: 2.9474 - ETA: 0s - loss\n"
     ]
    }
   ],
   "source": [
    "# fit the LSTM model\n",
    "LSTM_history = LSTM_model.fit(\n",
    "    X_train,\n",
    "    Y_train,\n",
    "    epochs=20,\n",
    "    batch_size=50,\n",
    "    validation_data=(X_test, Y_test),\n",
    "    callbacks=[EarlyStopping(monitor='val_loss', patience=10)],\n",
    "    verbose=1,\n",
    "    shuffle=False)"
   ]
  },
  {
   "cell_type": "code",
   "execution_count": 894,
   "metadata": {},
   "outputs": [
    {
     "data": {
      "image/png": "[encoded data removed]",
      "text/plain": [
       "<Figure size 576x288 with 1 Axes>"
      ]
     },
     "metadata": {
      "needs_background": "light"
     },
     "output_type": "display_data"
    }
   ],
   "source": [
    "plt.figure(figsize=(8, 4))\n",
    "plt.plot(LSTM_history.history['loss'], label='train')\n",
    "plt.plot(LSTM_history.history['val_loss'], label='test')\n",
    "plt.legend(loc='upper right')\n",
    "plt.show()"
   ]
  },
  {
   "cell_type": "markdown",
   "metadata": {},
   "source": [
    "The loss is quite similar with previous LSTM model. The loss of the train data drops with longer training, while that for the test data does not. Perhaps the test data has too few samples. "
   ]
  },
  {
   "cell_type": "code",
   "execution_count": 895,
   "metadata": {},
   "outputs": [],
   "source": [
    "# get the forecasted prices\n",
    "train_forecast = LSTM_model.predict(X_train)\n",
    "test_forecast = LSTM_model.predict(X_test)\n",
    "train_forecast = scaler.inverse_transform(\n",
    "    np.concatenate((train_forecast, train[lookback + 1:, 1:]), axis=1))[:, 0]\n",
    "Y_train = np.reshape(Y_train, (Y_train.shape[0], 1))\n",
    "Y_train = scaler.inverse_transform(\n",
    "    np.concatenate((Y_train, train[lookback + 1:, 1:]), axis=1))[:, 0]\n",
    "test_forecast = scaler.inverse_transform(\n",
    "    np.concatenate((test_forecast, test[lookback + 1:, 1:]), axis=1))[:, 0]\n",
    "Y_test = np.reshape(Y_test, (Y_test.shape[0], 1))\n",
    "Y_test = scaler.inverse_transform(\n",
    "    np.concatenate((Y_test, test[lookback + 1:, 1:]), axis=1))[:, 0]"
   ]
  },
  {
   "cell_type": "code",
   "execution_count": 896,
   "metadata": {},
   "outputs": [
    {
     "name": "stdout",
     "output_type": "stream",
     "text": [
      "Mean absolute percentage error: train 0.2992374002933502, test 0.19823625683784485.\n"
     ]
    }
   ],
   "source": [
    "# evaluate the performance of the LSTM model using MAPE\n",
    "mape_train = np.mean(np.abs(Y_train - train_forecast) / np.abs(Y_train))\n",
    "mape_test = np.mean(np.abs(Y_test - test_forecast) / np.abs(Y_test))\n",
    "print('Mean absolute percentage error: train {}, test {}.'.format(mape_train, mape_test))"
   ]
  },
  {
   "cell_type": "markdown",
   "metadata": {},
   "source": [
    "Now take a comparison of the forecated prices and real prices for week 50 with a plot."
   ]
  },
  {
   "cell_type": "code",
   "execution_count": 898,
   "metadata": {},
   "outputs": [],
   "source": [
    "df_test = np.concatenate((np.reshape(test_forecast,(test_forecast.shape[0], 1)), \n",
    "                           np.reshape(Y_test, (Y_test.shape[0], 1))), \n",
    "                          axis=1)\n",
    "df_test = pd.DataFrame(df_test, columns=['Forecast', 'Real'])\n",
    "df_test = df_test.set_index(df_price_hydro[pd.to_datetime(datetime(2019, 12, 9, 6)):pd.\n",
    "               to_datetime(datetime(2019, 12, 15, 23))].index)"
   ]
  },
  {
   "cell_type": "code",
   "execution_count": 902,
   "metadata": {},
   "outputs": [
    {
     "data": {
      "text/plain": [
       "(0, 600)"
      ]
     },
     "execution_count": 902,
     "metadata": {},
     "output_type": "execute_result"
    },
    {
     "data": {
      "image/png": "[encoded data removed]",
      "text/plain": [
       "<Figure size 432x288 with 1 Axes>"
      ]
     },
     "metadata": {
      "needs_background": "light"
     },
     "output_type": "display_data"
    }
   ],
   "source": [
    "df_test.plot()\n",
    "plt.ylim([0, 600])"
   ]
  },
  {
   "cell_type": "markdown",
   "metadata": {},
   "source": [
    "Like the forecast for 16.5 to 20.5, this LSTM model can also capture the pattern of the price data in week 50, and also there is a gap between the forecasted prices and real prices."
   ]
  },
  {
   "cell_type": "markdown",
   "metadata": {},
   "source": [
    "### Discussion\n",
    "\n",
    "This assignment uses historical power price data and data of hydro reservoir level to forecast power prices for the next day(s).\n",
    "\n",
    "In the first part, only price data was used to forecast a daily price in a day-ahead manner. The historic price data fluctuates with unclear trend and seasonality. Therefore, ARIMA model was used for forecasting since it performs well on such data. The results demonstrated its performance, showing that the forecasting accuracy in terms of MAPE is around 95%.\n",
    "\n",
    "In the seond part, the hydro data was combined together with the price data. Unlike the price data, the hydro levels in both Norway and Sweden show strong seasonality. Three features - Power price, Hydro level in Norway and Hydro level in Sweden were used to train the LSTM model. The training took much longer than traing the ARIMA model, but the performance is not better. It is likely because that the hyper parameters are not well set and the data is not properly split.\n",
    "\n",
    "\n",
    "### Potential improvement on the models\n",
    "\n",
    "For the ARIMA model, it can only forecast one step forward. There might be already methods that can predict several future prices at the same time. In addition, the three parameters can also be fine-tuned for better forecasting capability.\n",
    "\n",
    "For the LSTM model, there are way to many things can be done to get better performance besides bettwe data split, training, evaluation, hyper-parameter tuning. Including more data like weather, other energy source like oil price, etc., health of power grid, can also further improve its forecasting capability. \n",
    "\n",
    "Also, there are some extreme prices, i.e. outliers, in the data. They were not handled so far. Properly dealing the outliers may benefit as well. \n",
    "\n",
    "\n"
   ]
  },
  {
   "cell_type": "code",
   "execution_count": null,
   "metadata": {},
   "outputs": [],
   "source": []
  }
 ],
 "metadata": {
  "kernelspec": {
   "display_name": "Python 3",
   "language": "python",
   "name": "python3"
  },
  "language_info": {
   "codemirror_mode": {
    "name": "ipython",
    "version": 3
   },
   "file_extension": ".py",
   "mimetype": "text/x-python",
   "name": "python",
   "nbconvert_exporter": "python",
   "pygments_lexer": "ipython3",
   "version": "3.7.5"
  }
 },
 "nbformat": 4,
 "nbformat_minor": 2
}
